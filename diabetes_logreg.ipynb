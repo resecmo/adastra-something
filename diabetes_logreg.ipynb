{
 "cells": [
  {
   "cell_type": "code",
   "execution_count": 1,
   "id": "85b3ba91-b16e-4dda-ba9a-45521d5abc31",
   "metadata": {},
   "outputs": [],
   "source": [
    "import numpy as np\n",
    "import pandas as pd\n",
    "\n",
    "import matplotlib\n",
    "import matplotlib.pyplot as plt\n",
    "\n",
    "import glob\n",
    "import random\n",
    "import re\n",
    "import subprocess\n",
    "\n",
    "from tqdm import tqdm"
   ]
  },
  {
   "cell_type": "markdown",
   "id": "c6f322cc-ae24-4c5c-995b-89eac0869753",
   "metadata": {},
   "source": [
    "## Patients table"
   ]
  },
  {
   "cell_type": "code",
   "execution_count": 2,
   "id": "bb96474a-3811-417a-893f-3214467b306f",
   "metadata": {},
   "outputs": [],
   "source": [
    "'''\n",
    "'Crohn disease': K50\n",
    "'Ulcerative colitis': K51\n",
    "'Type II diabetes': E11\n",
    "'Breast cancer (selected using MutPanning26)': C50? Malignant neoplasms of breast\n",
    "'''\n",
    "\n",
    "diseases = [\n",
    "    ('crohn', 'K50'),\n",
    "    ('ulcerative_colitis', 'K51'),\n",
    "    ('type_ii_diabetes', 'E11'),\n",
    "    ('breast_cancer', 'C50')\n",
    "]"
   ]
  },
  {
   "cell_type": "code",
   "execution_count": 3,
   "id": "1c614434-3b51-4a45-8a9b-03f31fa77a86",
   "metadata": {},
   "outputs": [
    {
     "data": {
      "text/plain": [
       "''"
      ]
     },
     "execution_count": 3,
     "metadata": {},
     "output_type": "execute_result"
    }
   ],
   "source": [
    "'''\n",
    "with open('test.csv', 'w') as f:\n",
    "    cat = subprocess.Popen([\"cat\", \"/home/vasikam/ukb_public_diagnoses.csv\"],\n",
    "                           stdout=subprocess.PIPE)\n",
    "    hd = subprocess.Popen([\"wc\"], stdin=cat.stdout, stdout=f)\n",
    "    \n",
    "with open(\"test.txt\", \"w\") as f:\n",
    "    a = subprocess.Popen([\"echo\", \"e\\nsd\"], stdout=subprocess.PIPE)\n",
    "    b = subprocess.Popen([\"head\", \"-c\", \"2\"], stdin=a.stdout, stdout=f)\n",
    "''' \n",
    "''\n",
    "# for some reason i was unable to get this working, hence the following cell"
   ]
  },
  {
   "cell_type": "code",
   "execution_count": 4,
   "id": "11a13f52-7d1f-49d1-b9b4-b0b3f8103c8e",
   "metadata": {},
   "outputs": [
    {
     "name": "stdout",
     "output_type": "stream",
     "text": [
      "cat: write error: Broken pipe\n",
      "cat: write error: Broken pipe\n",
      "cat: write error: Broken pipe\n",
      "cat: write error: Broken pipe\n"
     ]
    }
   ],
   "source": [
    "for disease, ICD in diseases:\n",
    "    output_filename = f'../patients-csvs/{disease}_patients.csv'\n",
    "    !cat ../ukbiobank_link/tables/ukb_public_diagnoses.csv | head -n 1 > $output_filename\n",
    "    !cat ../ukbiobank_link/tables/ukb_public_diagnoses.csv | grep $ICD >> $output_filename"
   ]
  },
  {
   "cell_type": "code",
   "execution_count": 5,
   "id": "37be0c2b-3b49-459d-9182-b59ae550df6d",
   "metadata": {},
   "outputs": [
    {
     "name": "stdout",
     "output_type": "stream",
     "text": [
      "       eid  diagnosis_number diagnosis              diagnosis_date  \\\n",
      "0  1002586                 8      K500  2015-03-26 00:00:00.000000   \n",
      "1  1006327                16      K501  2014-06-19 00:00:00.000000   \n",
      "2  1006327                17      K509  2019-02-17 00:00:00.000000   \n",
      "\n",
      "  icd_classification  \n",
      "0              ICD10  \n",
      "1              ICD10  \n",
      "2              ICD10  \n",
      "       eid  diagnosis_number diagnosis              diagnosis_date  \\\n",
      "0  1000871                 6      K513  2010-10-21 00:00:00.000000   \n",
      "1  1000871                 7      K519  2001-07-31 00:00:00.000000   \n",
      "2  1001144                 1      K519  2013-09-27 00:00:00.000000   \n",
      "\n",
      "  icd_classification  \n",
      "0              ICD10  \n",
      "1              ICD10  \n",
      "2              ICD10  \n",
      "       eid  diagnosis_number diagnosis              diagnosis_date  \\\n",
      "0  1000101                 0      E119  2020-03-18 00:00:00.000000   \n",
      "1  1000174                 0      E119  2012-04-11 00:00:00.000000   \n",
      "2  1000193                 1      E119  2005-08-01 00:00:00.000000   \n",
      "\n",
      "  icd_classification  \n",
      "0              ICD10  \n",
      "1              ICD10  \n",
      "2              ICD10  \n",
      "       eid  diagnosis_number diagnosis              diagnosis_date  \\\n",
      "0  1000578                 0      C505  2010-03-29 00:00:00.000000   \n",
      "1  1000839                 0      C509  2017-07-24 00:00:00.000000   \n",
      "2  1001378                 0      C504  2006-06-15 00:00:00.000000   \n",
      "\n",
      "  icd_classification  \n",
      "0              ICD10  \n",
      "1              ICD10  \n",
      "2              ICD10  \n"
     ]
    }
   ],
   "source": [
    "patients_df = {}\n",
    "for disease, ICD in diseases:\n",
    "    csv_filename = f'../patients-csvs/{disease}_patients.csv'\n",
    "    patients_df[disease] = pd.read_csv(csv_filename)\n",
    "    print(patients_df[disease].head(3))"
   ]
  },
  {
   "cell_type": "code",
   "execution_count": 6,
   "id": "914ec745-7497-4ee1-82f3-107247523bc6",
   "metadata": {},
   "outputs": [
    {
     "name": "stdout",
     "output_type": "stream",
     "text": [
      "crohn ['K500' 'K501' 'K508' 'K509']\n",
      "ulcerative_colitis ['K510' 'K511' 'K512' 'K513' 'K514' 'K515' 'K518' 'K519']\n",
      "type_ii_diabetes ['E110' 'E111' 'E112' 'E113' 'E114' 'E115' 'E116' 'E117' 'E118' 'E119']\n",
      "breast_cancer ['C500' 'C501' 'C502' 'C503' 'C504' 'C505' 'C506' 'C508' 'C509']\n"
     ]
    }
   ],
   "source": [
    "for disease, ICD in diseases:\n",
    "    print(disease, np.unique(patients_df[disease]['diagnosis'].values))"
   ]
  },
  {
   "cell_type": "code",
   "execution_count": 7,
   "id": "e39f0f69-c105-4fe5-be91-e5020f05f1f8",
   "metadata": {},
   "outputs": [
    {
     "name": "stdout",
     "output_type": "stream",
     "text": [
      "4216 2832\n",
      "7196 5211\n",
      "45504 38993\n",
      "20980 17241\n"
     ]
    }
   ],
   "source": [
    "disease_eids = {}\n",
    "for disease, ICD in diseases:\n",
    "    csv_filename = f'../patients-csvs/{disease}_patients.csv'\n",
    "    disease_eids[disease] = pd.read_csv(csv_filename)['eid'].values\n",
    "    print(len(disease_eids[disease]), len(set(disease_eids[disease])))\n",
    "    \n",
    "# These results show that eids repeat\n",
    "# One patients can have several codes from one group (e.g. K500+K508)"
   ]
  },
  {
   "cell_type": "code",
   "execution_count": 8,
   "id": "bd3691e7-625e-4e58-9fdd-2a5d4022fcee",
   "metadata": {},
   "outputs": [
    {
     "name": "stdout",
     "output_type": "stream",
     "text": [
      "crohn\t2832\t[2506753, 5513220, 5627913]\n",
      "ulcerative_colitis\t5211\t[2621447, 3276807, 3833870]\n",
      "type_ii_diabetes\t38993\t[4063233, 5767170, 5898249]\n",
      "breast_cancer\t17241\t[1998853, 4456453, 3506187]\n"
     ]
    }
   ],
   "source": [
    "disease_eids = {}\n",
    "vcf_cols = {}\n",
    "for disease, ICD in diseases:\n",
    "    csv_filename = f'../patients-csvs/{disease}_patients.csv'\n",
    "    disease_eids[disease] = set(pd.read_csv(csv_filename)['eid'].values)\n",
    "    #vcf_cols[disease] = [str(i) + '_' + str(i) for i in disease_eids[disease]]\n",
    "    #diabetes_eids\n",
    "    print(disease, len(disease_eids[disease]), list(disease_eids[disease])[:3], sep='\\t')"
   ]
  },
  {
   "cell_type": "markdown",
   "id": "b7861cbc-fe32-415e-8e26-1bc90c91b43a",
   "metadata": {
    "tags": []
   },
   "source": [
    "## VCFs"
   ]
  },
  {
   "cell_type": "code",
   "execution_count": 9,
   "id": "897d0f6a-e55a-4535-880c-065636cde15b",
   "metadata": {},
   "outputs": [],
   "source": [
    "chroms = list(range(1, 23)) + ['X', 'XY', 'Y', 'MT']"
   ]
  },
  {
   "cell_type": "markdown",
   "id": "f2f02cec-6ed8-42b4-b93b-fcccf8b550d0",
   "metadata": {
    "tags": []
   },
   "source": [
    "### playing with stuff"
   ]
  },
  {
   "cell_type": "code",
   "execution_count": 10,
   "id": "8016ad0a-2d4a-47b7-8c86-6d0591b22ff2",
   "metadata": {},
   "outputs": [],
   "source": [
    "test_ensure_equal_patients = False\n",
    "if test_ensure_equal_patients:\n",
    "    patients_for_chr = {}\n",
    "    for n_chr in chroms:\n",
    "        vcf_filename = f'../ukbiobank_link/raw_data/ukb22418_c{n_chr}_b0_v2.vcf'\n",
    "        r = pd.read_csv(\n",
    "            vcf_filename,\n",
    "            skiprows=range(6), \n",
    "            sep='\\t',\n",
    "            chunksize=1\n",
    "        )\n",
    "        patients_for_chr[n_chr] = [s[:len(s)//2] for s in next(r).columns[9:]]\n",
    "        print(f\"appended chr {n_chr} patients\")\n",
    "    \n",
    "    print([i == patients_for_chr[1] for _, i in patients_for_chr.items()])\n",
    "    assert [i == patients_for_chr[1] for _, i in patients_for_chr.items()] == [True]*26"
   ]
  },
  {
   "cell_type": "markdown",
   "id": "65a283e7-b096-462c-bb82-05c1c618eb11",
   "metadata": {},
   "source": [
    "### Patients sampling"
   ]
  },
  {
   "cell_type": "code",
   "execution_count": 11,
   "id": "9361617a-826a-4f72-b1c5-3bb2f7912a26",
   "metadata": {},
   "outputs": [],
   "source": [
    "smallest_vcf_location = \"../biobank_extracted/extracted_snps_c6_w500.vcf\"\n",
    "\n",
    "r = pd.read_csv(\n",
    "    smallest_vcf_location, \n",
    "    skiprows=range(6), \n",
    "    #usecols=['5825360_5825360', '5467150_5467150'],\n",
    "    sep='\\t',\n",
    "    chunksize=1\n",
    ")"
   ]
  },
  {
   "cell_type": "code",
   "execution_count": 12,
   "id": "efeb0f98-4953-4e51-a2ce-9917acfd48da",
   "metadata": {},
   "outputs": [
    {
     "data": {
      "text/html": [
       "<div>\n",
       "<style scoped>\n",
       "    .dataframe tbody tr th:only-of-type {\n",
       "        vertical-align: middle;\n",
       "    }\n",
       "\n",
       "    .dataframe tbody tr th {\n",
       "        vertical-align: top;\n",
       "    }\n",
       "\n",
       "    .dataframe thead th {\n",
       "        text-align: right;\n",
       "    }\n",
       "</style>\n",
       "<table border=\"1\" class=\"dataframe\">\n",
       "  <thead>\n",
       "    <tr style=\"text-align: right;\">\n",
       "      <th></th>\n",
       "      <th>#CHROM</th>\n",
       "      <th>POS</th>\n",
       "      <th>ID</th>\n",
       "      <th>REF</th>\n",
       "      <th>ALT</th>\n",
       "      <th>QUAL</th>\n",
       "      <th>FILTER</th>\n",
       "      <th>INFO</th>\n",
       "      <th>FORMAT</th>\n",
       "      <th>2821142_2821142</th>\n",
       "      <th>...</th>\n",
       "      <th>5825360_5825360</th>\n",
       "      <th>1846399_1846399</th>\n",
       "      <th>1814390_1814390</th>\n",
       "      <th>5349403_5349403</th>\n",
       "      <th>5944723_5944723</th>\n",
       "      <th>4913903_4913903</th>\n",
       "      <th>3647765_3647765</th>\n",
       "      <th>5467150_5467150</th>\n",
       "      <th>5593902_5593902</th>\n",
       "      <th>2338527_2338527</th>\n",
       "    </tr>\n",
       "  </thead>\n",
       "  <tbody>\n",
       "    <tr>\n",
       "      <th>0</th>\n",
       "      <td>6</td>\n",
       "      <td>30029109</td>\n",
       "      <td>rs7770557</td>\n",
       "      <td>C</td>\n",
       "      <td>G</td>\n",
       "      <td>.</td>\n",
       "      <td>.</td>\n",
       "      <td>PR</td>\n",
       "      <td>GT</td>\n",
       "      <td>0/0</td>\n",
       "      <td>...</td>\n",
       "      <td>0/0</td>\n",
       "      <td>0/0</td>\n",
       "      <td>0/1</td>\n",
       "      <td>0/0</td>\n",
       "      <td>0/1</td>\n",
       "      <td>0/1</td>\n",
       "      <td>0/0</td>\n",
       "      <td>0/1</td>\n",
       "      <td>0/0</td>\n",
       "      <td>0/0</td>\n",
       "    </tr>\n",
       "  </tbody>\n",
       "</table>\n",
       "<p>1 rows × 488386 columns</p>\n",
       "</div>"
      ],
      "text/plain": [
       "   #CHROM       POS         ID REF ALT QUAL FILTER INFO FORMAT  \\\n",
       "0       6  30029109  rs7770557   C   G    .      .   PR     GT   \n",
       "\n",
       "  2821142_2821142  ... 5825360_5825360 1846399_1846399 1814390_1814390  \\\n",
       "0             0/0  ...             0/0             0/0             0/1   \n",
       "\n",
       "  5349403_5349403 5944723_5944723 4913903_4913903 3647765_3647765  \\\n",
       "0             0/0             0/1             0/1             0/0   \n",
       "\n",
       "  5467150_5467150 5593902_5593902 2338527_2338527  \n",
       "0             0/1             0/0             0/0  \n",
       "\n",
       "[1 rows x 488386 columns]"
      ]
     },
     "execution_count": 12,
     "metadata": {},
     "output_type": "execute_result"
    }
   ],
   "source": [
    "one_row = next(r)\n",
    "first_cols = list(one_row.columns[:9])\n",
    "one_row"
   ]
  },
  {
   "cell_type": "code",
   "execution_count": 13,
   "id": "f37924c3-4a92-4873-aa70-2ffc091f1abe",
   "metadata": {},
   "outputs": [
    {
     "data": {
      "text/plain": [
       "['#CHROM', 'POS', 'ID', 'REF', 'ALT', 'QUAL', 'FILTER', 'INFO', 'FORMAT']"
      ]
     },
     "execution_count": 13,
     "metadata": {},
     "output_type": "execute_result"
    }
   ],
   "source": [
    "first_cols"
   ]
  },
  {
   "cell_type": "code",
   "execution_count": 14,
   "id": "2b977bd3-4bdc-4b85-a177-10baa1af761d",
   "metadata": {},
   "outputs": [
    {
     "data": {
      "text/html": [
       "<div>\n",
       "<style scoped>\n",
       "    .dataframe tbody tr th:only-of-type {\n",
       "        vertical-align: middle;\n",
       "    }\n",
       "\n",
       "    .dataframe tbody tr th {\n",
       "        vertical-align: top;\n",
       "    }\n",
       "\n",
       "    .dataframe thead th {\n",
       "        text-align: right;\n",
       "    }\n",
       "</style>\n",
       "<table border=\"1\" class=\"dataframe\">\n",
       "  <thead>\n",
       "    <tr style=\"text-align: right;\">\n",
       "      <th></th>\n",
       "      <th>all</th>\n",
       "      <th>healthy</th>\n",
       "      <th>ill</th>\n",
       "      <th>missing in vcf</th>\n",
       "    </tr>\n",
       "  </thead>\n",
       "  <tbody>\n",
       "    <tr>\n",
       "      <th>crohn</th>\n",
       "      <td>488377</td>\n",
       "      <td>485647</td>\n",
       "      <td>2730</td>\n",
       "      <td>102</td>\n",
       "    </tr>\n",
       "    <tr>\n",
       "      <th>ulcerative_colitis</th>\n",
       "      <td>488377</td>\n",
       "      <td>483310</td>\n",
       "      <td>5067</td>\n",
       "      <td>144</td>\n",
       "    </tr>\n",
       "    <tr>\n",
       "      <th>type_ii_diabetes</th>\n",
       "      <td>488377</td>\n",
       "      <td>450775</td>\n",
       "      <td>37602</td>\n",
       "      <td>1391</td>\n",
       "    </tr>\n",
       "    <tr>\n",
       "      <th>breast_cancer</th>\n",
       "      <td>488377</td>\n",
       "      <td>471997</td>\n",
       "      <td>16380</td>\n",
       "      <td>861</td>\n",
       "    </tr>\n",
       "  </tbody>\n",
       "</table>\n",
       "</div>"
      ],
      "text/plain": [
       "                       all healthy    ill missing in vcf\n",
       "crohn               488377  485647   2730            102\n",
       "ulcerative_colitis  488377  483310   5067            144\n",
       "type_ii_diabetes    488377  450775  37602           1391\n",
       "breast_cancer       488377  471997  16380            861"
      ]
     },
     "execution_count": 14,
     "metadata": {},
     "output_type": "execute_result"
    }
   ],
   "source": [
    "patients_stat_table = pd.DataFrame(index=(disease for disease, _ in diseases),\n",
    "                                   columns=['all', 'healthy', 'ill', 'missing in vcf'])\n",
    "\n",
    "vcf_all_eids = {int(s[:len(s)//2]) for s in one_row.columns[9:]}\n",
    "healthy_eids = {}\n",
    "missing_eids = {}\n",
    "disease_used_eids = {}\n",
    "\n",
    "for disease, ICD in diseases:\n",
    "    healthy_eids[disease] = vcf_all_eids - disease_eids[disease]\n",
    "    missing_eids[disease] = disease_eids[disease] - vcf_all_eids\n",
    "    disease_used_eids[disease] = disease_eids[disease] - missing_eids[disease]\n",
    "    \n",
    "    patients_stat_table['all'][disease] = len(vcf_all_eids)\n",
    "    patients_stat_table['healthy'][disease] = len(healthy_eids[disease])\n",
    "    patients_stat_table['ill'][disease] = len(disease_used_eids[disease])\n",
    "    patients_stat_table['missing in vcf'][disease] = len(missing_eids[disease])  # those that are found in ICD data, but not in genotype data\n",
    "    \n",
    "    \n",
    "#patients_stat_table['sum'] = patients_stat_table['healthy'] + patients_stat_table['ill'] + 0*patients_stat_table['missing in vcf']\n",
    "patients_stat_table"
   ]
  },
  {
   "cell_type": "code",
   "execution_count": 15,
   "id": "a2e46276-0efe-4a5a-934a-c448b06df7f0",
   "metadata": {},
   "outputs": [
    {
     "name": "stdout",
     "output_type": "stream",
     "text": [
      "2730 485647 crohn\n",
      "5067 483310 ulcerative_colitis\n",
      "37602 450775 type_ii_diabetes\n",
      "16380 471997 breast_cancer\n"
     ]
    }
   ],
   "source": [
    "disease_cols = {}\n",
    "healthy_cols = {}\n",
    "\n",
    "for disease, ICD in diseases:\n",
    "    disease_cols[disease] = [str(x) + '_' + str(x) for x in disease_used_eids[disease]]\n",
    "    healthy_cols[disease] = [str(x) + '_' + str(x) for x in healthy_eids[disease]]\n",
    "\n",
    "    print(len(disease_cols[disease]), len(healthy_cols[disease]), disease)"
   ]
  },
  {
   "cell_type": "code",
   "execution_count": 16,
   "id": "619233ec-606c-417d-bee4-1ea43d7338ab",
   "metadata": {},
   "outputs": [],
   "source": [
    "for trait, ICD in diseases:\n",
    "    pheno_filename = f'../patients-csvs/{trait}_patients.pheno'\n",
    "    with open(pheno_filename, 'w') as out_file:\n",
    "        for healthy_eid in healthy_eids[trait]:\n",
    "            print(healthy_eid, healthy_eid, \"1\", sep='\\t', file=out_file)\n",
    "        for disease_eid in disease_used_eids[trait]:\n",
    "            print(disease_eid, disease_eid, \"2\", sep='\\t', file=out_file)"
   ]
  },
  {
   "cell_type": "markdown",
   "id": "bc2e27cb-3980-4b45-b76a-c2fe1d393a5c",
   "metadata": {},
   "source": [
    "### Taking SNPs\n"
   ]
  },
  {
   "cell_type": "markdown",
   "id": "d1f54fd1-9e20-413e-be14-ceb632e0f91d",
   "metadata": {},
   "source": [
    "#### Older try (deleted)"
   ]
  },
  {
   "cell_type": "markdown",
   "id": "5a765e4a-87e0-4b5a-bb58-8367365a3fe5",
   "metadata": {},
   "source": [
    "\n",
    "grepping lists of SNP IDs from full vcf files (cMT here):\n",
    "```\n",
    "echo $(date) && cat ../ukbiobank_link/raw_data/ukb22418_cMT_b0_v2.vcf | tail -n +7 | grep -o -P \"^([^\\t]*\\t){8}[^\\t]*\" > biobank_snps_chrMT.vcf && echo $(date)\n",
    "```"
   ]
  },
  {
   "cell_type": "markdown",
   "id": "6c0c445e-98fb-486b-a577-ffba881e6d65",
   "metadata": {},
   "source": [
    "\n",
    "\n",
    "(base) vasikam@Sydney:~$ wc -l ../ukbiobank_link/raw_data/ukb22418_c6_b0_v2.vcf\\\n",
    "\n",
    "53702 ../ukbiobank_link/raw_data/ukb22418_c6_b0_v2.vcf\n"
   ]
  },
  {
   "cell_type": "markdown",
   "id": "68476a4b-fc30-44d6-96e0-3a0cf6efa7a9",
   "metadata": {},
   "source": [
    "#### Better try, with the power of PLINK!\n",
    "\n",
    "SNPs are chosen with `asbs_near_eqtls.py`.\n"
   ]
  },
  {
   "cell_type": "markdown",
   "id": "e36d6ed9-aa1c-4091-a348-c3c2573b3b4f",
   "metadata": {},
   "source": [
    "##### SNPs from different size windows"
   ]
  },
  {
   "cell_type": "code",
   "execution_count": 17,
   "id": "931769ed-3c1f-4ac7-9719-920e68a9aa44",
   "metadata": {},
   "outputs": [],
   "source": [
    "PLINK_EXEC_PATH = \"../plink_linux_x86_64_20220402/plink\""
   ]
  },
  {
   "cell_type": "code",
   "execution_count": 18,
   "id": "58442fd0-4b76-4218-9896-8ed6409a2182",
   "metadata": {},
   "outputs": [],
   "source": [
    "window_sizes = [500 * 2**i for i in range(16)]"
   ]
  },
  {
   "cell_type": "code",
   "execution_count": 19,
   "id": "204cea15-35c3-453d-96c1-d55365a0e03e",
   "metadata": {},
   "outputs": [
    {
     "data": {
      "text/plain": [
       "((805426,),\n",
       " array(['rs28659788', 'rs116587930', 'rs116720794', ..., 'Affx-79443532',\n",
       "        'Affx-89025709', 'Affx-79381726'], dtype=object))"
      ]
     },
     "execution_count": 19,
     "metadata": {},
     "output_type": "execute_result"
    }
   ],
   "source": [
    "all_biobank_snps = np.array([])\n",
    "for ch in chroms:\n",
    "    #pd.read_csv(f'../biobank_snps_chr{ch}.vcf', sep='\\t')\n",
    "    all_biobank_snps = np.hstack([all_biobank_snps,  pd.read_csv(f'../biobank_grepped_snp_ids/biobank_snps_chr{ch}.vcf', sep='\\t')['ID'].values])\n",
    "all_biobank_snps.shape, all_biobank_snps"
   ]
  },
  {
   "cell_type": "code",
   "execution_count": 20,
   "id": "ff3ffbdb-4edc-4da8-b5e6-9e709c188da4",
   "metadata": {},
   "outputs": [],
   "source": [
    "adastra_snps_count = {trait: {} for trait, _ in diseases}\n",
    "for trait, _ in diseases:\n",
    "    for wsize in window_sizes:\n",
    "        # Do we need _woheaders anymore?\n",
    "        snp_ids = set()\n",
    "        \n",
    "        with open(f'asbs_near_eqtls/{trait}/w{wsize}_p0.05.txt', 'r') as in_f:\n",
    "            with open(f'asbs_near_eqtls/{trait}/w{wsize}_p0.05_woheaders.txt', 'w') as out_f:\n",
    "                for line in in_f.readlines():\n",
    "                    if line[:4] != \"ASBs\":\n",
    "                        out_f.write(line)\n",
    "                        snp_ids.add(line.split('\\t')[3])\n",
    "                        \n",
    "        \n",
    "        with open(f'asbs_near_eqtls/{trait}/w{wsize}_p0.05_snp_ids_list.txt', 'w') as out_f:\n",
    "            for snp_id in snp_ids:\n",
    "                print(snp_id, file=out_f)\n",
    "                \n",
    "        adastra_snps_count[trait][wsize] = len(snp_ids)"
   ]
  },
  {
   "cell_type": "code",
   "execution_count": 21,
   "id": "3b3fe6f6-ad41-4b04-9ab2-4f7697a4b9ee",
   "metadata": {},
   "outputs": [
    {
     "name": "stdout",
     "output_type": "stream",
     "text": [
      "crohn\n",
      "0 variants found in biobank for trait crohn and window size 500\n",
      "0 variants found in biobank for trait crohn and window size 1000\n",
      "0 variants found in biobank for trait crohn and window size 2000\n",
      "0 variants found in biobank for trait crohn and window size 4000\n",
      "0 variants found in biobank for trait crohn and window size 8000\n",
      "0 variants found in biobank for trait crohn and window size 16000\n",
      "0 variants found in biobank for trait crohn and window size 32000\n",
      "0 variants found in biobank for trait crohn and window size 64000\n",
      "0 variants found in biobank for trait crohn and window size 128000\n",
      "0 variants found in biobank for trait crohn and window size 256000\n",
      "0 variants found in biobank for trait crohn and window size 512000\n",
      "0 variants found in biobank for trait crohn and window size 1024000\n",
      "0 variants found in biobank for trait crohn and window size 2048000\n",
      "0 variants found in biobank for trait crohn and window size 4096000\n",
      "0 variants found in biobank for trait crohn and window size 8192000\n",
      "0 variants found in biobank for trait crohn and window size 16384000\n",
      "ulcerative_colitis\n",
      "0 variants found in biobank for trait ulcerative_colitis and window size 500\n",
      "0 variants found in biobank for trait ulcerative_colitis and window size 1000\n",
      "0 variants found in biobank for trait ulcerative_colitis and window size 2000\n",
      "0 variants found in biobank for trait ulcerative_colitis and window size 4000\n",
      "0 variants found in biobank for trait ulcerative_colitis and window size 8000\n",
      "0 variants found in biobank for trait ulcerative_colitis and window size 16000\n",
      "0 variants found in biobank for trait ulcerative_colitis and window size 32000\n",
      "0 variants found in biobank for trait ulcerative_colitis and window size 64000\n",
      "0 variants found in biobank for trait ulcerative_colitis and window size 128000\n",
      "0 variants found in biobank for trait ulcerative_colitis and window size 256000\n",
      "0 variants found in biobank for trait ulcerative_colitis and window size 512000\n",
      "0 variants found in biobank for trait ulcerative_colitis and window size 1024000\n",
      "0 variants found in biobank for trait ulcerative_colitis and window size 2048000\n",
      "0 variants found in biobank for trait ulcerative_colitis and window size 4096000\n",
      "0 variants found in biobank for trait ulcerative_colitis and window size 8192000\n",
      "0 variants found in biobank for trait ulcerative_colitis and window size 16384000\n",
      "type_ii_diabetes\n",
      "0 variants found in biobank for trait type_ii_diabetes and window size 500\n",
      "0 variants found in biobank for trait type_ii_diabetes and window size 1000\n",
      "0 variants found in biobank for trait type_ii_diabetes and window size 2000\n",
      "0 variants found in biobank for trait type_ii_diabetes and window size 4000\n",
      "0 variants found in biobank for trait type_ii_diabetes and window size 8000\n",
      "0 variants found in biobank for trait type_ii_diabetes and window size 16000\n",
      "0 variants found in biobank for trait type_ii_diabetes and window size 32000\n",
      "0 variants found in biobank for trait type_ii_diabetes and window size 64000\n",
      "1 variants found in biobank for trait type_ii_diabetes and window size 128000\n",
      "2 variants found in biobank for trait type_ii_diabetes and window size 256000\n",
      "3 variants found in biobank for trait type_ii_diabetes and window size 512000\n",
      "7 variants found in biobank for trait type_ii_diabetes and window size 1024000\n",
      "10 variants found in biobank for trait type_ii_diabetes and window size 2048000\n",
      "13 variants found in biobank for trait type_ii_diabetes and window size 4096000\n",
      "22 variants found in biobank for trait type_ii_diabetes and window size 8192000\n",
      "36 variants found in biobank for trait type_ii_diabetes and window size 16384000\n",
      "breast_cancer\n",
      "15 variants found in biobank for trait breast_cancer and window size 500\n",
      "17 variants found in biobank for trait breast_cancer and window size 1000\n",
      "21 variants found in biobank for trait breast_cancer and window size 2000\n",
      "26 variants found in biobank for trait breast_cancer and window size 4000\n",
      "26 variants found in biobank for trait breast_cancer and window size 8000\n",
      "28 variants found in biobank for trait breast_cancer and window size 16000\n",
      "37 variants found in biobank for trait breast_cancer and window size 32000\n",
      "44 variants found in biobank for trait breast_cancer and window size 64000\n",
      "54 variants found in biobank for trait breast_cancer and window size 128000\n",
      "70 variants found in biobank for trait breast_cancer and window size 256000\n",
      "98 variants found in biobank for trait breast_cancer and window size 512000\n",
      "145 variants found in biobank for trait breast_cancer and window size 1024000\n",
      "226 variants found in biobank for trait breast_cancer and window size 2048000\n",
      "363 variants found in biobank for trait breast_cancer and window size 4096000\n",
      "628 variants found in biobank for trait breast_cancer and window size 8192000\n",
      "1050 variants found in biobank for trait breast_cancer and window size 16384000\n",
      "{'crohn': {500: 0, 1000: 0, 2000: 0, 4000: 0, 8000: 0, 16000: 0, 32000: 0, 64000: 0, 128000: 0, 256000: 0, 512000: 0, 1024000: 0, 2048000: 0, 4096000: 0, 8192000: 0, 16384000: 0}, 'ulcerative_colitis': {500: 0, 1000: 0, 2000: 0, 4000: 0, 8000: 0, 16000: 0, 32000: 0, 64000: 0, 128000: 0, 256000: 0, 512000: 0, 1024000: 0, 2048000: 0, 4096000: 0, 8192000: 0, 16384000: 0}, 'type_ii_diabetes': {500: 0, 1000: 0, 2000: 0, 4000: 0, 8000: 0, 16000: 0, 32000: 0, 64000: 0, 128000: 1, 256000: 2, 512000: 3, 1024000: 7, 2048000: 10, 4096000: 13, 8192000: 22, 16384000: 36}, 'breast_cancer': {500: 15, 1000: 17, 2000: 21, 4000: 26, 8000: 26, 16000: 28, 32000: 37, 64000: 44, 128000: 54, 256000: 70, 512000: 98, 1024000: 145, 2048000: 226, 4096000: 363, 8192000: 628, 16384000: 1050}}\n"
     ]
    }
   ],
   "source": [
    "biobank_snps_count = {trait: {} for trait, _ in diseases}\n",
    "for trait, _ in diseases:\n",
    "    print(trait)\n",
    "    for wsize in window_sizes:\n",
    "        exit_codes = {chrom: [] for chrom in chroms}\n",
    "        present_snp_count = 0\n",
    "        for chrom in chroms:\n",
    "            proc = subprocess.run([PLINK_EXEC_PATH, \n",
    "                                   \"--bfile\", f\"../ukbiobank/raw_data/ukb22418_c{chrom}_b0_v2\", \n",
    "                                   \"--pheno\", f\"../patients-csvs/{trait}_patients.pheno\",\n",
    "                                   \"--extract\", f\"asbs_near_eqtls/{trait}/w{wsize}_p0.05_snp_ids_list.txt\",\n",
    "                                   \"--allow-no-sex\", \n",
    "                                   # \"--recode\", \"vcf\",  # create vcf\n",
    "                                   \"--make-bed\",  # create bed+fam+bim\n",
    "                                   \"--out\", f\"../biobank_extracted/{trait}/extracted_snps_c{chrom}_w{wsize}\"],\n",
    "                                 capture_output=True)\n",
    "\n",
    "            # --keep testpatients to get patients\n",
    "            #print(proc.stdout.decode())\n",
    "            #print(proc.stderr.decode())\n",
    "            if proc.stderr.decode().strip() in ['Error: No variants remaining after --extract.', '']:\n",
    "                pass\n",
    "            else:\n",
    "                print(proc.stderr.strip())\n",
    "                \n",
    "            #if proc.stderr.decode().strip() == '':\n",
    "            #    print(proc.stdout.decode())\n",
    "            \n",
    "            if 'Error: No variants remaining after --extract.' in proc.stderr.decode():\n",
    "                pass  # present_snp_count += 0\n",
    "            elif (match := re.search(\"--extract:.\\D*(\\d+) variant\", proc.stdout.decode())) is not None:\n",
    "                present_snp_count += int(match.group(1))\n",
    "            else:\n",
    "                print(proc.stderr)\n",
    "            \n",
    "            if proc.returncode != 0:  # 12: No variants remaining after --extract??\n",
    "                #print(f\"PLINK returned exit code {proc.returncode} for c{chrom} and wsize={wsize}\")\n",
    "                pass\n",
    "            else:\n",
    "                #print(f\"PLINK returned 0 for c{chrom} and wsize={wsize}\")\n",
    "                pass\n",
    "            \n",
    "            exit_codes[chrom] = proc.returncode\n",
    "        print(f\"{present_snp_count} variants found in biobank for trait {trait} and window size {wsize}\")\n",
    "        biobank_snps_count[trait][wsize] = present_snp_count\n",
    "        #print(f\"Exit codes for window size {wsize}:\")\n",
    "        #print(exit_codes)\n",
    "print(biobank_snps_count)"
   ]
  },
  {
   "cell_type": "code",
   "execution_count": 22,
   "id": "f4f67595-5e8d-4f20-8b32-6b1160365e47",
   "metadata": {},
   "outputs": [
    {
     "name": "stdout",
     "output_type": "stream",
     "text": [
      "Merging crohn\n"
     ]
    },
    {
     "name": "stderr",
     "output_type": "stream",
     "text": [
      "100%|██████████████████████████████████████████| 16/16 [00:00<00:00, 504.04it/s]\n"
     ]
    },
    {
     "name": "stdout",
     "output_type": "stream",
     "text": [
      "Merging ulcerative_colitis\n"
     ]
    },
    {
     "name": "stderr",
     "output_type": "stream",
     "text": [
      "100%|██████████████████████████████████████████| 16/16 [00:00<00:00, 562.27it/s]\n"
     ]
    },
    {
     "name": "stdout",
     "output_type": "stream",
     "text": [
      "Merging type_ii_diabetes\n"
     ]
    },
    {
     "name": "stderr",
     "output_type": "stream",
     "text": [
      "100%|███████████████████████████████████████████| 16/16 [00:14<00:00,  1.11it/s]\n"
     ]
    },
    {
     "name": "stdout",
     "output_type": "stream",
     "text": [
      "Merging breast_cancer\n"
     ]
    },
    {
     "name": "stderr",
     "output_type": "stream",
     "text": [
      "100%|███████████████████████████████████████████| 16/16 [01:00<00:00,  3.78s/it]\n"
     ]
    }
   ],
   "source": [
    "for trait, _ in diseases:\n",
    "    print(f\"Merging {trait}\")\n",
    "    for wsize in tqdm(window_sizes, ncols=80):\n",
    "        prefix_merge_list = [s[:-4] for s in glob.glob(f\"../biobank_extracted/{trait}/extracted_snps_c*_w{wsize}*.bed\")]\n",
    "        if len(prefix_merge_list) == 0:\n",
    "            continue\n",
    "        \n",
    "        merge_list_filename = \"mergelist_tmp\" \n",
    "        with open(merge_list_filename, \"w\") as f:\n",
    "            print(*prefix_merge_list, sep='\\n', file=f)\n",
    "        proc = subprocess.run([PLINK_EXEC_PATH, \n",
    "                               \"--merge-list\", merge_list_filename,\n",
    "                               \"--out\", f\"../biobank_extracted/{trait}/extracted_snps_merged_w{wsize}\"],\n",
    "                             capture_output=True)\n",
    "\n",
    "        "
   ]
  },
  {
   "cell_type": "code",
   "execution_count": 23,
   "id": "115ecda4-28a1-4a90-93eb-b95644288c1a",
   "metadata": {},
   "outputs": [
    {
     "name": "stdout",
     "output_type": "stream",
     "text": [
      "crohn\n",
      "wsize adastra biobank\n",
      "500      0     0\n",
      "1000     0     0\n",
      "2000     0     0\n",
      "4000     0     0\n",
      "8000     0     0\n",
      "16000    0     0\n",
      "32000    0     0\n",
      "64000    0     0\n",
      "128000   1     0\n",
      "256000   1     0\n",
      "512000   2     0\n",
      "1024000  2     0\n",
      "2048000  2     0\n",
      "4096000  2     0\n",
      "8192000  7     0\n",
      "16384000 7     0\n",
      "ulcerative_colitis\n",
      "wsize adastra biobank\n",
      "500      0     0\n",
      "1000     0     0\n",
      "2000     0     0\n",
      "4000     0     0\n",
      "8000     0     0\n",
      "16000    0     0\n",
      "32000    0     0\n",
      "64000    0     0\n",
      "128000   0     0\n",
      "256000   0     0\n",
      "512000   0     0\n",
      "1024000  0     0\n",
      "2048000  0     0\n",
      "4096000  0     0\n",
      "8192000  3     0\n",
      "16384000 3     0\n",
      "type_ii_diabetes\n",
      "wsize adastra biobank\n",
      "500      7     0\n",
      "1000     9     0\n",
      "2000     10    0\n",
      "4000     10    0\n",
      "8000     10    0\n",
      "16000    10    0\n",
      "32000    13    0\n",
      "64000    15    0\n",
      "128000   20    1\n",
      "256000   26    2\n",
      "512000   34    3\n",
      "1024000  69    7\n",
      "2048000  119   10\n",
      "4096000  198   13\n",
      "8192000  290   22\n",
      "16384000 442   36\n",
      "breast_cancer\n",
      "wsize adastra biobank\n",
      "500      178   15\n",
      "1000     193   17\n",
      "2000     219   21\n",
      "4000     241   26\n",
      "8000     266   26\n",
      "16000    306   28\n",
      "32000    387   37\n",
      "64000    461   44\n",
      "128000   601   54\n",
      "256000   833   70\n",
      "512000   1186  98\n",
      "1024000  1807  145\n",
      "2048000  2975  226\n",
      "4096000  4839  363\n",
      "8192000  8340  628\n",
      "16384000 13709 1050\n"
     ]
    }
   ],
   "source": [
    "#wsize = 64000\n",
    "\n",
    "for trait, _ in diseases:\n",
    "    print(trait)\n",
    "    print(\"wsize adastra biobank\")\n",
    "    for wsize in window_sizes:\n",
    "        print(f\"{wsize:<8} {adastra_snps_count[trait][wsize]:<5} {biobank_snps_count[trait][wsize]}\")"
   ]
  },
  {
   "cell_type": "code",
   "execution_count": null,
   "id": "4ce52e15-24cf-4ae2-8e97-00339266bc36",
   "metadata": {},
   "outputs": [],
   "source": [
    "#wsize = 64000\n",
    "\n",
    "for trait, _ in diseases:\n",
    "    print(trait)\n",
    "    variants_dfs_allpatients = {wsize: pd.DataFrame() for wsize in window_sizes}\n",
    "    for wsize in window_sizes:\n",
    "        for filename in glob.glob(f'../biobank_extracted/{trait}/extracted_snps_c*_w{wsize}.vcf'):\n",
    "            df = pd.read_csv(\n",
    "                filename,\n",
    "                skiprows=range(6),\n",
    "                sep='\\t',\n",
    "                #usecols=first_cols + healthy_cols + diabetes_cols,\n",
    "                dtype={'ID': str},\n",
    "            )\n",
    "            #print(df)\n",
    "            variants_dfs_allpatients[wsize] = pd.concat([variants_dfs_allpatients[wsize], df], ignore_index=True)\n",
    "\n",
    "\n",
    "        print(wsize, variants_dfs_allpatients[wsize].shape)"
   ]
  },
  {
   "cell_type": "code",
   "execution_count": 24,
   "id": "ffe5780e-8fc7-44fa-b4bf-eb6a9916694b",
   "metadata": {},
   "outputs": [
    {
     "data": {
      "image/png": "[encoded data removed]",
      "text/plain": [
       "<Figure size 864x360 with 1 Axes>"
      ]
     },
     "metadata": {
      "needs_background": "light"
     },
     "output_type": "display_data"
    }
   ],
   "source": [
    "fig = plt.figure(figsize=(12, 5))\n",
    "rel_counts = [adastra_snps_count[\"type_ii_diabetes\"][wsize] / (2 * wsize) for wsize in window_sizes]\n",
    "plt.bar([f'{wsize:.1e}' for wsize in window_sizes], rel_counts)\n",
    "plt.xlabel('window halfwidth')\n",
    "plt.ylabel('relative ASB abundance')\n",
    "plt.show()"
   ]
  },
  {
   "cell_type": "code",
   "execution_count": 25,
   "id": "98a58b72-eaca-4e4a-b12d-d5c607f5cb41",
   "metadata": {},
   "outputs": [
    {
     "data": {
      "image/png": "[encoded data removed]",
      "text/plain": [
       "<Figure size 864x288 with 1 Axes>"
      ]
     },
     "metadata": {
      "needs_background": "light"
     },
     "output_type": "display_data"
    }
   ],
   "source": [
    "fig, ax = plt.subplots(1, 1, figsize=(12, 4))\n",
    "#fig, ax = plt.subplots(1, 1, figsize=(36, 15))\n",
    "rel_counts = [adastra_snps_count[\"type_ii_diabetes\"][wsize] / (2 * wsize) for wsize in window_sizes]\n",
    "plt.bar([f'{wsize:.1e}' for wsize in window_sizes], rel_counts)\n",
    "plt.xlabel('window halfwidth')\n",
    "plt.ylabel('$\\log($relative ASB abundance$)$')\n",
    "ax.set_yscale(matplotlib.scale.LogScale(ax))\n",
    "plt.savefig('rel_ASB_abund.png')"
   ]
  },
  {
   "cell_type": "code",
   "execution_count": 26,
   "id": "bd830abe-c898-445f-898f-84047ff054bd",
   "metadata": {},
   "outputs": [
    {
     "data": {
      "image/png": "[encoded data removed]",
      "text/plain": [
       "<Figure size 864x288 with 1 Axes>"
      ]
     },
     "metadata": {
      "needs_background": "light"
     },
     "output_type": "display_data"
    }
   ],
   "source": [
    "fig, ax = plt.subplots(1, 1, figsize=(12, 4))\n",
    "#fig, ax = plt.subplots(1, 1, figsize=(36, 15))\n",
    "rel_counts = [adastra_snps_count[\"type_ii_diabetes\"][wsize] / (2 * wsize) for wsize in window_sizes]\n",
    "plt.bar([f'{i:.1f}' for i in range(len(window_sizes))], rel_counts)\n",
    "plt.xlabel('$\\log_2$(window halfwidth / 500)')\n",
    "plt.ylabel('$\\log($relative ASB abundance$)$')\n",
    "ax.set_yscale(matplotlib.scale.LogScale(ax))\n",
    "plt.tight_layout()\n",
    "plt.savefig('rel_ASB_abund.png')"
   ]
  },
  {
   "cell_type": "markdown",
   "id": "4f0fedca-eaf6-486c-8aa2-29f0abd28fb3",
   "metadata": {},
   "source": [
    "## Logistic Regression"
   ]
  },
  {
   "cell_type": "markdown",
   "id": "41950cab-2f03-47f9-8116-c1ee333b2177",
   "metadata": {
    "tags": []
   },
   "source": [
    "### sklearn regressions"
   ]
  },
  {
   "cell_type": "code",
   "execution_count": 39,
   "id": "45c27320-c619-4d09-bd35-e7d43f4089c0",
   "metadata": {},
   "outputs": [],
   "source": [
    "#import sklearn"
   ]
  },
  {
   "cell_type": "code",
   "execution_count": 22,
   "id": "4927ff80-2a77-46ee-b028-c015ac8bdd56",
   "metadata": {},
   "outputs": [],
   "source": [
    "from sklearn.linear_model import LogisticRegression  #other?\n",
    "from sklearn.model_selection import train_test_split\n",
    "from sklearn.metrics import roc_auc_score, RocCurveDisplay"
   ]
  },
  {
   "cell_type": "code",
   "execution_count": 20,
   "id": "45a936d3-c8e7-4bd8-96f7-d80dd58c19fe",
   "metadata": {},
   "outputs": [],
   "source": [
    "Xs = {}\n",
    "for wsize, df in variants_dfs.items():\n",
    "    #print(wsize)\n",
    "    #pass\n",
    "    Xs[wsize] = variants_dfs[wsize].set_index(variants_dfs[wsize]['ID'].values).drop(columns=first_cols).T\n",
    "    Xs[wsize] = pd.get_dummies(Xs[wsize])"
   ]
  },
  {
   "cell_type": "code",
   "execution_count": 24,
   "id": "b670606f-0819-47ef-b5f6-6dd9714ddebb",
   "metadata": {},
   "outputs": [
    {
     "data": {
      "text/html": [
       "<div>\n",
       "<style scoped>\n",
       "    .dataframe tbody tr th:only-of-type {\n",
       "        vertical-align: middle;\n",
       "    }\n",
       "\n",
       "    .dataframe tbody tr th {\n",
       "        vertical-align: top;\n",
       "    }\n",
       "\n",
       "    .dataframe thead th {\n",
       "        text-align: right;\n",
       "    }\n",
       "</style>\n",
       "<table border=\"1\" class=\"dataframe\">\n",
       "  <thead>\n",
       "    <tr style=\"text-align: right;\">\n",
       "      <th></th>\n",
       "      <th>rs7770557_./.</th>\n",
       "      <th>rs7770557_0/0</th>\n",
       "      <th>rs7770557_0/1</th>\n",
       "      <th>rs7770557_1/1</th>\n",
       "    </tr>\n",
       "  </thead>\n",
       "  <tbody>\n",
       "    <tr>\n",
       "      <th>2658515_2658515</th>\n",
       "      <td>0</td>\n",
       "      <td>1</td>\n",
       "      <td>0</td>\n",
       "      <td>0</td>\n",
       "    </tr>\n",
       "    <tr>\n",
       "      <th>5418788_5418788</th>\n",
       "      <td>0</td>\n",
       "      <td>1</td>\n",
       "      <td>0</td>\n",
       "      <td>0</td>\n",
       "    </tr>\n",
       "    <tr>\n",
       "      <th>1410704_1410704</th>\n",
       "      <td>0</td>\n",
       "      <td>1</td>\n",
       "      <td>0</td>\n",
       "      <td>0</td>\n",
       "    </tr>\n",
       "    <tr>\n",
       "      <th>5678089_5678089</th>\n",
       "      <td>0</td>\n",
       "      <td>1</td>\n",
       "      <td>0</td>\n",
       "      <td>0</td>\n",
       "    </tr>\n",
       "    <tr>\n",
       "      <th>1863781_1863781</th>\n",
       "      <td>0</td>\n",
       "      <td>1</td>\n",
       "      <td>0</td>\n",
       "      <td>0</td>\n",
       "    </tr>\n",
       "    <tr>\n",
       "      <th>...</th>\n",
       "      <td>...</td>\n",
       "      <td>...</td>\n",
       "      <td>...</td>\n",
       "      <td>...</td>\n",
       "    </tr>\n",
       "    <tr>\n",
       "      <th>2631746_2631746</th>\n",
       "      <td>0</td>\n",
       "      <td>1</td>\n",
       "      <td>0</td>\n",
       "      <td>0</td>\n",
       "    </tr>\n",
       "    <tr>\n",
       "      <th>3331715_3331715</th>\n",
       "      <td>0</td>\n",
       "      <td>1</td>\n",
       "      <td>0</td>\n",
       "      <td>0</td>\n",
       "    </tr>\n",
       "    <tr>\n",
       "      <th>1874054_1874054</th>\n",
       "      <td>0</td>\n",
       "      <td>1</td>\n",
       "      <td>0</td>\n",
       "      <td>0</td>\n",
       "    </tr>\n",
       "    <tr>\n",
       "      <th>5028626_5028626</th>\n",
       "      <td>0</td>\n",
       "      <td>1</td>\n",
       "      <td>0</td>\n",
       "      <td>0</td>\n",
       "    </tr>\n",
       "    <tr>\n",
       "      <th>4913903_4913903</th>\n",
       "      <td>0</td>\n",
       "      <td>0</td>\n",
       "      <td>1</td>\n",
       "      <td>0</td>\n",
       "    </tr>\n",
       "  </tbody>\n",
       "</table>\n",
       "<p>75204 rows × 4 columns</p>\n",
       "</div>"
      ],
      "text/plain": [
       "                 rs7770557_./.  rs7770557_0/0  rs7770557_0/1  rs7770557_1/1\n",
       "2658515_2658515              0              1              0              0\n",
       "5418788_5418788              0              1              0              0\n",
       "1410704_1410704              0              1              0              0\n",
       "5678089_5678089              0              1              0              0\n",
       "1863781_1863781              0              1              0              0\n",
       "...                        ...            ...            ...            ...\n",
       "2631746_2631746              0              1              0              0\n",
       "3331715_3331715              0              1              0              0\n",
       "1874054_1874054              0              1              0              0\n",
       "5028626_5028626              0              1              0              0\n",
       "4913903_4913903              0              0              1              0\n",
       "\n",
       "[75204 rows x 4 columns]"
      ]
     },
     "execution_count": 24,
     "metadata": {},
     "output_type": "execute_result"
    }
   ],
   "source": [
    "Xs[2000]"
   ]
  },
  {
   "cell_type": "code",
   "execution_count": 27,
   "id": "cad40f11-df4d-4dc1-96fc-6c205a52a911",
   "metadata": {},
   "outputs": [
    {
     "data": {
      "text/plain": [
       "<bound method RocCurveDisplay.from_predictions of <class 'sklearn.metrics._plot.roc_curve.RocCurveDisplay'>>"
      ]
     },
     "execution_count": 27,
     "metadata": {},
     "output_type": "execute_result"
    }
   ],
   "source": [
    "RocCurveDisplay.from_predictions"
   ]
  },
  {
   "cell_type": "code",
   "execution_count": 82,
   "id": "4c7c0cf8-de45-48ec-8e58-ffa094aa11a5",
   "metadata": {},
   "outputs": [
    {
     "name": "stdout",
     "output_type": "stream",
     "text": [
      "w2048000: rocauc = 0.5216\n"
     ]
    }
   ],
   "source": [
    "wsize=2048000  #16384000 #8192000 \n",
    "\n",
    "logreg = LogisticRegression(max_iter=250)\n",
    "\n",
    "X = Xs[wsize]\n",
    "y = [int(i in diabetes_cols) for i in X.index.values]\n",
    "\n",
    "X_train, X_test, y_train, y_test = train_test_split(X, y, test_size=0.25)\n",
    "logreg.fit(X_train, y_train)\n",
    "y_pred = logreg.predict_proba(X_test)[:, 1]\n",
    "rocauc = roc_auc_score(y_test, y_pred)\n",
    "print(f\"w{wsize}: rocauc = {rocauc:.4f}\")"
   ]
  },
  {
   "cell_type": "code",
   "execution_count": 83,
   "id": "23476450-777f-49e5-b0c5-39984e996b26",
   "metadata": {},
   "outputs": [
    {
     "data": {
      "image/png": "[encoded data removed]",
      "text/plain": [
       "<Figure size 720x720 with 1 Axes>"
      ]
     },
     "metadata": {
      "needs_background": "light"
     },
     "output_type": "display_data"
    }
   ],
   "source": [
    "plt.figure(figsize=(10,10))\n",
    "ax = plt.axes()\n",
    "plt.plot([0, 1], [0, 1], ls='--', lw=1, c='k')\n",
    "\n",
    "RocCurveDisplay.from_predictions(y_test, y_pred, ax=ax)\n",
    "ax.legend(['random predictions', f'wsize={wsize}, AUC={rocauc:.3f}'])\n",
    "\n",
    "plt.xlim([-0.01, 1.01])\n",
    "plt.ylim([-0.01, 1.01])\n",
    "plt.savefig('roc_curve_example.png')"
   ]
  },
  {
   "cell_type": "code",
   "execution_count": 21,
   "id": "c9c08c1f-2044-4370-8c5f-d9487ac36e75",
   "metadata": {},
   "outputs": [
    {
     "ename": "KeyboardInterrupt",
     "evalue": "",
     "output_type": "error",
     "traceback": [
      "\u001b[0;31m---------------------------------------------------------------------------\u001b[0m",
      "\u001b[0;31mKeyboardInterrupt\u001b[0m                         Traceback (most recent call last)",
      "Input \u001b[0;32mIn [21]\u001b[0m, in \u001b[0;36m<cell line: 6>\u001b[0;34m()\u001b[0m\n\u001b[1;32m      7\u001b[0m logreg \u001b[38;5;241m=\u001b[39m LogisticRegression(max_iter\u001b[38;5;241m=\u001b[39m\u001b[38;5;241m250\u001b[39m)\n\u001b[1;32m      9\u001b[0m X \u001b[38;5;241m=\u001b[39m Xs[wsize]\n\u001b[0;32m---> 10\u001b[0m y \u001b[38;5;241m=\u001b[39m [\u001b[38;5;28mint\u001b[39m(i \u001b[38;5;129;01min\u001b[39;00m diabetes_cols) \u001b[38;5;28;01mfor\u001b[39;00m i \u001b[38;5;129;01min\u001b[39;00m X\u001b[38;5;241m.\u001b[39mindex\u001b[38;5;241m.\u001b[39mvalues]\n\u001b[1;32m     12\u001b[0m X_train, X_test, y_train, y_test \u001b[38;5;241m=\u001b[39m train_test_split(X, y, test_size\u001b[38;5;241m=\u001b[39m\u001b[38;5;241m0.25\u001b[39m)\n\u001b[1;32m     13\u001b[0m logreg\u001b[38;5;241m.\u001b[39mfit(X_train, y_train)\n",
      "Input \u001b[0;32mIn [21]\u001b[0m, in \u001b[0;36m<listcomp>\u001b[0;34m(.0)\u001b[0m\n\u001b[1;32m      7\u001b[0m logreg \u001b[38;5;241m=\u001b[39m LogisticRegression(max_iter\u001b[38;5;241m=\u001b[39m\u001b[38;5;241m250\u001b[39m)\n\u001b[1;32m      9\u001b[0m X \u001b[38;5;241m=\u001b[39m Xs[wsize]\n\u001b[0;32m---> 10\u001b[0m y \u001b[38;5;241m=\u001b[39m [\u001b[38;5;28;43mint\u001b[39;49m\u001b[43m(\u001b[49m\u001b[43mi\u001b[49m\u001b[43m \u001b[49m\u001b[38;5;129;43;01min\u001b[39;49;00m\u001b[43m \u001b[49m\u001b[43mdiabetes_cols\u001b[49m\u001b[43m)\u001b[49m \u001b[38;5;28;01mfor\u001b[39;00m i \u001b[38;5;129;01min\u001b[39;00m X\u001b[38;5;241m.\u001b[39mindex\u001b[38;5;241m.\u001b[39mvalues]\n\u001b[1;32m     12\u001b[0m X_train, X_test, y_train, y_test \u001b[38;5;241m=\u001b[39m train_test_split(X, y, test_size\u001b[38;5;241m=\u001b[39m\u001b[38;5;241m0.25\u001b[39m)\n\u001b[1;32m     13\u001b[0m logreg\u001b[38;5;241m.\u001b[39mfit(X_train, y_train)\n",
      "\u001b[0;31mKeyboardInterrupt\u001b[0m: "
     ]
    },
    {
     "data": {
      "image/png": "[encoded data removed]",
      "text/plain": [
       "<Figure size 720x720 with 1 Axes>"
      ]
     },
     "metadata": {
      "needs_background": "light"
     },
     "output_type": "display_data"
    }
   ],
   "source": [
    "plt.figure(figsize=(10,10))\n",
    "ax = plt.axes()\n",
    "plt.plot([0, 1], [0, 1], ls='--', lw=1, c='k')\n",
    "\n",
    "rocaucs = []\n",
    "for wsize in window_sizes:\n",
    "    logreg = LogisticRegression(max_iter=250)\n",
    "    \n",
    "    X = Xs[wsize]\n",
    "    y = [int(i in diabetes_cols) for i in X.index.values]\n",
    "    \n",
    "    X_train, X_test, y_train, y_test = train_test_split(X, y, test_size=0.25)\n",
    "    logreg.fit(X_train, y_train)\n",
    "    rocauc = roc_auc_score(y_test, logreg.predict_proba(X_test)[:, 1])\n",
    "    rocaucs.append(rocauc)\n",
    "    print(f\"w{wsize}: rocauc = {rocauc:.4f}\")\n",
    "    RocCurveDisplay.from_predictions(y_test, y_pred, ax=ax)\n",
    "legend = ['random predictions'] + [f'wsize={wsize}, AUC={rocauc:.3f}' for wsize, rocauc in zip(window_sizes, rocaucs)]\n",
    "ax.legend(legend)\n",
    "\n",
    "plt.xlim([-0.01, 1.01])\n",
    "plt.ylim([-0.01, 1.01])\n",
    "plt.show()"
   ]
  },
  {
   "cell_type": "code",
   "execution_count": 28,
   "id": "37c59863-ec22-424e-9bef-09ccfdd68560",
   "metadata": {},
   "outputs": [
    {
     "data": {
      "text/plain": [
       "3.0"
      ]
     },
     "execution_count": 28,
     "metadata": {},
     "output_type": "execute_result"
    }
   ],
   "source": [
    "np.mean([3])"
   ]
  },
  {
   "cell_type": "code",
   "execution_count": 69,
   "id": "a4c10e54-3f5f-413f-8c40-1a4e927f74d0",
   "metadata": {},
   "outputs": [
    {
     "name": "stdout",
     "output_type": "stream",
     "text": [
      ".........................\n",
      "w500: rocauc = 0.5087 +- 0.0022\n",
      ".........................\n",
      "w1000: rocauc = 0.5077 +- 0.0020\n",
      ".........................\n",
      "w2000: rocauc = 0.5082 +- 0.0025\n",
      ".........................\n",
      "w4000: rocauc = 0.5082 +- 0.0020\n",
      ".........................\n",
      "w8000: rocauc = 0.5080 +- 0.0026\n",
      ".........................\n",
      "w16000: rocauc = 0.5075 +- 0.0021\n",
      ".........................\n",
      "w32000: rocauc = 0.5078 +- 0.0022\n",
      ".........................\n",
      "w64000: rocauc = 0.5123 +- 0.0040\n",
      ".........................\n",
      "w128000: rocauc = 0.5218 +- 0.0029\n",
      ".........................\n",
      "w256000: rocauc = 0.5235 +- 0.0028\n",
      ".........................\n",
      "w512000: rocauc = 0.5226 +- 0.0037\n",
      ".........................\n",
      "w1024000: rocauc = 0.5252 +- 0.0035\n",
      ".........................\n",
      "w2048000: rocauc = 0.5255 +- 0.0041\n",
      ".........................\n",
      "w4096000: rocauc = 0.5272 +- 0.0042\n",
      ".........................\n",
      "w8192000: rocauc = 0.5411 +- 0.0036\n",
      ".........................\n",
      "w16384000: rocauc = 0.5452 +- 0.0038\n"
     ]
    }
   ],
   "source": [
    "rocaucs = {}\n",
    "n_regressions = 5\n",
    "for wsize in window_sizes:\n",
    "    rocaucs[wsize] = []\n",
    "    for _ in range(n_regressions):\n",
    "        healthy_used_eids = random.sample(list(healthy_eids), len(diabetes_used_eids))\n",
    "        healthy_cols = [str(x) + '_' + str(x) for x in healthy_used_eids]\n",
    "        \n",
    "        \n",
    "        \n",
    "        variants_df = variants_dfs_allpatients[wsize][first_cols + healthy_cols + diabetes_cols]\n",
    "            \n",
    "        X = variants_dfs[wsize].set_index(variants_dfs[wsize]['ID'].values).drop(columns=first_cols).T\n",
    "        X = pd.get_dummies(Xs[wsize])\n",
    "        y = [int(i in diabetes_cols) for i in X.index.values]\n",
    "    \n",
    "        \n",
    "        \n",
    "\n",
    "\n",
    "        logreg = LogisticRegression(max_iter=500)\n",
    "        X_train, X_test, y_train, y_test = train_test_split(X, y, test_size=0.25)\n",
    "        logreg.fit(X_train, y_train)\n",
    "        rocauc = roc_auc_score(y_test, logreg.predict_proba(X_test)[:, 1])\n",
    "        rocaucs[wsize].append(rocauc)\n",
    "        \n",
    "        print('.', end='')\n",
    "        \n",
    "    print()\n",
    "    print(f\"w{wsize}: rocauc = {np.mean(rocaucs[wsize]):.4f} +- {np.std(rocaucs[wsize], ddof=1):.4f}\")"
   ]
  },
  {
   "cell_type": "code",
   "execution_count": 76,
   "id": "791e35ee-cfb8-4b6d-87cd-9c703fa60ec3",
   "metadata": {},
   "outputs": [
    {
     "data": {
      "text/plain": [
       "([0.5086560273976479,\n",
       "  0.5077065536174478,\n",
       "  0.5082368127540908,\n",
       "  0.5082326428064842,\n",
       "  0.5080232471291989,\n",
       "  0.507465457578282,\n",
       "  0.5078301668305234,\n",
       "  0.51233389683853,\n",
       "  0.5218336028182177,\n",
       "  0.5235164247155264,\n",
       "  0.5226079840935928,\n",
       "  0.5251798560499024,\n",
       "  0.5254556303794695,\n",
       "  0.5271545225438617,\n",
       "  0.5411215815614677,\n",
       "  0.5451738330657725],\n",
       " [0.0022265043049717664,\n",
       "  0.0019868608208275015,\n",
       "  0.0024602808987920044,\n",
       "  0.001987899112990431,\n",
       "  0.0025849958467311796,\n",
       "  0.0020995765729978294,\n",
       "  0.002180527276660362,\n",
       "  0.004033830451106213,\n",
       "  0.002886557970462429,\n",
       "  0.002814197535000761,\n",
       "  0.0036788999650365682,\n",
       "  0.003451131473002269,\n",
       "  0.0040840740041853405,\n",
       "  0.004234564811232111,\n",
       "  0.003582819134258206,\n",
       "  0.0038089404464142175])"
      ]
     },
     "execution_count": 76,
     "metadata": {},
     "output_type": "execute_result"
    }
   ],
   "source": [
    "means = [np.mean(i) for _, i in rocaucs.items()]\n",
    "stds = [np.std(i, ddof=1) for _, i in rocaucs.items()]\n",
    "means, stds"
   ]
  },
  {
   "cell_type": "code",
   "execution_count": 70,
   "id": "54a2544b-610f-4c0c-a3a5-6346cc760f5c",
   "metadata": {},
   "outputs": [
    {
     "data": {
      "text/plain": [
       "{500: [0.51024448450299,\n",
       "  0.5083827497428003,\n",
       "  0.5059980634824423,\n",
       "  0.5084643764018707,\n",
       "  0.506666739853379,\n",
       "  0.5098455053398403,\n",
       "  0.5087760626086522,\n",
       "  0.5121666279275827,\n",
       "  0.5087246244523748,\n",
       "  0.5071872867137134,\n",
       "  0.5094054903009857,\n",
       "  0.5077962751250676,\n",
       "  0.5120795324503737,\n",
       "  0.5065803919667511,\n",
       "  0.5079497810761531,\n",
       "  0.5059549772524987,\n",
       "  0.5088640090799262,\n",
       "  0.5058599747172267,\n",
       "  0.5083789727676395,\n",
       "  0.5116260599298021,\n",
       "  0.5137800272515425,\n",
       "  0.5074297394446836,\n",
       "  0.5076678063951071,\n",
       "  0.5113277962225417,\n",
       "  0.5052433299352518],\n",
       " 1000: [0.5074042321278873,\n",
       "  0.5094853229689623,\n",
       "  0.5064281192669479,\n",
       "  0.5066247793720533,\n",
       "  0.5105736754375585,\n",
       "  0.5056426350062002,\n",
       "  0.5073366021906788,\n",
       "  0.5075164108961859,\n",
       "  0.5123585866806637,\n",
       "  0.5074279394615108,\n",
       "  0.5085421419389439,\n",
       "  0.5090232771294224,\n",
       "  0.5043667595006811,\n",
       "  0.5096071804349028,\n",
       "  0.5037990219685722,\n",
       "  0.5094520287019738,\n",
       "  0.5090855519476882,\n",
       "  0.5073003537447606,\n",
       "  0.5057096432480298,\n",
       "  0.5068233148499197,\n",
       "  0.509229841499196,\n",
       "  0.5090861166234232,\n",
       "  0.507929104572617,\n",
       "  0.5068380028521088,\n",
       "  0.5050731980153075],\n",
       " 2000: [0.509394513719052,\n",
       "  0.5119860572962402,\n",
       "  0.5044819042365342,\n",
       "  0.5092728073230476,\n",
       "  0.508642345450136,\n",
       "  0.5095553291958653,\n",
       "  0.5109561109600322,\n",
       "  0.5062079214262452,\n",
       "  0.5109405267854927,\n",
       "  0.5075718296004111,\n",
       "  0.5098077798340549,\n",
       "  0.5018855954836058,\n",
       "  0.5045789110198641,\n",
       "  0.5064000486164731,\n",
       "  0.5128854113443998,\n",
       "  0.5088033128164695,\n",
       "  0.506299402703282,\n",
       "  0.5073570934795372,\n",
       "  0.508704448598642,\n",
       "  0.5082932815945327,\n",
       "  0.5083983652712364,\n",
       "  0.5082305002685357,\n",
       "  0.5104355908290311,\n",
       "  0.5066785342850061,\n",
       "  0.508152696714542],\n",
       " 4000: [0.5078584598970953,\n",
       "  0.5044231865773565,\n",
       "  0.5102939052015908,\n",
       "  0.5126918610092125,\n",
       "  0.5100423742432686,\n",
       "  0.5077489571888703,\n",
       "  0.5094455025623463,\n",
       "  0.507541959942382,\n",
       "  0.5071156055720669,\n",
       "  0.5073820268399933,\n",
       "  0.5083408804661597,\n",
       "  0.5061394802237893,\n",
       "  0.5078835940682963,\n",
       "  0.5081593073178435,\n",
       "  0.5126876292275245,\n",
       "  0.5082123475387745,\n",
       "  0.5059254315567302,\n",
       "  0.5091689862561058,\n",
       "  0.5098897895389521,\n",
       "  0.5082778538351354,\n",
       "  0.5090173919065912,\n",
       "  0.5070859529047713,\n",
       "  0.5046001300739624,\n",
       "  0.5078492551915383,\n",
       "  0.5080342010217478],\n",
       " 8000: [0.5085311762266495,\n",
       "  0.5102809293905535,\n",
       "  0.5053499877784919,\n",
       "  0.5069137181349147,\n",
       "  0.5079679413240414,\n",
       "  0.5102132283324209,\n",
       "  0.5057510554190144,\n",
       "  0.5065681189956627,\n",
       "  0.5068142279822778,\n",
       "  0.5123063674500933,\n",
       "  0.5086737771868037,\n",
       "  0.5049545850497182,\n",
       "  0.5057714212683183,\n",
       "  0.5072138894745067,\n",
       "  0.5088038465861174,\n",
       "  0.5106401952732168,\n",
       "  0.5150837610889156,\n",
       "  0.5038310553526615,\n",
       "  0.5059712583119415,\n",
       "  0.5096011230455765,\n",
       "  0.5070582995300277,\n",
       "  0.5064909857143081,\n",
       "  0.5100696772350654,\n",
       "  0.5056147044015233,\n",
       "  0.5101058476771501],\n",
       " 16000: [0.5093283769628956,\n",
       "  0.5065083789842104,\n",
       "  0.5085093899303686,\n",
       "  0.5087872336659551,\n",
       "  0.5070534891370578,\n",
       "  0.5056946005046562,\n",
       "  0.5027162869965403,\n",
       "  0.5077874710980826,\n",
       "  0.5073799727260107,\n",
       "  0.5082724975336379,\n",
       "  0.5069123402109948,\n",
       "  0.5043368974052183,\n",
       "  0.5059505912342325,\n",
       "  0.5099933553785663,\n",
       "  0.5051989666148564,\n",
       "  0.5083280118495102,\n",
       "  0.511182737110121,\n",
       "  0.5056262146156634,\n",
       "  0.5070150494292103,\n",
       "  0.5099617518487999,\n",
       "  0.5068227758857009,\n",
       "  0.5081414512583431,\n",
       "  0.5047233714385295,\n",
       "  0.5105788169159315,\n",
       "  0.5098264107219561],\n",
       " 32000: [0.5077251703562476,\n",
       "  0.5051878873093748,\n",
       "  0.5056886752716607,\n",
       "  0.5093417606123026,\n",
       "  0.5104829978662813,\n",
       "  0.503558229305825,\n",
       "  0.5069771517288411,\n",
       "  0.5094789364136727,\n",
       "  0.509820949611946,\n",
       "  0.5083455731315211,\n",
       "  0.5086322260811303,\n",
       "  0.5104118976173736,\n",
       "  0.5072801143413912,\n",
       "  0.5098807830695686,\n",
       "  0.506918548965016,\n",
       "  0.5070977395185792,\n",
       "  0.5086832180949233,\n",
       "  0.5036509365181397,\n",
       "  0.5088073458675574,\n",
       "  0.5080014621363828,\n",
       "  0.5067373890457378,\n",
       "  0.5122488061992766,\n",
       "  0.5043733807286416,\n",
       "  0.5072197830665607,\n",
       "  0.5092032079051341],\n",
       " 64000: [0.5218127340630706,\n",
       "  0.512226323442161,\n",
       "  0.5194689527289158,\n",
       "  0.5098736956372022,\n",
       "  0.5071129618791165,\n",
       "  0.5064767852846768,\n",
       "  0.511828819138143,\n",
       "  0.5118939029954195,\n",
       "  0.5114128841861819,\n",
       "  0.5117467297091453,\n",
       "  0.5147369807412254,\n",
       "  0.5164103480654959,\n",
       "  0.507661887244282,\n",
       "  0.5148413214578288,\n",
       "  0.5135042854955283,\n",
       "  0.506781872535974,\n",
       "  0.5127798447841821,\n",
       "  0.5108887805054692,\n",
       "  0.5060728156681267,\n",
       "  0.5105349809149908,\n",
       "  0.5106218280315553,\n",
       "  0.5118983849927761,\n",
       "  0.5131677115446838,\n",
       "  0.5173314622889615,\n",
       "  0.5172611276281383],\n",
       " 128000: [0.5214441537455273,\n",
       "  0.5199992543862866,\n",
       "  0.5236453888352957,\n",
       "  0.5197280646655847,\n",
       "  0.5255188224347842,\n",
       "  0.5246910540239248,\n",
       "  0.5251191795742273,\n",
       "  0.5232358805899563,\n",
       "  0.5208201457451113,\n",
       "  0.522055237812313,\n",
       "  0.5142773029199771,\n",
       "  0.5197335038448838,\n",
       "  0.5208645159395049,\n",
       "  0.5183345543974501,\n",
       "  0.5243414934151888,\n",
       "  0.5218289089317787,\n",
       "  0.5207838496475424,\n",
       "  0.5203855204555119,\n",
       "  0.5257178814863305,\n",
       "  0.5273068901678635,\n",
       "  0.5235672479664888,\n",
       "  0.5207352845150494,\n",
       "  0.5235629555615989,\n",
       "  0.5182133467052297,\n",
       "  0.5199296326880317],\n",
       " 256000: [0.5212947408913015,\n",
       "  0.5248769862361207,\n",
       "  0.5222056937058132,\n",
       "  0.5219476313504032,\n",
       "  0.518796526630352,\n",
       "  0.522188920097246,\n",
       "  0.523794740955281,\n",
       "  0.5274407969663647,\n",
       "  0.5234764884582663,\n",
       "  0.5272386093118167,\n",
       "  0.5183671453037236,\n",
       "  0.5259192206202591,\n",
       "  0.5268760182365325,\n",
       "  0.5239311236403771,\n",
       "  0.5268095196850463,\n",
       "  0.5210019575800693,\n",
       "  0.5255020130087351,\n",
       "  0.5248731044262094,\n",
       "  0.5196907959883561,\n",
       "  0.5234343145061708,\n",
       "  0.5243297705981156,\n",
       "  0.5229260632203458,\n",
       "  0.5260693814315154,\n",
       "  0.5266207374926366,\n",
       "  0.5182983175470998],\n",
       " 512000: [0.5197587712279703,\n",
       "  0.5234603618220589,\n",
       "  0.5195238318450938,\n",
       "  0.5195878957425983,\n",
       "  0.5258144139260569,\n",
       "  0.5248316318089361,\n",
       "  0.5230195073510503,\n",
       "  0.5233165764830283,\n",
       "  0.5287265824716872,\n",
       "  0.5268998929895963,\n",
       "  0.5264723846692058,\n",
       "  0.5221453991588855,\n",
       "  0.5258009694097592,\n",
       "  0.512736175431486,\n",
       "  0.5177336921936674,\n",
       "  0.5259206601799195,\n",
       "  0.5224601383344569,\n",
       "  0.5243044627608221,\n",
       "  0.521618435850485,\n",
       "  0.5283338023876847,\n",
       "  0.5194676259758083,\n",
       "  0.518937608294611,\n",
       "  0.5230334390751004,\n",
       "  0.5209628634945955,\n",
       "  0.5203324794552562],\n",
       " 1024000: [0.5289054858052289,\n",
       "  0.5208759282811111,\n",
       "  0.5264161599782834,\n",
       "  0.5295730010034697,\n",
       "  0.5302957036290508,\n",
       "  0.5246409732426354,\n",
       "  0.5223384233082339,\n",
       "  0.5252807942334516,\n",
       "  0.5216313718698683,\n",
       "  0.5252569554619585,\n",
       "  0.5247217253745354,\n",
       "  0.5236802588514518,\n",
       "  0.5282727028045627,\n",
       "  0.5257970233838187,\n",
       "  0.5268051334059995,\n",
       "  0.5299565267526762,\n",
       "  0.5168893963765322,\n",
       "  0.5235463507691113,\n",
       "  0.5272922950524404,\n",
       "  0.5296363567149831,\n",
       "  0.5223208770103558,\n",
       "  0.5226056988642154,\n",
       "  0.5280008891865519,\n",
       "  0.5197870479591666,\n",
       "  0.524969321927866],\n",
       " 2048000: [0.5221541254562003,\n",
       "  0.5210844188147702,\n",
       "  0.5258873697214564,\n",
       "  0.5213902514489083,\n",
       "  0.5273075402390726,\n",
       "  0.5337195178988408,\n",
       "  0.5281123659263741,\n",
       "  0.5239725652253688,\n",
       "  0.5232307776047286,\n",
       "  0.5206652966744423,\n",
       "  0.5319417110289283,\n",
       "  0.5302034324416549,\n",
       "  0.5219974233941408,\n",
       "  0.5261214209186965,\n",
       "  0.525076478828524,\n",
       "  0.5275534818302063,\n",
       "  0.5235422232271956,\n",
       "  0.5242088855158105,\n",
       "  0.5225865071265925,\n",
       "  0.5255914971164947,\n",
       "  0.5262628577481587,\n",
       "  0.5198478257740137,\n",
       "  0.5338174022553399,\n",
       "  0.5201917184575987,\n",
       "  0.529923664813219],\n",
       " 4096000: [0.5243914239774411,\n",
       "  0.5276524200021256,\n",
       "  0.5257417034931438,\n",
       "  0.529999203917063,\n",
       "  0.5243198550629516,\n",
       "  0.5235365770271525,\n",
       "  0.5325330302840947,\n",
       "  0.5199914379250129,\n",
       "  0.5301551560019597,\n",
       "  0.5341016537896253,\n",
       "  0.5269708698136337,\n",
       "  0.5301251074354667,\n",
       "  0.5318476269194765,\n",
       "  0.5268067575131197,\n",
       "  0.5320477334766023,\n",
       "  0.5250540404474313,\n",
       "  0.5281304091489304,\n",
       "  0.5306240379825591,\n",
       "  0.5249494240599548,\n",
       "  0.5293543848960336,\n",
       "  0.5283646981690179,\n",
       "  0.5278103149774188,\n",
       "  0.5195821596584147,\n",
       "  0.5281745271140129,\n",
       "  0.5165985105038988],\n",
       " 8192000: [0.5397721070701339,\n",
       "  0.539450500897217,\n",
       "  0.5406249100366589,\n",
       "  0.5431943213280381,\n",
       "  0.5359658182889391,\n",
       "  0.5320503668280767,\n",
       "  0.5414841612110708,\n",
       "  0.5414013708301328,\n",
       "  0.5349510931099245,\n",
       "  0.546403568994596,\n",
       "  0.5456404186765316,\n",
       "  0.5447698865507392,\n",
       "  0.5387020945629089,\n",
       "  0.5442076382265321,\n",
       "  0.5449696743012622,\n",
       "  0.5402964797970664,\n",
       "  0.5438954957651418,\n",
       "  0.5458778129764867,\n",
       "  0.5411934458504284,\n",
       "  0.5434895823313697,\n",
       "  0.5390346053336099,\n",
       "  0.5413821863622184,\n",
       "  0.5375944340588088,\n",
       "  0.5426221373505905,\n",
       "  0.5390654282982116],\n",
       " 16384000: [0.5442448647124931,\n",
       "  0.544503585489511,\n",
       "  0.5414088646744849,\n",
       "  0.5461198985725998,\n",
       "  0.5521632970192641,\n",
       "  0.5492958305931233,\n",
       "  0.5431041617813716,\n",
       "  0.5468973999278449,\n",
       "  0.5496842003051332,\n",
       "  0.5389012256214724,\n",
       "  0.5503290131005854,\n",
       "  0.5482142924640222,\n",
       "  0.5479042562612809,\n",
       "  0.5475582536050869,\n",
       "  0.5390322988645403,\n",
       "  0.5415743905122704,\n",
       "  0.5458709299672821,\n",
       "  0.5466922030559611,\n",
       "  0.5415727561805577,\n",
       "  0.538632477967022,\n",
       "  0.5421158238484909,\n",
       "  0.5453726855913763,\n",
       "  0.5433035290637063,\n",
       "  0.5504095223653597,\n",
       "  0.5444400650994723]}"
      ]
     },
     "execution_count": 70,
     "metadata": {},
     "output_type": "execute_result"
    }
   ],
   "source": [
    "rocaucs"
   ]
  },
  {
   "cell_type": "code",
   "execution_count": 67,
   "id": "9e499aa5-06e9-4aa2-a668-051d6b37f5e3",
   "metadata": {},
   "outputs": [
    {
     "data": {
      "image/png": "[encoded data removed]",
      "text/plain": [
       "<Figure size 864x648 with 1 Axes>"
      ]
     },
     "metadata": {
      "needs_background": "light"
     },
     "output_type": "display_data"
    }
   ],
   "source": [
    "s = '''w500: rocauc = 0.5088 +- 0.0012\n",
    "w1000: rocauc = 0.5081 +- 0.0022\n",
    "w2000: rocauc = 0.5096 +- 0.0020\n",
    "w4000: rocauc = 0.5076 +- 0.0012\n",
    "w8000: rocauc = 0.5073 +- 0.0021\n",
    "w16000: rocauc = 0.5087 +- 0.0029\n",
    "w32000: rocauc = 0.5075 +- 0.0024\n",
    "w64000: rocauc = 0.5121 +- 0.0021\n",
    "w128000: rocauc = 0.5212 +- 0.0042\n",
    "w256000: rocauc = 0.5221 +- 0.0026\n",
    "w512000: rocauc = 0.5217 +- 0.0025\n",
    "w1024000: rocauc = 0.5255 +- 0.0023\n",
    "w2048000: rocauc = 0.5276 +- 0.0038\n",
    "w4096000: rocauc = 0.5280 +- 0.0031\n",
    "w8192000: rocauc = 0.5424 +- 0.0055\n",
    "w16384000: rocauc = 0.5465 +- 0.0014'''.split('\\n')\n",
    "s = np.array([[float(i.split()[-3]), float(i.split()[-1])] for i in s])\n",
    "s\n",
    "plt.figure(figsize=(12, 9))\n",
    "plt.errorbar([f'{i:.1f}' for i in range(16)], s[:, 0], yerr=s[:, 1], ls='', fmt='s')\n",
    "plt.xlabel('$\\log_2$(window halfwidth / 500)', fontsize=16)\n",
    "plt.ylabel('ROC AUC', fontsize=16)\n",
    "plt.tight_layout()\n",
    "plt.savefig('rocaucs.png')\n"
   ]
  },
  {
   "cell_type": "code",
   "execution_count": null,
   "id": "508ae3f7-a149-4be8-bd38-daf8ad4f8186",
   "metadata": {},
   "outputs": [],
   "source": [
    "wsizes = [500 * 2**i for i in range(16)]\n",
    "vals = {ws: auc for ws, auc in zip(wsizes, [0.]*16) }\n",
    "\n",
    "for i in range(8):\n",
    "    print(f\"{wsizes[i]} & {vals[wsizes[i]]} & {wsizes[i+8]} & {vals[wsizes[i+8]]} \\\\\\\\\\\\hline\")\n"
   ]
  },
  {
   "cell_type": "code",
   "execution_count": 197,
   "id": "b6c5f944-d505-42e7-b3c0-05ebb08394cc",
   "metadata": {},
   "outputs": [
    {
     "data": {
      "text/plain": [
       "array(['./.', '0/0', '0/1', '1/1'], dtype=object)"
      ]
     },
     "execution_count": 197,
     "metadata": {},
     "output_type": "execute_result"
    }
   ],
   "source": [
    "assert (np.unique(variants_df_T.values) == ['./.', '0/0', '0/1', '1/1']).all()\n",
    "np.unique(variants_df_T.values)"
   ]
  },
  {
   "cell_type": "code",
   "execution_count": 198,
   "id": "acb2abfc-81c6-4fac-835c-5b2d5ee11a14",
   "metadata": {},
   "outputs": [
    {
     "data": {
      "text/plain": [
       "488"
      ]
     },
     "execution_count": 198,
     "metadata": {},
     "output_type": "execute_result"
    }
   ],
   "source": [
    "np.sum(variants_df_T.values == './.')"
   ]
  },
  {
   "cell_type": "code",
   "execution_count": 174,
   "id": "f87bec42-1b93-4f75-b34b-5d94bb8076a5",
   "metadata": {},
   "outputs": [
    {
     "name": "stdout",
     "output_type": "stream",
     "text": [
      "75204 \n",
      " 0 0 1 1 1 1 0 1 1 0 1 1 1 0 1 0 0 0 1 0 0 0 1 0 1 1 0 0 1 0\n"
     ]
    }
   ],
   "source": [
    "# takes around 30-40 secs\n",
    "y = [int(i in diabetes_cols) for i in variants_df_T.index.values]\n",
    "print(len(y), '\\n', *y[:30])"
   ]
  },
  {
   "cell_type": "code",
   "execution_count": 201,
   "id": "58d3e0e1-0bdb-4e47-b736-c4a48a731196",
   "metadata": {},
   "outputs": [],
   "source": [
    "X_train, X_test, y_train, y_test = train_test_split(X, y, test_size=0.25)"
   ]
  },
  {
   "cell_type": "code",
   "execution_count": 202,
   "id": "be786826-cb5e-43ab-b3f0-abf94563e33d",
   "metadata": {},
   "outputs": [
    {
     "data": {
      "text/html": [
       "<div>\n",
       "<style scoped>\n",
       "    .dataframe tbody tr th:only-of-type {\n",
       "        vertical-align: middle;\n",
       "    }\n",
       "\n",
       "    .dataframe tbody tr th {\n",
       "        vertical-align: top;\n",
       "    }\n",
       "\n",
       "    .dataframe thead th {\n",
       "        text-align: right;\n",
       "    }\n",
       "</style>\n",
       "<table border=\"1\" class=\"dataframe\">\n",
       "  <thead>\n",
       "    <tr style=\"text-align: right;\">\n",
       "      <th></th>\n",
       "      <th>rs7770557_./.</th>\n",
       "      <th>rs7770557_0/0</th>\n",
       "      <th>rs7770557_0/1</th>\n",
       "      <th>rs7770557_1/1</th>\n",
       "      <th>rs115321330_./.</th>\n",
       "      <th>rs115321330_0/0</th>\n",
       "      <th>rs115321330_0/1</th>\n",
       "      <th>rs115321330_1/1</th>\n",
       "      <th>rs1893250_./.</th>\n",
       "      <th>rs1893250_0/0</th>\n",
       "      <th>rs1893250_0/1</th>\n",
       "      <th>rs1893250_1/1</th>\n",
       "    </tr>\n",
       "  </thead>\n",
       "  <tbody>\n",
       "    <tr>\n",
       "      <th>5864019_5864019</th>\n",
       "      <td>0</td>\n",
       "      <td>1</td>\n",
       "      <td>0</td>\n",
       "      <td>0</td>\n",
       "      <td>0</td>\n",
       "      <td>1</td>\n",
       "      <td>0</td>\n",
       "      <td>0</td>\n",
       "      <td>0</td>\n",
       "      <td>1</td>\n",
       "      <td>0</td>\n",
       "      <td>0</td>\n",
       "    </tr>\n",
       "    <tr>\n",
       "      <th>3282140_3282140</th>\n",
       "      <td>0</td>\n",
       "      <td>1</td>\n",
       "      <td>0</td>\n",
       "      <td>0</td>\n",
       "      <td>0</td>\n",
       "      <td>1</td>\n",
       "      <td>0</td>\n",
       "      <td>0</td>\n",
       "      <td>0</td>\n",
       "      <td>0</td>\n",
       "      <td>1</td>\n",
       "      <td>0</td>\n",
       "    </tr>\n",
       "    <tr>\n",
       "      <th>2154334_2154334</th>\n",
       "      <td>0</td>\n",
       "      <td>1</td>\n",
       "      <td>0</td>\n",
       "      <td>0</td>\n",
       "      <td>0</td>\n",
       "      <td>1</td>\n",
       "      <td>0</td>\n",
       "      <td>0</td>\n",
       "      <td>0</td>\n",
       "      <td>0</td>\n",
       "      <td>1</td>\n",
       "      <td>0</td>\n",
       "    </tr>\n",
       "    <tr>\n",
       "      <th>5656831_5656831</th>\n",
       "      <td>0</td>\n",
       "      <td>1</td>\n",
       "      <td>0</td>\n",
       "      <td>0</td>\n",
       "      <td>0</td>\n",
       "      <td>1</td>\n",
       "      <td>0</td>\n",
       "      <td>0</td>\n",
       "      <td>0</td>\n",
       "      <td>0</td>\n",
       "      <td>1</td>\n",
       "      <td>0</td>\n",
       "    </tr>\n",
       "    <tr>\n",
       "      <th>5590596_5590596</th>\n",
       "      <td>0</td>\n",
       "      <td>0</td>\n",
       "      <td>0</td>\n",
       "      <td>1</td>\n",
       "      <td>0</td>\n",
       "      <td>1</td>\n",
       "      <td>0</td>\n",
       "      <td>0</td>\n",
       "      <td>0</td>\n",
       "      <td>0</td>\n",
       "      <td>1</td>\n",
       "      <td>0</td>\n",
       "    </tr>\n",
       "    <tr>\n",
       "      <th>...</th>\n",
       "      <td>...</td>\n",
       "      <td>...</td>\n",
       "      <td>...</td>\n",
       "      <td>...</td>\n",
       "      <td>...</td>\n",
       "      <td>...</td>\n",
       "      <td>...</td>\n",
       "      <td>...</td>\n",
       "      <td>...</td>\n",
       "      <td>...</td>\n",
       "      <td>...</td>\n",
       "      <td>...</td>\n",
       "    </tr>\n",
       "    <tr>\n",
       "      <th>2861188_2861188</th>\n",
       "      <td>0</td>\n",
       "      <td>1</td>\n",
       "      <td>0</td>\n",
       "      <td>0</td>\n",
       "      <td>0</td>\n",
       "      <td>1</td>\n",
       "      <td>0</td>\n",
       "      <td>0</td>\n",
       "      <td>0</td>\n",
       "      <td>0</td>\n",
       "      <td>0</td>\n",
       "      <td>1</td>\n",
       "    </tr>\n",
       "    <tr>\n",
       "      <th>1039848_1039848</th>\n",
       "      <td>0</td>\n",
       "      <td>1</td>\n",
       "      <td>0</td>\n",
       "      <td>0</td>\n",
       "      <td>0</td>\n",
       "      <td>1</td>\n",
       "      <td>0</td>\n",
       "      <td>0</td>\n",
       "      <td>0</td>\n",
       "      <td>0</td>\n",
       "      <td>1</td>\n",
       "      <td>0</td>\n",
       "    </tr>\n",
       "    <tr>\n",
       "      <th>5042100_5042100</th>\n",
       "      <td>0</td>\n",
       "      <td>1</td>\n",
       "      <td>0</td>\n",
       "      <td>0</td>\n",
       "      <td>0</td>\n",
       "      <td>1</td>\n",
       "      <td>0</td>\n",
       "      <td>0</td>\n",
       "      <td>0</td>\n",
       "      <td>0</td>\n",
       "      <td>1</td>\n",
       "      <td>0</td>\n",
       "    </tr>\n",
       "    <tr>\n",
       "      <th>3249305_3249305</th>\n",
       "      <td>0</td>\n",
       "      <td>1</td>\n",
       "      <td>0</td>\n",
       "      <td>0</td>\n",
       "      <td>0</td>\n",
       "      <td>1</td>\n",
       "      <td>0</td>\n",
       "      <td>0</td>\n",
       "      <td>0</td>\n",
       "      <td>0</td>\n",
       "      <td>1</td>\n",
       "      <td>0</td>\n",
       "    </tr>\n",
       "    <tr>\n",
       "      <th>4696292_4696292</th>\n",
       "      <td>0</td>\n",
       "      <td>0</td>\n",
       "      <td>1</td>\n",
       "      <td>0</td>\n",
       "      <td>0</td>\n",
       "      <td>1</td>\n",
       "      <td>0</td>\n",
       "      <td>0</td>\n",
       "      <td>0</td>\n",
       "      <td>0</td>\n",
       "      <td>1</td>\n",
       "      <td>0</td>\n",
       "    </tr>\n",
       "  </tbody>\n",
       "</table>\n",
       "<p>56403 rows × 12 columns</p>\n",
       "</div>"
      ],
      "text/plain": [
       "                 rs7770557_./.  rs7770557_0/0  rs7770557_0/1  rs7770557_1/1  \\\n",
       "5864019_5864019              0              1              0              0   \n",
       "3282140_3282140              0              1              0              0   \n",
       "2154334_2154334              0              1              0              0   \n",
       "5656831_5656831              0              1              0              0   \n",
       "5590596_5590596              0              0              0              1   \n",
       "...                        ...            ...            ...            ...   \n",
       "2861188_2861188              0              1              0              0   \n",
       "1039848_1039848              0              1              0              0   \n",
       "5042100_5042100              0              1              0              0   \n",
       "3249305_3249305              0              1              0              0   \n",
       "4696292_4696292              0              0              1              0   \n",
       "\n",
       "                 rs115321330_./.  rs115321330_0/0  rs115321330_0/1  \\\n",
       "5864019_5864019                0                1                0   \n",
       "3282140_3282140                0                1                0   \n",
       "2154334_2154334                0                1                0   \n",
       "5656831_5656831                0                1                0   \n",
       "5590596_5590596                0                1                0   \n",
       "...                          ...              ...              ...   \n",
       "2861188_2861188                0                1                0   \n",
       "1039848_1039848                0                1                0   \n",
       "5042100_5042100                0                1                0   \n",
       "3249305_3249305                0                1                0   \n",
       "4696292_4696292                0                1                0   \n",
       "\n",
       "                 rs115321330_1/1  rs1893250_./.  rs1893250_0/0  rs1893250_0/1  \\\n",
       "5864019_5864019                0              0              1              0   \n",
       "3282140_3282140                0              0              0              1   \n",
       "2154334_2154334                0              0              0              1   \n",
       "5656831_5656831                0              0              0              1   \n",
       "5590596_5590596                0              0              0              1   \n",
       "...                          ...            ...            ...            ...   \n",
       "2861188_2861188                0              0              0              0   \n",
       "1039848_1039848                0              0              0              1   \n",
       "5042100_5042100                0              0              0              1   \n",
       "3249305_3249305                0              0              0              1   \n",
       "4696292_4696292                0              0              0              1   \n",
       "\n",
       "                 rs1893250_1/1  \n",
       "5864019_5864019              0  \n",
       "3282140_3282140              0  \n",
       "2154334_2154334              0  \n",
       "5656831_5656831              0  \n",
       "5590596_5590596              0  \n",
       "...                        ...  \n",
       "2861188_2861188              1  \n",
       "1039848_1039848              0  \n",
       "5042100_5042100              0  \n",
       "3249305_3249305              0  \n",
       "4696292_4696292              0  \n",
       "\n",
       "[56403 rows x 12 columns]"
      ]
     },
     "execution_count": 202,
     "metadata": {},
     "output_type": "execute_result"
    }
   ],
   "source": [
    "X_train"
   ]
  },
  {
   "cell_type": "code",
   "execution_count": 203,
   "id": "85727748-f621-4df6-b4cc-65fb43a69fcd",
   "metadata": {},
   "outputs": [
    {
     "data": {
      "text/plain": [
       "LogisticRegression()"
      ]
     },
     "execution_count": 203,
     "metadata": {},
     "output_type": "execute_result"
    }
   ],
   "source": [
    "logreg.fit(X_train, y_train)"
   ]
  },
  {
   "cell_type": "code",
   "execution_count": 210,
   "id": "4b99fdd8-dc2b-4ad5-96a3-4c68436947b4",
   "metadata": {},
   "outputs": [
    {
     "data": {
      "text/plain": [
       "0.5158977976373893"
      ]
     },
     "execution_count": 210,
     "metadata": {},
     "output_type": "execute_result"
    }
   ],
   "source": [
    "roc_auc_score(y_test, logreg.predict_proba(X_test)[:, 1])"
   ]
  },
  {
   "cell_type": "code",
   "execution_count": 207,
   "id": "c19f76e3-22a3-44a1-abbb-25633eb484ed",
   "metadata": {},
   "outputs": [
    {
     "data": {
      "text/plain": [
       "(18801, 2)"
      ]
     },
     "execution_count": 207,
     "metadata": {},
     "output_type": "execute_result"
    }
   ],
   "source": [
    "logreg.predict_proba(X_test).shape"
   ]
  },
  {
   "cell_type": "markdown",
   "id": "3bcd44b8-c1d2-4e9e-bead-54a722296209",
   "metadata": {},
   "source": [
    "### sklearn redone"
   ]
  },
  {
   "cell_type": "code",
   "execution_count": 23,
   "id": "4402244d-ad4b-4827-b45e-a53e3432962a",
   "metadata": {},
   "outputs": [],
   "source": [
    "from sklearn.linear_model import LogisticRegression  #other?\n",
    "from sklearn.model_selection import train_test_split\n",
    "from sklearn.metrics import roc_auc_score, RocCurveDisplay"
   ]
  },
  {
   "cell_type": "code",
   "execution_count": 24,
   "id": "c19cc322-a9a3-4d3a-8111-707419080715",
   "metadata": {},
   "outputs": [
    {
     "name": "stdout",
     "output_type": "stream",
     "text": [
      "crohn\n",
      "ulcerative_colitis\n",
      "type_ii_diabetes\n",
      "breast_cancer\n"
     ]
    }
   ],
   "source": [
    "for trait, _ in diseases:\n",
    "    print(trait)\n",
    "    \n",
    "    n_halfpeople = min(len(healthy_eids[trait]), len(disease_used_eids[trait]))\n",
    "    \n",
    "            proc = subprocess.run([PLINK_EXEC_PATH, \n",
    "                                   \"--bfile\", f\"../ukbiobank/raw_data/ukb22418_c{chrom}_b0_v2\", \n",
    "                                   \"--pheno\", f\"../patients-csvs/{trait}_patients.pheno\",\n",
    "                                   \"--extract\", f\"asbs_near_eqtls/{trait}/w{wsize}_p0.05_snp_ids_list.txt\",\n",
    "                                   \"--allow-no-sex\", \n",
    "                                   \"--recode\", \"vcf\", \n",
    "                                   \"--out\", f\"../biobank_extracted/tmp\"],\n",
    "                                 capture_output=True)"
   ]
  },
  {
   "cell_type": "code",
   "execution_count": 25,
   "id": "8fca312a-54b8-4d35-830a-1c74d85da673",
   "metadata": {},
   "outputs": [],
   "source": [
    "def foo(*args):\n",
    "    print(*args)"
   ]
  },
  {
   "cell_type": "code",
   "execution_count": 27,
   "id": "e9c93f4d-83cc-4bf3-acbc-4817b98e31a9",
   "metadata": {},
   "outputs": [
    {
     "name": "stdout",
     "output_type": "stream",
     "text": [
      "2 4 [3, 4] 3 4 [3, 4] 3 4\n"
     ]
    }
   ],
   "source": [
    "foo(2, 4, [3,4], *[3,4], [3,4], *[3,4])"
   ]
  },
  {
   "cell_type": "code",
   "execution_count": null,
   "id": "6e0b6b62-ef33-49b2-85d6-4a467caac408",
   "metadata": {},
   "outputs": [],
   "source": []
  },
  {
   "cell_type": "code",
   "execution_count": null,
   "id": "69193d59-204d-42fc-99e4-98f57ff62bf2",
   "metadata": {},
   "outputs": [],
   "source": []
  },
  {
   "cell_type": "markdown",
   "id": "d8cf3bfc-db8c-45fe-8114-9e266143491b",
   "metadata": {},
   "source": [
    "### PLINK regressions"
   ]
  },
  {
   "cell_type": "markdown",
   "id": "0fa862d7-7c55-4b40-8e1a-a68d3645980f",
   "metadata": {},
   "source": [
    "?????"
   ]
  },
  {
   "cell_type": "code",
   "execution_count": null,
   "id": "63952988-5f5b-42c2-a3ea-f7abea5c1f72",
   "metadata": {},
   "outputs": [],
   "source": []
  }
 ],
 "metadata": {
  "kernelspec": {
   "display_name": "Python 3 (ipykernel)",
   "language": "python",
   "name": "python3"
  },
  "language_info": {
   "codemirror_mode": {
    "name": "ipython",
    "version": 3
   },
   "file_extension": ".py",
   "mimetype": "text/x-python",
   "name": "python",
   "nbconvert_exporter": "python",
   "pygments_lexer": "ipython3",
   "version": "3.9.7"
  }
 },
 "nbformat": 4,
 "nbformat_minor": 5
}
