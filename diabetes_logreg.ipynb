{
 "cells": [
  {
   "cell_type": "code",
   "execution_count": 1,
   "id": "85b3ba91-b16e-4dda-ba9a-45521d5abc31",
   "metadata": {},
   "outputs": [],
   "source": [
    "import numpy as np\n",
    "import pandas as pd\n",
    "\n",
    "import matplotlib\n",
    "import matplotlib.pyplot as plt\n",
    "\n",
    "import glob\n",
    "import random\n",
    "import subprocess\n",
    "\n",
    "#from tqdm.autonotebook import tqdm"
   ]
  },
  {
   "cell_type": "markdown",
   "id": "c6f322cc-ae24-4c5c-995b-89eac0869753",
   "metadata": {},
   "source": [
    "## Patients table"
   ]
  },
  {
   "cell_type": "code",
   "execution_count": 2,
   "id": "bb96474a-3811-417a-893f-3214467b306f",
   "metadata": {},
   "outputs": [],
   "source": [
    "'''\n",
    "'Crohn disease': K50\n",
    "'Ulcerative colitis': K51\n",
    "'Type II diabetes': E11\n",
    "'Breast cancer (selected using MutPanning26)': C50? Malignant neoplasms of breast\n",
    "'''\n",
    "\n",
    "diseases = [\n",
    "    ('crohn', 'K50'),\n",
    "    ('ulcerative_colitis', 'K51'),\n",
    "    ('type_ii_diabetes', 'E11'),\n",
    "    ('breast_cancer', 'C50')\n",
    "]"
   ]
  },
  {
   "cell_type": "code",
   "execution_count": 3,
   "id": "1c614434-3b51-4a45-8a9b-03f31fa77a86",
   "metadata": {},
   "outputs": [
    {
     "data": {
      "text/plain": [
       "''"
      ]
     },
     "execution_count": 3,
     "metadata": {},
     "output_type": "execute_result"
    }
   ],
   "source": [
    "'''\n",
    "with open('test.csv', 'w') as f:\n",
    "    cat = subprocess.Popen([\"cat\", \"/home/vasikam/ukb_public_diagnoses.csv\"],\n",
    "                           stdout=subprocess.PIPE)\n",
    "    hd = subprocess.Popen([\"wc\"], stdin=cat.stdout, stdout=f)\n",
    "    \n",
    "with open(\"test.txt\", \"w\") as f:\n",
    "    a = subprocess.Popen([\"echo\", \"e\\nsd\"], stdout=subprocess.PIPE)\n",
    "    b = subprocess.Popen([\"head\", \"-c\", \"2\"], stdin=a.stdout, stdout=f)\n",
    "''' \n",
    "''\n",
    "# for some reason i was unable to get this working, hence the following cell"
   ]
  },
  {
   "cell_type": "code",
   "execution_count": 4,
   "id": "11a13f52-7d1f-49d1-b9b4-b0b3f8103c8e",
   "metadata": {},
   "outputs": [
    {
     "name": "stdout",
     "output_type": "stream",
     "text": [
      "cat: write error: Broken pipe\n",
      "cat: write error: Broken pipe\n",
      "cat: write error: Broken pipe\n",
      "cat: write error: Broken pipe\n"
     ]
    }
   ],
   "source": [
    "for disease, ICD in diseases:\n",
    "    output_filename = f'{disease}_patients.csv'\n",
    "    !cat ../ukbiobank_link/tables/ukb_public_diagnoses.csv | head -n 1 > $output_filename\n",
    "    !cat ../ukbiobank_link/tables/ukb_public_diagnoses.csv | grep $ICD >> $output_filename"
   ]
  },
  {
   "cell_type": "code",
   "execution_count": 5,
   "id": "37be0c2b-3b49-459d-9182-b59ae550df6d",
   "metadata": {},
   "outputs": [
    {
     "name": "stdout",
     "output_type": "stream",
     "text": [
      "       eid  diagnosis_number diagnosis              diagnosis_date  \\\n",
      "0  1002586                 8      K500  2015-03-26 00:00:00.000000   \n",
      "1  1006327                16      K501  2014-06-19 00:00:00.000000   \n",
      "2  1006327                17      K509  2019-02-17 00:00:00.000000   \n",
      "\n",
      "  icd_classification  \n",
      "0              ICD10  \n",
      "1              ICD10  \n",
      "2              ICD10  \n",
      "       eid  diagnosis_number diagnosis              diagnosis_date  \\\n",
      "0  1000871                 6      K513  2010-10-21 00:00:00.000000   \n",
      "1  1000871                 7      K519  2001-07-31 00:00:00.000000   \n",
      "2  1001144                 1      K519  2013-09-27 00:00:00.000000   \n",
      "\n",
      "  icd_classification  \n",
      "0              ICD10  \n",
      "1              ICD10  \n",
      "2              ICD10  \n",
      "       eid  diagnosis_number diagnosis              diagnosis_date  \\\n",
      "0  1000101                 0      E119  2020-03-18 00:00:00.000000   \n",
      "1  1000174                 0      E119  2012-04-11 00:00:00.000000   \n",
      "2  1000193                 1      E119  2005-08-01 00:00:00.000000   \n",
      "\n",
      "  icd_classification  \n",
      "0              ICD10  \n",
      "1              ICD10  \n",
      "2              ICD10  \n",
      "       eid  diagnosis_number diagnosis              diagnosis_date  \\\n",
      "0  1000578                 0      C505  2010-03-29 00:00:00.000000   \n",
      "1  1000839                 0      C509  2017-07-24 00:00:00.000000   \n",
      "2  1001378                 0      C504  2006-06-15 00:00:00.000000   \n",
      "\n",
      "  icd_classification  \n",
      "0              ICD10  \n",
      "1              ICD10  \n",
      "2              ICD10  \n"
     ]
    }
   ],
   "source": [
    "patients_df = {}\n",
    "for disease, ICD in diseases:\n",
    "    csv_filename = f'{disease}_patients.csv'\n",
    "    patients_df[disease] = pd.read_csv(csv_filename)\n",
    "    print(patients_df[disease].head(3))"
   ]
  },
  {
   "cell_type": "code",
   "execution_count": 6,
   "id": "914ec745-7497-4ee1-82f3-107247523bc6",
   "metadata": {},
   "outputs": [
    {
     "name": "stdout",
     "output_type": "stream",
     "text": [
      "crohn ['K500' 'K501' 'K508' 'K509']\n",
      "ulcerative_colitis ['K510' 'K511' 'K512' 'K513' 'K514' 'K515' 'K518' 'K519']\n",
      "type_ii_diabetes ['E110' 'E111' 'E112' 'E113' 'E114' 'E115' 'E116' 'E117' 'E118' 'E119']\n",
      "breast_cancer ['C500' 'C501' 'C502' 'C503' 'C504' 'C505' 'C506' 'C508' 'C509']\n"
     ]
    }
   ],
   "source": [
    "for disease, ICD in diseases:\n",
    "    print(disease, np.unique(patients_df[disease]['diagnosis'].values))"
   ]
  },
  {
   "cell_type": "code",
   "execution_count": 7,
   "id": "e39f0f69-c105-4fe5-be91-e5020f05f1f8",
   "metadata": {},
   "outputs": [
    {
     "name": "stdout",
     "output_type": "stream",
     "text": [
      "4216 2832\n",
      "7196 5211\n",
      "45504 38993\n",
      "20980 17241\n"
     ]
    }
   ],
   "source": [
    "disease_eids = {}\n",
    "for disease, ICD in diseases:\n",
    "    csv_filename = f'{disease}_patients.csv'\n",
    "    disease_eids[disease] = pd.read_csv(csv_filename)['eid'].values\n",
    "    print(len(disease_eids[disease]), len(set(disease_eids[disease])))\n",
    "    \n",
    "# These results show that eids repeat\n",
    "# One patients can have several codes from one group (e.g. K500+K508)"
   ]
  },
  {
   "cell_type": "code",
   "execution_count": 8,
   "id": "bd3691e7-625e-4e58-9fdd-2a5d4022fcee",
   "metadata": {},
   "outputs": [
    {
     "name": "stdout",
     "output_type": "stream",
     "text": [
      "crohn\t2832\t[2506753, 5513220, 5627913]\n",
      "ulcerative_colitis\t5211\t[2621447, 3276807, 3833870]\n",
      "type_ii_diabetes\t38993\t[4063233, 5767170, 5898249]\n",
      "breast_cancer\t17241\t[1998853, 4456453, 3506187]\n"
     ]
    }
   ],
   "source": [
    "disease_eids = {}\n",
    "vcf_cols = {}\n",
    "for disease, ICD in diseases:\n",
    "    csv_filename = f'{disease}_patients.csv'\n",
    "    disease_eids[disease] = set(pd.read_csv(csv_filename)['eid'].values)\n",
    "    #vcf_cols[disease] = [str(i) + '_' + str(i) for i in disease_eids[disease]]\n",
    "    #diabetes_eids\n",
    "    print(disease, len(disease_eids[disease]), list(disease_eids[disease])[:3], sep='\\t')"
   ]
  },
  {
   "cell_type": "markdown",
   "id": "b7861cbc-fe32-415e-8e26-1bc90c91b43a",
   "metadata": {
    "tags": []
   },
   "source": [
    "## VCFs"
   ]
  },
  {
   "cell_type": "code",
   "execution_count": 9,
   "id": "897d0f6a-e55a-4535-880c-065636cde15b",
   "metadata": {},
   "outputs": [],
   "source": [
    "chroms = list(range(1, 23)) + ['X', 'XY', 'Y', 'MT']"
   ]
  },
  {
   "cell_type": "markdown",
   "id": "f2f02cec-6ed8-42b4-b93b-fcccf8b550d0",
   "metadata": {
    "jp-MarkdownHeadingCollapsed": true,
    "tags": []
   },
   "source": [
    "### playing with stuff"
   ]
  },
  {
   "cell_type": "code",
   "execution_count": 4,
   "id": "cc4ce867-344d-44ce-90d0-82d72456662c",
   "metadata": {},
   "outputs": [
    {
     "name": "stdout",
     "output_type": "stream",
     "text": [
      "-rwxrwxrwx 1 zveraa zveraa  70G сен 20  2021 ../ukbiobank_link/raw_data/ukb22418_c10_b0_v2.vcf\n",
      "-rwxrwxrwx 1 zveraa zveraa  75G сен 20  2021 ../ukbiobank_link/raw_data/ukb22418_c11_b0_v2.vcf\n",
      "-rwxrwxrwx 1 zveraa zveraa  68G сен 20  2021 ../ukbiobank_link/raw_data/ukb22418_c12_b0_v2.vcf\n",
      "-rwxrwxrwx 1 zveraa zveraa  49G сен 20  2021 ../ukbiobank_link/raw_data/ukb22418_c13_b0_v2.vcf\n",
      "-rwxrwxrwx 1 zveraa zveraa  47G сен 20  2021 ../ukbiobank_link/raw_data/ukb22418_c14_b0_v2.vcf\n",
      "-rwxrwxrwx 1 zveraa zveraa  45G сен 20  2021 ../ukbiobank_link/raw_data/ukb22418_c15_b0_v2.vcf\n",
      "-rwxrwxrwx 1 zveraa zveraa  53G сен 20  2021 ../ukbiobank_link/raw_data/ukb22418_c16_b0_v2.vcf\n",
      "-rwxrwxrwx 1 zveraa zveraa  53G сен 20  2021 ../ukbiobank_link/raw_data/ukb22418_c17_b0_v2.vcf\n",
      "-rwxrwxrwx 1 zveraa zveraa  40G сен 20  2021 ../ukbiobank_link/raw_data/ukb22418_c18_b0_v2.vcf\n",
      "-rwxrwxrwx 1 zveraa zveraa  48G сен 20  2021 ../ukbiobank_link/raw_data/ukb22418_c19_b0_v2.vcf\n",
      "-rwxrwxrwx 1 zveraa zveraa 116G сен 20  2021 ../ukbiobank_link/raw_data/ukb22418_c1_b0_v2.vcf\n",
      "-rwxrwxrwx 1 zveraa zveraa  37G сен 20  2021 ../ukbiobank_link/raw_data/ukb22418_c20_b0_v2.vcf\n",
      "-rwxrwxrwx 1 zveraa zveraa  21G сен 20  2021 ../ukbiobank_link/raw_data/ukb22418_c21_b0_v2.vcf\n",
      "-rwxrwxrwx 1 zveraa zveraa  24G сен 20  2021 ../ukbiobank_link/raw_data/ukb22418_c22_b0_v2.vcf\n",
      "-rwxrwxrwx 1 zveraa zveraa 113G сен 20  2021 ../ukbiobank_link/raw_data/ukb22418_c2_b0_v2.vcf\n",
      "-rwxrwxrwx 1 zveraa zveraa  96G сен 20  2021 ../ukbiobank_link/raw_data/ukb22418_c3_b0_v2.vcf\n",
      "-rwxrwxrwx 1 zveraa zveraa  87G сен 20  2021 ../ukbiobank_link/raw_data/ukb22418_c4_b0_v2.vcf\n",
      "-rwxrwxrwx 1 zveraa zveraa  85G сен 20  2021 ../ukbiobank_link/raw_data/ukb22418_c5_b0_v2.vcf\n",
      "-rwxrwxrwx 1 zveraa zveraa  98G сен 20  2021 ../ukbiobank_link/raw_data/ukb22418_c6_b0_v2.vcf\n",
      "-rwxrwxrwx 1 zveraa zveraa  78G сен 20  2021 ../ukbiobank_link/raw_data/ukb22418_c7_b0_v2.vcf\n",
      "-rwxrwxrwx 1 zveraa zveraa  71G сен 20  2021 ../ukbiobank_link/raw_data/ukb22418_c8_b0_v2.vcf\n",
      "-rwxrwxrwx 1 zveraa zveraa  63G сен 20  2021 ../ukbiobank_link/raw_data/ukb22418_c9_b0_v2.vcf\n",
      "-rwxrwxrwx 1 zveraa zveraa 502M сен 20  2021 ../ukbiobank_link/raw_data/ukb22418_cMT_b0_v2.vcf\n",
      "-rwxrwxrwx 1 zveraa zveraa  27G сен 20  2021 ../ukbiobank_link/raw_data/ukb22418_cX_b0_v2.vcf\n",
      "-rwxrwxrwx 1 zveraa zveraa 2,5G сен 20  2021 ../ukbiobank_link/raw_data/ukb22418_cXY_b0_v2.vcf\n",
      "-rwxrwxrwx 1 zveraa zveraa 1,3G сен 20  2021 ../ukbiobank_link/raw_data/ukb22418_cY_b0_v2.vcf\n"
     ]
    }
   ],
   "source": [
    "!ls ../ukbiobank_link/raw_data/ukb22418_*_b0_v2.vcf -lh"
   ]
  },
  {
   "cell_type": "code",
   "execution_count": 5,
   "id": "8f4a913e-ea43-4214-b345-57035d7a7f99",
   "metadata": {},
   "outputs": [
    {
     "name": "stdout",
     "output_type": "stream",
     "text": [
      "##fileformat=VCFv4.2\n",
      "##fileDate=20210920\n",
      "##source=PLINKv1.90\n",
      "##contig=<ID=26,length=16392>\n",
      "##INFO=<ID=PR,Number=0,Type=Flag,Description=\"Provisional reference allele, may not be based on real reference genome\">\n",
      "##FORMAT=<ID=GT,Number=1,Type=String,Description=\"Genotype\">\n",
      "cat: write error: Broken pipe\n"
     ]
    }
   ],
   "source": [
    "!cat ../ukbiobank_link/raw_data/ukb22418_cMT_b0_v2.vcf | head -n 6"
   ]
  },
  {
   "cell_type": "code",
   "execution_count": 8,
   "id": "8016ad0a-2d4a-47b7-8c86-6d0591b22ff2",
   "metadata": {},
   "outputs": [],
   "source": [
    "test_ensure_equal_patients = False\n",
    "if test_ensure_equal_patients:\n",
    "    patients_for_chr = {}\n",
    "    for n_chr in chroms:\n",
    "        vcf_filename = f'../ukbiobank_link/raw_data/ukb22418_c{n_chr}_b0_v2.vcf'\n",
    "        r = pd.read_csv(\n",
    "            vcf_filename,\n",
    "            skiprows=range(6), \n",
    "            sep='\\t',\n",
    "            chunksize=1\n",
    "        )\n",
    "        patients_for_chr[n_chr] = [s[:len(s)//2] for s in next(r).columns[9:]]\n",
    "        print(f\"appended chr {n_chr} patients\")\n",
    "    \n",
    "    print([i == patients_for_chr[1] for _, i in patients_for_chr.items()])\n",
    "    assert [i == patients_for_chr[1] for _, i in patients_for_chr.items()] == [True]*26"
   ]
  },
  {
   "cell_type": "code",
   "execution_count": 11,
   "id": "c066ef5f-d2ec-4de6-b998-10bfadf43e03",
   "metadata": {},
   "outputs": [
    {
     "data": {
      "text/plain": [
       "(IPython.utils.text.SList,\n",
       " 1,\n",
       " '26\\t73\\tAffx-79504644\\tG\\tA\\t.\\t.\\tPR\\tGT\\t0/0\\t1/1\\t0/0\\t1/1\\t1/1\\t0/0\\t0/0\\t0/0\\t0/0\\t0/0\\t0/0\\t0/0\\t1/1\\t0/0\\t1/1\\t0/0\\t1/1\\t0/0\\t1/1\\t1/1\\t0/0\\t0/0\\t0/0\\t1/1\\t0/0\\t1/1\\t1/1\\t0/0\\t0/0\\t1/1\\t0/0\\t0/0\\t0/0\\t1/1\\t0/0\\t1/1\\t1/1\\t0/0\\t0/0\\t1/1\\t1/1\\t0/0\\t0/0\\t1/1\\t1/1\\t0/0\\t0/0\\t1/1\\t1/1\\t0/0\\t1/1\\t1/1\\t0/0\\t1/1\\t0/0\\t0/0\\t0/0\\t0/0\\t1/1\\t1/1\\t1/1\\t0/0\\t0/0\\t0/0\\t1/1\\t1/1\\t1/1\\t0/0\\t1/1\\t0/0\\t0/0\\t1/1\\t0/0\\t0/0\\t1/1\\t0/0\\t0/0\\t0/0\\t1/1\\t0/0\\t1/1\\t1/1\\t1/1\\t0/0\\t0/0\\t0/0\\t1/1\\t0/0\\t0/0\\t0/0\\t1/1\\t1/1\\t1/1\\t0/0\\t0/0\\t0/0\\t0/0\\t0/0\\t0/0\\t0/0\\t1/1\\t1/1\\t1/1\\t0/0\\t0/0\\t1/1\\t0/0\\t0/0\\t1/1\\t1/1\\t0/0\\t1/1\\t1/1\\t0/0\\t1/1\\t1/1\\t1/1\\t1/1\\t0/0\\t0/0\\t1/1\\t1/1\\t1/1\\t1/1\\t1/1\\t0/0\\t0/0\\t0/0\\t0/0\\t1/1\\t0/0\\t0/0\\t0/0\\t1/1\\t0/0\\t1/1\\t0/0\\t1/1\\t1/1\\t0/0\\t0/0\\t0/0\\t0/0\\t1/1\\t0/0\\t0/0\\t0/0\\t1/1\\t0/0\\t1/1\\t0/0\\t1/1\\t1/1\\t1/1\\t0/0\\t0/0\\t1/1\\t1/1\\t0/0\\t1/1\\t0/0\\t0/0\\t0/0\\t1/1\\t0/0\\t0/0\\t1/1\\t0/0\\t1/1\\t0/0\\t1/1\\t1/1\\t1/1\\t1/1\\t0/0\\t0/0\\t0/0\\t0/0\\t0/0\\t1/1\\t0/0\\t0/0\\t1/1\\t0/0\\t1/1\\t1/1\\t0/0\\t0/0\\t0/0\\t1/1\\t0/0\\t1/1\\t1/1\\t1/1\\t0/0\\t0/0\\t./.\\t1/1\\t0/0\\t0/0\\t1/1\\t1/1\\t1/1\\t1/1\\t1/1\\t1/1\\t1/1\\t0/0\\t1/1\\t0/0\\t1/1\\t0/0\\t1/1\\t1/1\\t1/1\\t1/1\\t0/0\\t0/0\\t0/0\\t0/0\\t0/0\\t0/0\\t1/1\\t0/0\\t1/1\\t./.\\t0/0\\t0/0\\t0/0\\t0/0\\t0/0\\t1/1\\t0/0\\t1/1\\t1/1\\t1/1\\t1/1\\t1/1\\t0/0\\t1/1\\t1/1\\t0/0\\t1/1\\t0/0\\t1/1\\t0/0\\t0/0\\t1/1\\t1/1\\t0/0\\t1/1\\t0/0\\t1/1\\t1/1\\t1/1\\t0/0\\t0/0\\t1/1\\t1/1\\t0/0\\t1/1\\t0/0\\t0/0\\t0/0\\t1/1\\t1/1\\t0/0\\t1/1\\t0/0\\t1/1\\t0/0\\t1/1\\t0/0\\t0/0\\t0/0\\t1/1\\t0/0\\t0/0\\t0/0\\t1/1\\t1/1\\t1/1\\t1/1\\t0/0\\t0/0\\t1/1\\t0/0\\t1/1\\t1/1\\t1/1\\t1/1\\t0/0\\t0/0\\t1/1\\t0/0\\t0/0\\t0/0\\t1/1\\t0/0\\t0/0\\t1/1\\t0/0\\t1/1\\t0/0\\t0/0\\t1/1\\t0/0\\t0/0\\t0/0\\t1/1\\t0/0\\t0/0\\t1/1\\t0/0\\t0/0\\t1/1\\t1/1\\t0/0\\t0/0\\t1/1\\t0/0\\t0/0\\t1/1\\t0/0\\t0/0\\t1/1\\t1/1\\t1/1\\t0/0\\t0/0\\t1/1\\t0/0\\t1/1\\t0/0\\t0/0\\t0/0\\t0/0\\t1/1\\t0/0\\t0/0\\t0/0\\t0/0\\t1/1\\t1/1\\t1/1\\t1/1\\t0/0\\t1/1\\t0/0\\t0/0\\t1/1\\t0/0\\t0/0\\t0/0\\t0/0\\t0/0\\t0/0\\t0/0\\t0/0\\t0/0\\t1/1\\t0/0\\t0/0\\t1/1\\t0/0\\t0/0\\t0/0\\t0/0\\t0/0\\t1/1\\t0/0\\t0/0\\t1/1\\t1/1\\t0/0\\t0/0\\t0/0\\t1/1\\t1/1\\t1/1\\t1/1\\t1/1\\t0/0\\t1/1\\t0/0\\t1/1\\t1/1\\t0/0\\t0/0\\t1/1\\t0/0\\t0/0\\t0/0\\t0/0\\t1/1\\t0/0\\t1/1\\t1/1\\t0/0\\t1/1\\t0/0\\t0/0\\t0/0\\t1/1\\t0/0\\t1/1\\t0/0\\t1/1\\t0/0\\t1/1\\t1/1\\t0/0\\t0/0\\t0/0\\t1/1\\t0/0\\t0/0\\t1/1\\t1/1\\t1/1\\t1/1\\t1/1\\t0/0\\t0/0\\t1/1\\t0/0\\t1/1\\t1/1\\t0/0\\t0/0\\t0/0\\t0/0\\t0/0\\t1/1\\t1/1\\t0/0\\t0/0\\t1/1\\t0/0\\t1/1\\t0/0\\t1/1\\t0/0\\t1/1\\t1/1\\t0/0\\t0/0\\t1/1\\t0/0\\t0/0\\t1/1\\t1/1\\t0/0\\t1/1\\t0/0\\t0/0\\t0/0\\t1/1\\t0/0\\t1/1\\t0/0\\t0/0\\t0/0\\t1/1\\t1/1\\t1/1\\t1/1\\t1/1\\t0/0\\t1/1\\t1/1\\t1/1\\t1/1\\t1/1\\t1/1\\t0/0\\t0/0\\t1/1\\t1/1\\t1/1\\t0/0\\t1/1\\t0/0\\t0/0\\t0/0\\t0/0\\t1/1\\t0/0\\t1/1\\t0/0\\t1/1\\t0/')"
      ]
     },
     "execution_count": 11,
     "metadata": {},
     "output_type": "execute_result"
    }
   ],
   "source": [
    "s = !cat ../ukb22418_cMT_b0_v2-copy.vcf | head -n 8 | tail -n 1\n",
    "type(s), len(s), s[0][:2000]"
   ]
  },
  {
   "cell_type": "code",
   "execution_count": 12,
   "id": "61c7c9f0-ab36-4d0d-9d00-1edd22e8a02c",
   "metadata": {},
   "outputs": [
    {
     "data": {
      "text/plain": [
       "(273, '##fileformat=VCFv4.2')"
      ]
     },
     "execution_count": 12,
     "metadata": {},
     "output_type": "execute_result"
    }
   ],
   "source": [
    "s = !cat ../ukb22418_cMT_b0_v2-copy.vcf | sed  -e '/^26\\t73\\t/P' \n",
    "len(s), s[0][:5000]"
   ]
  },
  {
   "cell_type": "code",
   "execution_count": 14,
   "id": "5fbbd6b7-49a3-4bae-9784-087162a5e689",
   "metadata": {},
   "outputs": [],
   "source": [
    "#!cat ../ukb22418_cMT_b0_v2-copy.vcf | tail -n +7 | grep -o -P \"^([^\\t]*\\t){8}[^\\t]*\" > trimmed.vcf\n",
    "\n",
    "#pd.read_csv('../trimmed.vcf', sep='\\t')"
   ]
  },
  {
   "cell_type": "code",
   "execution_count": 47,
   "id": "9fbd4978-c70e-4221-b254-b2c78ece55f2",
   "metadata": {},
   "outputs": [
    {
     "name": "stdout",
     "output_type": "stream",
     "text": [
      "411 ms ± 8.67 ms per loop (mean ± std. dev. of 7 runs, 1 loop each)\n"
     ]
    }
   ],
   "source": [
    "%%timeit\n",
    "r = pd.read_csv(\n",
    "    '../ukbiobank_link/raw_data/ukb22418_cMT_b0_v2.vcf', \n",
    "    #'../ukb22418_cMT_b0_v2-copy.vcf', \n",
    "    skiprows=range(6), \n",
    "    #usecols=first_cols ,#+ healthy_cols + diabetes_cols,\n",
    "    #usecols=['ID'],\n",
    "    sep='\\t',\n",
    "    chunksize=50,\n",
    "    dtype={'ID': str},\n",
    ")"
   ]
  },
  {
   "cell_type": "code",
   "execution_count": 6,
   "id": "9855c460-8372-4469-bf9a-2a0a029e6051",
   "metadata": {},
   "outputs": [
    {
     "ename": "NameError",
     "evalue": "name 'pd' is not defined",
     "output_type": "error",
     "traceback": [
      "\u001b[0;31m---------------------------------------------------------------------------\u001b[0m",
      "\u001b[0;31mNameError\u001b[0m                                 Traceback (most recent call last)",
      "Input \u001b[0;32mIn [6]\u001b[0m, in \u001b[0;36m<cell line: 1>\u001b[0;34m()\u001b[0m\n\u001b[0;32m----> 1\u001b[0m r \u001b[38;5;241m=\u001b[39m \u001b[43mpd\u001b[49m\u001b[38;5;241m.\u001b[39mread_csv(\n\u001b[1;32m      2\u001b[0m     \u001b[38;5;124m'\u001b[39m\u001b[38;5;124m../ukbiobank_link/raw_data/ukb22418_cMT_b0_v2.vcf\u001b[39m\u001b[38;5;124m'\u001b[39m, \n\u001b[1;32m      3\u001b[0m     \u001b[38;5;66;03m#'../ukb22418_cMT_b0_v2-copy.vcf', \u001b[39;00m\n\u001b[1;32m      4\u001b[0m     skiprows\u001b[38;5;241m=\u001b[39m\u001b[38;5;28mrange\u001b[39m(\u001b[38;5;241m6\u001b[39m), \n\u001b[1;32m      5\u001b[0m     \u001b[38;5;66;03m#usecols=first_cols ,#+ healthy_cols + diabetes_cols,\u001b[39;00m\n\u001b[1;32m      6\u001b[0m     \u001b[38;5;66;03m#usecols=['ID'],\u001b[39;00m\n\u001b[1;32m      7\u001b[0m     sep\u001b[38;5;241m=\u001b[39m\u001b[38;5;124m'\u001b[39m\u001b[38;5;130;01m\\t\u001b[39;00m\u001b[38;5;124m'\u001b[39m,\n\u001b[1;32m      8\u001b[0m     chunksize\u001b[38;5;241m=\u001b[39m\u001b[38;5;241m50\u001b[39m,\n\u001b[1;32m      9\u001b[0m     dtype\u001b[38;5;241m=\u001b[39m{\u001b[38;5;124m'\u001b[39m\u001b[38;5;124mID\u001b[39m\u001b[38;5;124m'\u001b[39m: \u001b[38;5;28mstr\u001b[39m},\n\u001b[1;32m     10\u001b[0m )\n\u001b[1;32m     12\u001b[0m get_ipython()\u001b[38;5;241m.\u001b[39mrun_line_magic(\u001b[38;5;124m'\u001b[39m\u001b[38;5;124mtimeit\u001b[39m\u001b[38;5;124m'\u001b[39m, \u001b[38;5;124m'\u001b[39m\u001b[38;5;124m_ = next(iter(r))\u001b[39m\u001b[38;5;124m'\u001b[39m)\n",
      "\u001b[0;31mNameError\u001b[0m: name 'pd' is not defined"
     ]
    }
   ],
   "source": [
    "r = pd.read_csv(\n",
    "    '../ukbiobank_link/raw_data/ukb22418_cMT_b0_v2.vcf', \n",
    "    #'../ukb22418_cMT_b0_v2-copy.vcf', \n",
    "    skiprows=range(6), \n",
    "    #usecols=first_cols ,#+ healthy_cols + diabetes_cols,\n",
    "    #usecols=['ID'],\n",
    "    sep='\\t',\n",
    "    chunksize=50,\n",
    "    dtype={'ID': str},\n",
    ")\n",
    "\n",
    "%timeit _ = next(iter(r))"
   ]
  },
  {
   "cell_type": "code",
   "execution_count": 27,
   "id": "cf17d1de-fb5e-41d0-94d4-04de1ff6c4d1",
   "metadata": {},
   "outputs": [
    {
     "name": "stdout",
     "output_type": "stream",
     "text": [
      "3.68 µs ± 39.7 ns per loop (mean ± std. dev. of 7 runs, 100,000 loops each)\n"
     ]
    }
   ],
   "source": [
    "%%timeit\n",
    "for i, df in enumerate(r):\n",
    "    if i > 1000:\n",
    "        break\n",
    "    print(len(df))"
   ]
  },
  {
   "cell_type": "code",
   "execution_count": 31,
   "id": "6de8e9a4-b94f-4d1a-8068-0eaf3190f28f",
   "metadata": {},
   "outputs": [
    {
     "name": "stdout",
     "output_type": "stream",
     "text": [
      "367 ms ± 14.1 ms per loop (mean ± std. dev. of 7 runs, 1 loop each)\n"
     ]
    }
   ],
   "source": [
    "%%timeit\n",
    "r = pd.read_csv(\n",
    "    '../ukb22418_cMT_b0_v2-copy.vcf', \n",
    "    #'../ukb22418_cMT_b0_v2-copy.vcf', \n",
    "    skiprows=range(6), \n",
    "    #usecols=first_cols ,#+ healthy_cols + diabetes_cols,\n",
    "    #usecols=['ID'],\n",
    "    sep='\\t',\n",
    "    chunksize=50,\n",
    "    dtype={'ID': str},\n",
    ")"
   ]
  },
  {
   "cell_type": "code",
   "execution_count": 42,
   "id": "2e61d2dd-33ad-4c42-bd19-2773415604ce",
   "metadata": {},
   "outputs": [],
   "source": [
    "r = pd.read_csv(\n",
    "    '../ukb22418_cMT_b0_v2-copy.vcf', \n",
    "    #'../ukb22418_cMT_b0_v2-copy.vcf', \n",
    "    skiprows=range(6), \n",
    "    #usecols=first_cols ,#+ healthy_cols + diabetes_cols,\n",
    "    #usecols=['ID'],\n",
    "    sep='\\t',\n",
    "    chunksize=5,\n",
    "    dtype={'ID': str},\n",
    ")"
   ]
  },
  {
   "cell_type": "code",
   "execution_count": 44,
   "id": "f3168fe1-2fb9-4070-96c3-b01739c8bbd7",
   "metadata": {},
   "outputs": [
    {
     "name": "stdout",
     "output_type": "stream",
     "text": [
      "41.1 s ± 342 ms per loop (mean ± std. dev. of 7 runs, 1 loop each)\n"
     ]
    }
   ],
   "source": [
    "%timeit _=next(iter(r))"
   ]
  },
  {
   "cell_type": "markdown",
   "id": "65a283e7-b096-462c-bb82-05c1c618eb11",
   "metadata": {},
   "source": [
    "### Patients sampling"
   ]
  },
  {
   "cell_type": "code",
   "execution_count": 10,
   "id": "9361617a-826a-4f72-b1c5-3bb2f7912a26",
   "metadata": {},
   "outputs": [],
   "source": [
    "smallest_vcf_location = \"../biobank_extracted/extracted_snps_c6_w500.vcf\"\n",
    "\n",
    "r = pd.read_csv(\n",
    "    smallest_vcf_location, \n",
    "    skiprows=range(6), \n",
    "    #usecols=['5825360_5825360', '5467150_5467150'],\n",
    "    sep='\\t',\n",
    "    chunksize=1\n",
    ")"
   ]
  },
  {
   "cell_type": "code",
   "execution_count": 11,
   "id": "efeb0f98-4953-4e51-a2ce-9917acfd48da",
   "metadata": {},
   "outputs": [
    {
     "data": {
      "text/html": [
       "<div>\n",
       "<style scoped>\n",
       "    .dataframe tbody tr th:only-of-type {\n",
       "        vertical-align: middle;\n",
       "    }\n",
       "\n",
       "    .dataframe tbody tr th {\n",
       "        vertical-align: top;\n",
       "    }\n",
       "\n",
       "    .dataframe thead th {\n",
       "        text-align: right;\n",
       "    }\n",
       "</style>\n",
       "<table border=\"1\" class=\"dataframe\">\n",
       "  <thead>\n",
       "    <tr style=\"text-align: right;\">\n",
       "      <th></th>\n",
       "      <th>#CHROM</th>\n",
       "      <th>POS</th>\n",
       "      <th>ID</th>\n",
       "      <th>REF</th>\n",
       "      <th>ALT</th>\n",
       "      <th>QUAL</th>\n",
       "      <th>FILTER</th>\n",
       "      <th>INFO</th>\n",
       "      <th>FORMAT</th>\n",
       "      <th>2821142_2821142</th>\n",
       "      <th>...</th>\n",
       "      <th>5825360_5825360</th>\n",
       "      <th>1846399_1846399</th>\n",
       "      <th>1814390_1814390</th>\n",
       "      <th>5349403_5349403</th>\n",
       "      <th>5944723_5944723</th>\n",
       "      <th>4913903_4913903</th>\n",
       "      <th>3647765_3647765</th>\n",
       "      <th>5467150_5467150</th>\n",
       "      <th>5593902_5593902</th>\n",
       "      <th>2338527_2338527</th>\n",
       "    </tr>\n",
       "  </thead>\n",
       "  <tbody>\n",
       "    <tr>\n",
       "      <th>0</th>\n",
       "      <td>6</td>\n",
       "      <td>30029109</td>\n",
       "      <td>rs7770557</td>\n",
       "      <td>C</td>\n",
       "      <td>G</td>\n",
       "      <td>.</td>\n",
       "      <td>.</td>\n",
       "      <td>PR</td>\n",
       "      <td>GT</td>\n",
       "      <td>0/0</td>\n",
       "      <td>...</td>\n",
       "      <td>0/0</td>\n",
       "      <td>0/0</td>\n",
       "      <td>0/1</td>\n",
       "      <td>0/0</td>\n",
       "      <td>0/1</td>\n",
       "      <td>0/1</td>\n",
       "      <td>0/0</td>\n",
       "      <td>0/1</td>\n",
       "      <td>0/0</td>\n",
       "      <td>0/0</td>\n",
       "    </tr>\n",
       "  </tbody>\n",
       "</table>\n",
       "<p>1 rows × 488386 columns</p>\n",
       "</div>"
      ],
      "text/plain": [
       "   #CHROM       POS         ID REF ALT QUAL FILTER INFO FORMAT  \\\n",
       "0       6  30029109  rs7770557   C   G    .      .   PR     GT   \n",
       "\n",
       "  2821142_2821142  ... 5825360_5825360 1846399_1846399 1814390_1814390  \\\n",
       "0             0/0  ...             0/0             0/0             0/1   \n",
       "\n",
       "  5349403_5349403 5944723_5944723 4913903_4913903 3647765_3647765  \\\n",
       "0             0/0             0/1             0/1             0/0   \n",
       "\n",
       "  5467150_5467150 5593902_5593902 2338527_2338527  \n",
       "0             0/1             0/0             0/0  \n",
       "\n",
       "[1 rows x 488386 columns]"
      ]
     },
     "execution_count": 11,
     "metadata": {},
     "output_type": "execute_result"
    }
   ],
   "source": [
    "one_row = next(r)\n",
    "first_cols = list(one_row.columns[:9])\n",
    "one_row"
   ]
  },
  {
   "cell_type": "code",
   "execution_count": 12,
   "id": "f37924c3-4a92-4873-aa70-2ffc091f1abe",
   "metadata": {},
   "outputs": [
    {
     "data": {
      "text/plain": [
       "['#CHROM', 'POS', 'ID', 'REF', 'ALT', 'QUAL', 'FILTER', 'INFO', 'FORMAT']"
      ]
     },
     "execution_count": 12,
     "metadata": {},
     "output_type": "execute_result"
    }
   ],
   "source": [
    "first_cols"
   ]
  },
  {
   "cell_type": "code",
   "execution_count": 13,
   "id": "2b977bd3-4bdc-4b85-a177-10baa1af761d",
   "metadata": {},
   "outputs": [
    {
     "data": {
      "text/html": [
       "<div>\n",
       "<style scoped>\n",
       "    .dataframe tbody tr th:only-of-type {\n",
       "        vertical-align: middle;\n",
       "    }\n",
       "\n",
       "    .dataframe tbody tr th {\n",
       "        vertical-align: top;\n",
       "    }\n",
       "\n",
       "    .dataframe thead th {\n",
       "        text-align: right;\n",
       "    }\n",
       "</style>\n",
       "<table border=\"1\" class=\"dataframe\">\n",
       "  <thead>\n",
       "    <tr style=\"text-align: right;\">\n",
       "      <th></th>\n",
       "      <th>all</th>\n",
       "      <th>healthy</th>\n",
       "      <th>ill</th>\n",
       "      <th>missing in vcf</th>\n",
       "    </tr>\n",
       "  </thead>\n",
       "  <tbody>\n",
       "    <tr>\n",
       "      <th>crohn</th>\n",
       "      <td>488377</td>\n",
       "      <td>485647</td>\n",
       "      <td>2730</td>\n",
       "      <td>102</td>\n",
       "    </tr>\n",
       "    <tr>\n",
       "      <th>ulcerative_colitis</th>\n",
       "      <td>488377</td>\n",
       "      <td>483310</td>\n",
       "      <td>5067</td>\n",
       "      <td>144</td>\n",
       "    </tr>\n",
       "    <tr>\n",
       "      <th>type_ii_diabetes</th>\n",
       "      <td>488377</td>\n",
       "      <td>450775</td>\n",
       "      <td>37602</td>\n",
       "      <td>1391</td>\n",
       "    </tr>\n",
       "    <tr>\n",
       "      <th>breast_cancer</th>\n",
       "      <td>488377</td>\n",
       "      <td>471997</td>\n",
       "      <td>16380</td>\n",
       "      <td>861</td>\n",
       "    </tr>\n",
       "  </tbody>\n",
       "</table>\n",
       "</div>"
      ],
      "text/plain": [
       "                       all healthy    ill missing in vcf\n",
       "crohn               488377  485647   2730            102\n",
       "ulcerative_colitis  488377  483310   5067            144\n",
       "type_ii_diabetes    488377  450775  37602           1391\n",
       "breast_cancer       488377  471997  16380            861"
      ]
     },
     "execution_count": 13,
     "metadata": {},
     "output_type": "execute_result"
    }
   ],
   "source": [
    "patients_stat_table = pd.DataFrame(index=(disease for disease, _ in diseases),\n",
    "                                   columns=['all', 'healthy', 'ill', 'missing in vcf'])\n",
    "\n",
    "vcf_all_eids = {int(s[:len(s)//2]) for s in one_row.columns[9:]}\n",
    "healthy_eids = {}\n",
    "missing_eids = {}\n",
    "disease_used_eids = {}\n",
    "\n",
    "for disease, ICD in diseases:\n",
    "    healthy_eids[disease] = vcf_all_eids - disease_eids[disease]\n",
    "    missing_eids[disease] = disease_eids[disease] - vcf_all_eids\n",
    "    disease_used_eids[disease] = disease_eids[disease] - missing_eids[disease]\n",
    "    \n",
    "    patients_stat_table['all'][disease] = len(vcf_all_eids)\n",
    "    patients_stat_table['healthy'][disease] = len(healthy_eids[disease])\n",
    "    patients_stat_table['ill'][disease] = len(disease_used_eids[disease])\n",
    "    patients_stat_table['missing in vcf'][disease] = len(missing_eids[disease])  # those that are found in ICD data, but not in genotype data\n",
    "    \n",
    "    \n",
    "#patients_stat_table['sum'] = patients_stat_table['healthy'] + patients_stat_table['ill'] + 0*patients_stat_table['missing in vcf']\n",
    "patients_stat_table"
   ]
  },
  {
   "cell_type": "code",
   "execution_count": 14,
   "id": "a2e46276-0efe-4a5a-934a-c448b06df7f0",
   "metadata": {},
   "outputs": [
    {
     "name": "stdout",
     "output_type": "stream",
     "text": [
      "2730 485647 crohn\n",
      "5067 483310 ulcerative_colitis\n",
      "37602 450775 type_ii_diabetes\n",
      "16380 471997 breast_cancer\n"
     ]
    }
   ],
   "source": [
    "disease_cols = {}\n",
    "healthy_cols = {}\n",
    "\n",
    "for disease, ICD in diseases:\n",
    "    disease_cols[disease] = [str(x) + '_' + str(x) for x in disease_used_eids[disease]]\n",
    "    healthy_cols[disease] = [str(x) + '_' + str(x) for x in healthy_eids[disease]]\n",
    "\n",
    "    print(len(disease_cols[disease]), len(healthy_cols[disease]), disease)"
   ]
  },
  {
   "cell_type": "markdown",
   "id": "bc2e27cb-3980-4b45-b76a-c2fe1d393a5c",
   "metadata": {},
   "source": [
    "### Taking SNPs\n"
   ]
  },
  {
   "cell_type": "markdown",
   "id": "d1f54fd1-9e20-413e-be14-ceb632e0f91d",
   "metadata": {},
   "source": [
    "#### Older try (to be deleted)"
   ]
  },
  {
   "cell_type": "markdown",
   "id": "5a765e4a-87e0-4b5a-bb58-8367365a3fe5",
   "metadata": {},
   "source": [
    "\n",
    "grepping lists of SNP IDs from full vcf files (cMT here):\n",
    "```\n",
    "echo $(date) && cat ../ukbiobank_link/raw_data/ukb22418_cMT_b0_v2.vcf | tail -n +7 | grep -o -P \"^([^\\t]*\\t){8}[^\\t]*\" > biobank_snps_chrMT.vcf && echo $(date)\n",
    "```"
   ]
  },
  {
   "cell_type": "markdown",
   "id": "6c0c445e-98fb-486b-a577-ffba881e6d65",
   "metadata": {},
   "source": [
    "\n",
    "\n",
    "(base) vasikam@Sydney:~$ wc -l ../ukbiobank_link/raw_data/ukb22418_c6_b0_v2.vcf\\\n",
    "\n",
    "53702 ../ukbiobank_link/raw_data/ukb22418_c6_b0_v2.vcf\n"
   ]
  },
  {
   "cell_type": "code",
   "execution_count": 12,
   "id": "cb9ffc88-2305-4aa8-a371-accee7b41b59",
   "metadata": {},
   "outputs": [],
   "source": [
    "snps = '''\n",
    "rs58631438\n",
    "rs117160301\n",
    "rs118059476\n",
    "rs2385475\n",
    "rs35115039\n",
    "rs34986803\n",
    "rs6486336\n",
    "rs6486337\n",
    "rs13076933\n",
    "rs11128599\n",
    "rs78456866\n",
    "rs12665310\n",
    "rs2517776\n",
    "rs2517773\n",
    "rs7770557\n",
    "rs28360023\n",
    "'''.split()"
   ]
  },
  {
   "cell_type": "code",
   "execution_count": 51,
   "id": "c7ba815c-4486-4739-88a1-5190c221e18c",
   "metadata": {},
   "outputs": [
    {
     "name": "stdout",
     "output_type": "stream",
     "text": [
      "[]\n",
      "['rs7770557']\n",
      "[]\n",
      "[]\n",
      "[]\n"
     ]
    },
    {
     "data": {
      "text/html": [
       "<div>\n",
       "<style scoped>\n",
       "    .dataframe tbody tr th:only-of-type {\n",
       "        vertical-align: middle;\n",
       "    }\n",
       "\n",
       "    .dataframe tbody tr th {\n",
       "        vertical-align: top;\n",
       "    }\n",
       "\n",
       "    .dataframe thead th {\n",
       "        text-align: right;\n",
       "    }\n",
       "</style>\n",
       "<table border=\"1\" class=\"dataframe\">\n",
       "  <thead>\n",
       "    <tr style=\"text-align: right;\">\n",
       "      <th></th>\n",
       "      <th>#CHROM</th>\n",
       "      <th>POS</th>\n",
       "      <th>ID</th>\n",
       "      <th>REF</th>\n",
       "      <th>ALT</th>\n",
       "      <th>QUAL</th>\n",
       "      <th>FILTER</th>\n",
       "      <th>INFO</th>\n",
       "      <th>FORMAT</th>\n",
       "    </tr>\n",
       "  </thead>\n",
       "  <tbody>\n",
       "    <tr>\n",
       "      <th>12424</th>\n",
       "      <td>6</td>\n",
       "      <td>30029109</td>\n",
       "      <td>rs7770557</td>\n",
       "      <td>C</td>\n",
       "      <td>G</td>\n",
       "      <td>.</td>\n",
       "      <td>.</td>\n",
       "      <td>PR</td>\n",
       "      <td>GT</td>\n",
       "    </tr>\n",
       "  </tbody>\n",
       "</table>\n",
       "</div>"
      ],
      "text/plain": [
       "       #CHROM       POS         ID REF ALT QUAL FILTER INFO FORMAT\n",
       "12424       6  30029109  rs7770557   C   G    .      .   PR     GT"
      ]
     },
     "execution_count": 51,
     "metadata": {},
     "output_type": "execute_result"
    }
   ],
   "source": [
    "a = pd.DataFrame()\n",
    "for ch in [3, 6, 8, 11, 18]:\n",
    "    df = pd.read_csv(f'../biobank_snps_chr{ch}.vcf', sep='\\t')\n",
    "    #[i for i in df['ID'].values if i in ['rs17257408', 'rs13064699']]\n",
    "    print([i for i in df['ID'].values if i in snps])\n",
    "    for i, row in df.iterrows():\n",
    "        #print(df.iloc[i:i+1, :])\n",
    "        #break\n",
    "        if row['ID'] in snps:\n",
    "            a = pd.concat([a, df.iloc[i:i+1, :]])\n",
    "a"
   ]
  },
  {
   "cell_type": "code",
   "execution_count": null,
   "id": "e0646f2a-543e-4426-9195-09e6bf9e8550",
   "metadata": {},
   "outputs": [],
   "source": [
    "r = pd.read_csv(\n",
    "    '../ukbiobank_link/raw_data/ukb22418_c6_b0_v2.vcf', \n",
    "    #'../ukb22418_cMT_b0_v2-copy.vcf', \n",
    "    #skiprows=range(6), \n",
    "    skiprows=lambda x: x != 12424 , \n",
    "    #usecols=first_cols ,#+ healthy_cols + diabetes_cols,\n",
    "    usecols=['ID'],\n",
    "    sep='\\t',\n",
    "    chunksize=50,\n",
    "    dtype={'ID': str},\n",
    ")"
   ]
  },
  {
   "cell_type": "code",
   "execution_count": 31,
   "id": "3830fafe-5dba-4c1e-88aa-cb57c2f7a78d",
   "metadata": {},
   "outputs": [
    {
     "data": {
      "text/plain": [
       "(False, False, False)"
      ]
     },
     "execution_count": 31,
     "metadata": {},
     "output_type": "execute_result"
    }
   ],
   "source": [
    "\"rs13076933\" in df['ID'].values, \"rs11128599\" in df['ID'].values, \"rs78456866\" in df['ID'].values"
   ]
  },
  {
   "cell_type": "code",
   "execution_count": 15,
   "id": "fcec33a7-ca6c-482d-9d8c-a4f9fced2f4a",
   "metadata": {},
   "outputs": [
    {
     "data": {
      "text/plain": [
       "['#CHROM', 'POS', 'ID', 'REF', 'ALT', 'QUAL', 'FILTER', 'INFO', 'FORMAT']"
      ]
     },
     "execution_count": 15,
     "metadata": {},
     "output_type": "execute_result"
    }
   ],
   "source": [
    "list(first_cols)"
   ]
  },
  {
   "cell_type": "code",
   "execution_count": 112,
   "id": "b1493c27-20c0-44c3-bead-19942b5c2aef",
   "metadata": {},
   "outputs": [],
   "source": [
    "r = pd.read_csv(\n",
    "    '../ukbiobank_link/raw_data/ukb22418_c6_b0_v2.vcf', \n",
    "    #'../ukb22418_cMT_b0_v2-copy.vcf', \n",
    "    skiprows=range(6), \n",
    "    #usecols=first_cols ,#+ healthy_cols + diabetes_cols,\n",
    "    usecols=['ID'],\n",
    "    sep='\\t',\n",
    "    chunksize=50,\n",
    "    dtype={'ID': str},\n",
    ")"
   ]
  },
  {
   "cell_type": "code",
   "execution_count": 19,
   "id": "39a096fe-5c8a-44f1-ba96-d74b4c7e58fb",
   "metadata": {},
   "outputs": [
    {
     "name": "stdout",
     "output_type": "stream",
     "text": [
      "<class 'tuple'> (0, ID    rs11757325\n",
      "Name: 0, dtype: object)\n",
      "(0, ID    rs11757325\n",
      "Name: 0, dtype: object) <class 'tuple'>\n"
     ]
    }
   ],
   "source": [
    "print(type(q), q)\n",
    "print(q, type(q))"
   ]
  },
  {
   "cell_type": "code",
   "execution_count": 111,
   "id": "2c7442ca-326b-41c4-a072-31957731a954",
   "metadata": {},
   "outputs": [
    {
     "data": {
      "text/plain": [
       "(0,\n",
       " #CHROM               26\n",
       " ID        Affx-79504644\n",
       " Name: 0, dtype: object)"
      ]
     },
     "execution_count": 111,
     "metadata": {},
     "output_type": "execute_result"
    }
   ],
   "source": [
    "q = next(r)\n",
    "q = next(q.iterrows())\n",
    "q"
   ]
  },
  {
   "cell_type": "code",
   "execution_count": 10,
   "id": "7d9bffc7-ae7b-46cc-b319-0ff039008fee",
   "metadata": {},
   "outputs": [
    {
     "data": {
      "text/plain": [
       "'rs114653376'"
      ]
     },
     "execution_count": 10,
     "metadata": {},
     "output_type": "execute_result"
    }
   ],
   "source": [
    "q[1]['ID']"
   ]
  },
  {
   "cell_type": "code",
   "execution_count": 32,
   "id": "03751cc4-33b8-4e4f-9892-aed1b6e30736",
   "metadata": {},
   "outputs": [
    {
     "name": "stdout",
     "output_type": "stream",
     "text": [
      "8449\r"
     ]
    },
    {
     "ename": "ParserError",
     "evalue": "Error tokenizing data. C error: Calling read(nbytes) on source failed. Try engine='python'.",
     "output_type": "error",
     "traceback": [
      "\u001b[0;31m---------------------------------------------------------------------------\u001b[0m",
      "\u001b[0;31mParserError\u001b[0m                               Traceback (most recent call last)",
      "Input \u001b[0;32mIn [32]\u001b[0m, in \u001b[0;36m<cell line: 3>\u001b[0;34m()\u001b[0m\n\u001b[1;32m      1\u001b[0m biobank_chr_snps \u001b[38;5;241m=\u001b[39m []\n\u001b[1;32m      2\u001b[0m n_snps_to_check \u001b[38;5;241m=\u001b[39m \u001b[38;5;241m80000\u001b[39m\n\u001b[0;32m----> 3\u001b[0m \u001b[38;5;28;01mfor\u001b[39;00m chunk \u001b[38;5;129;01min\u001b[39;00m r:\n\u001b[1;32m      4\u001b[0m     \u001b[38;5;28;01mfor\u001b[39;00m index, row \u001b[38;5;129;01min\u001b[39;00m chunk\u001b[38;5;241m.\u001b[39miterrows():\n\u001b[1;32m      5\u001b[0m         \u001b[38;5;28mprint\u001b[39m(index, end\u001b[38;5;241m=\u001b[39m\u001b[38;5;124m'\u001b[39m\u001b[38;5;130;01m\\r\u001b[39;00m\u001b[38;5;124m'\u001b[39m)\n",
      "File \u001b[0;32m~/miniconda3/lib/python3.9/site-packages/pandas/io/parsers/readers.py:1187\u001b[0m, in \u001b[0;36mTextFileReader.__next__\u001b[0;34m(self)\u001b[0m\n\u001b[1;32m   1185\u001b[0m \u001b[38;5;28;01mdef\u001b[39;00m \u001b[38;5;21m__next__\u001b[39m(\u001b[38;5;28mself\u001b[39m):\n\u001b[1;32m   1186\u001b[0m     \u001b[38;5;28;01mtry\u001b[39;00m:\n\u001b[0;32m-> 1187\u001b[0m         \u001b[38;5;28;01mreturn\u001b[39;00m \u001b[38;5;28;43mself\u001b[39;49m\u001b[38;5;241;43m.\u001b[39;49m\u001b[43mget_chunk\u001b[49m\u001b[43m(\u001b[49m\u001b[43m)\u001b[49m\n\u001b[1;32m   1188\u001b[0m     \u001b[38;5;28;01mexcept\u001b[39;00m \u001b[38;5;167;01mStopIteration\u001b[39;00m:\n\u001b[1;32m   1189\u001b[0m         \u001b[38;5;28mself\u001b[39m\u001b[38;5;241m.\u001b[39mclose()\n",
      "File \u001b[0;32m~/miniconda3/lib/python3.9/site-packages/pandas/io/parsers/readers.py:1280\u001b[0m, in \u001b[0;36mTextFileReader.get_chunk\u001b[0;34m(self, size)\u001b[0m\n\u001b[1;32m   1278\u001b[0m         \u001b[38;5;28;01mraise\u001b[39;00m \u001b[38;5;167;01mStopIteration\u001b[39;00m\n\u001b[1;32m   1279\u001b[0m     size \u001b[38;5;241m=\u001b[39m \u001b[38;5;28mmin\u001b[39m(size, \u001b[38;5;28mself\u001b[39m\u001b[38;5;241m.\u001b[39mnrows \u001b[38;5;241m-\u001b[39m \u001b[38;5;28mself\u001b[39m\u001b[38;5;241m.\u001b[39m_currow)\n\u001b[0;32m-> 1280\u001b[0m \u001b[38;5;28;01mreturn\u001b[39;00m \u001b[38;5;28;43mself\u001b[39;49m\u001b[38;5;241;43m.\u001b[39;49m\u001b[43mread\u001b[49m\u001b[43m(\u001b[49m\u001b[43mnrows\u001b[49m\u001b[38;5;241;43m=\u001b[39;49m\u001b[43msize\u001b[49m\u001b[43m)\u001b[49m\n",
      "File \u001b[0;32m~/miniconda3/lib/python3.9/site-packages/pandas/io/parsers/readers.py:1250\u001b[0m, in \u001b[0;36mTextFileReader.read\u001b[0;34m(self, nrows)\u001b[0m\n\u001b[1;32m   1248\u001b[0m nrows \u001b[38;5;241m=\u001b[39m validate_integer(\u001b[38;5;124m\"\u001b[39m\u001b[38;5;124mnrows\u001b[39m\u001b[38;5;124m\"\u001b[39m, nrows)\n\u001b[1;32m   1249\u001b[0m \u001b[38;5;28;01mtry\u001b[39;00m:\n\u001b[0;32m-> 1250\u001b[0m     index, columns, col_dict \u001b[38;5;241m=\u001b[39m \u001b[38;5;28;43mself\u001b[39;49m\u001b[38;5;241;43m.\u001b[39;49m\u001b[43m_engine\u001b[49m\u001b[38;5;241;43m.\u001b[39;49m\u001b[43mread\u001b[49m\u001b[43m(\u001b[49m\u001b[43mnrows\u001b[49m\u001b[43m)\u001b[49m\n\u001b[1;32m   1251\u001b[0m \u001b[38;5;28;01mexcept\u001b[39;00m \u001b[38;5;167;01mException\u001b[39;00m:\n\u001b[1;32m   1252\u001b[0m     \u001b[38;5;28mself\u001b[39m\u001b[38;5;241m.\u001b[39mclose()\n",
      "File \u001b[0;32m~/miniconda3/lib/python3.9/site-packages/pandas/io/parsers/c_parser_wrapper.py:225\u001b[0m, in \u001b[0;36mCParserWrapper.read\u001b[0;34m(self, nrows)\u001b[0m\n\u001b[1;32m    223\u001b[0m \u001b[38;5;28;01mtry\u001b[39;00m:\n\u001b[1;32m    224\u001b[0m     \u001b[38;5;28;01mif\u001b[39;00m \u001b[38;5;28mself\u001b[39m\u001b[38;5;241m.\u001b[39mlow_memory:\n\u001b[0;32m--> 225\u001b[0m         chunks \u001b[38;5;241m=\u001b[39m \u001b[38;5;28;43mself\u001b[39;49m\u001b[38;5;241;43m.\u001b[39;49m\u001b[43m_reader\u001b[49m\u001b[38;5;241;43m.\u001b[39;49m\u001b[43mread_low_memory\u001b[49m\u001b[43m(\u001b[49m\u001b[43mnrows\u001b[49m\u001b[43m)\u001b[49m\n\u001b[1;32m    226\u001b[0m         \u001b[38;5;66;03m# destructive to chunks\u001b[39;00m\n\u001b[1;32m    227\u001b[0m         data \u001b[38;5;241m=\u001b[39m _concatenate_chunks(chunks)\n",
      "File \u001b[0;32m~/miniconda3/lib/python3.9/site-packages/pandas/_libs/parsers.pyx:817\u001b[0m, in \u001b[0;36mpandas._libs.parsers.TextReader.read_low_memory\u001b[0;34m()\u001b[0m\n",
      "File \u001b[0;32m~/miniconda3/lib/python3.9/site-packages/pandas/_libs/parsers.pyx:861\u001b[0m, in \u001b[0;36mpandas._libs.parsers.TextReader._read_rows\u001b[0;34m()\u001b[0m\n",
      "File \u001b[0;32m~/miniconda3/lib/python3.9/site-packages/pandas/_libs/parsers.pyx:847\u001b[0m, in \u001b[0;36mpandas._libs.parsers.TextReader._tokenize_rows\u001b[0;34m()\u001b[0m\n",
      "File \u001b[0;32m~/miniconda3/lib/python3.9/site-packages/pandas/_libs/parsers.pyx:1960\u001b[0m, in \u001b[0;36mpandas._libs.parsers.raise_parser_error\u001b[0;34m()\u001b[0m\n",
      "\u001b[0;31mParserError\u001b[0m: Error tokenizing data. C error: Calling read(nbytes) on source failed. Try engine='python'."
     ]
    }
   ],
   "source": [
    "biobank_chr_snps = []\n",
    "n_snps_to_check = 80000\n",
    "for chunk in r:\n",
    "    for index, row in chunk.iterrows():\n",
    "        print(index, end='\\r')\n",
    "        biobank_chr_snps.append(row['ID'])\n",
    "        if index > n_snps_to_check:\n",
    "            break\n",
    "    if index > n_snps_to_check:\n",
    "        break\n",
    "        #print(row)"
   ]
  },
  {
   "cell_type": "code",
   "execution_count": 22,
   "id": "48d72934-184d-451f-9671-200de40d07ec",
   "metadata": {},
   "outputs": [
    {
     "data": {
      "text/plain": [
       "53695"
      ]
     },
     "execution_count": 22,
     "metadata": {},
     "output_type": "execute_result"
    }
   ],
   "source": [
    "len(biobank_chr_snps)"
   ]
  },
  {
   "cell_type": "code",
   "execution_count": 51,
   "id": "f7c934d8-b3c2-420e-bd2d-b431ed7c5dec",
   "metadata": {},
   "outputs": [],
   "source": [
    "import json"
   ]
  },
  {
   "cell_type": "code",
   "execution_count": 77,
   "id": "1a6e1d0f-9c8b-4b31-ba7d-160041b32fbe",
   "metadata": {},
   "outputs": [],
   "source": [
    "#with open('biobank_chr6_snp_ids', 'w') as f:\n",
    "#    json.dump(biobank_chr_snps, f)"
   ]
  },
  {
   "cell_type": "code",
   "execution_count": 78,
   "id": "9cf1f3b3-f531-4dee-b9d3-8a8f25744242",
   "metadata": {},
   "outputs": [],
   "source": [
    "with open('biobank_chr6_snp_ids', 'r') as f:\n",
    "    biobank_chr_snps = json.load(f)"
   ]
  },
  {
   "cell_type": "code",
   "execution_count": 79,
   "id": "8394e348-a8f2-4334-a4ea-1eb5e90f04de",
   "metadata": {},
   "outputs": [
    {
     "data": {
      "text/plain": [
       "53695"
      ]
     },
     "execution_count": 79,
     "metadata": {},
     "output_type": "execute_result"
    }
   ],
   "source": [
    "len(biobank_chr_snps)"
   ]
  },
  {
   "cell_type": "code",
   "execution_count": 74,
   "id": "6136d83f-15f6-4f1f-ab46-d1346cf3296c",
   "metadata": {},
   "outputs": [],
   "source": [
    "#biobank_chr_snps"
   ]
  },
  {
   "cell_type": "code",
   "execution_count": 80,
   "id": "8038b480-52ef-4f52-ab2e-2c302a43ba2c",
   "metadata": {},
   "outputs": [
    {
     "data": {
      "text/plain": [
       "{'rs7770557'}"
      ]
     },
     "execution_count": 80,
     "metadata": {},
     "output_type": "execute_result"
    }
   ],
   "source": [
    "set(biobank_chr_snps) & set(snps)"
   ]
  },
  {
   "cell_type": "code",
   "execution_count": 25,
   "id": "2aac528c-389e-411a-979b-4c32235c2de6",
   "metadata": {},
   "outputs": [],
   "source": [
    "a = pd.DataFrame()"
   ]
  },
  {
   "cell_type": "code",
   "execution_count": 26,
   "id": "4205b32b-b4bc-4c53-bb0d-2f8370dd4e6c",
   "metadata": {},
   "outputs": [
    {
     "name": "stdout",
     "output_type": "stream",
     "text": [
      "10001\r"
     ]
    }
   ],
   "source": [
    "for chunk in r:\n",
    "    for index, row in chunk.iterrows():\n",
    "        print(index, end='\\r')\n",
    "        if row['ID'] in snps:\n",
    "            a = pd.concat([a, row])\n",
    "        if index > 10000:\n",
    "            break\n",
    "    if index > 10000:\n",
    "        break\n",
    "        #print(row)"
   ]
  },
  {
   "cell_type": "code",
   "execution_count": 28,
   "id": "52e41735-2926-4e13-8b16-9858d086aa67",
   "metadata": {},
   "outputs": [
    {
     "data": {
      "text/html": [
       "<div>\n",
       "<style scoped>\n",
       "    .dataframe tbody tr th:only-of-type {\n",
       "        vertical-align: middle;\n",
       "    }\n",
       "\n",
       "    .dataframe tbody tr th {\n",
       "        vertical-align: top;\n",
       "    }\n",
       "\n",
       "    .dataframe thead th {\n",
       "        text-align: right;\n",
       "    }\n",
       "</style>\n",
       "<table border=\"1\" class=\"dataframe\">\n",
       "  <thead>\n",
       "    <tr style=\"text-align: right;\">\n",
       "      <th></th>\n",
       "    </tr>\n",
       "  </thead>\n",
       "  <tbody>\n",
       "  </tbody>\n",
       "</table>\n",
       "</div>"
      ],
      "text/plain": [
       "Empty DataFrame\n",
       "Columns: []\n",
       "Index: []"
      ]
     },
     "execution_count": 28,
     "metadata": {},
     "output_type": "execute_result"
    }
   ],
   "source": [
    "a"
   ]
  },
  {
   "cell_type": "code",
   "execution_count": 37,
   "id": "4722174c-482e-4b0a-8df4-9b16e2e7e58f",
   "metadata": {},
   "outputs": [
    {
     "data": {
      "text/plain": [
       "False"
      ]
     },
     "execution_count": 37,
     "metadata": {},
     "output_type": "execute_result"
    }
   ],
   "source": [
    "a['ID'].values[0] in snps"
   ]
  },
  {
   "cell_type": "markdown",
   "id": "68476a4b-fc30-44d6-96e0-3a0cf6efa7a9",
   "metadata": {},
   "source": [
    "#### Better try, with the power of PLINK!\n",
    "\n",
    "SNPs are chosen with `asbs_near_eqtls.py`.\n"
   ]
  },
  {
   "attachments": {
    "59cf2c40-39c0-4962-bf08-49128c4533d8.png": {
     "image/png": "[encoded data removed]"
    }
   },
   "cell_type": "markdown",
   "id": "ccdaa258-7ecd-4440-98fa-0f5a9e31c8d4",
   "metadata": {},
   "source": [
    "![image.png](attachment:59cf2c40-39c0-4962-bf08-49128c4533d8.png)"
   ]
  },
  {
   "cell_type": "markdown",
   "id": "e36d6ed9-aa1c-4091-a348-c3c2573b3b4f",
   "metadata": {},
   "source": [
    "##### SNPs from different size windows"
   ]
  },
  {
   "cell_type": "code",
   "execution_count": 15,
   "id": "58442fd0-4b76-4218-9896-8ed6409a2182",
   "metadata": {},
   "outputs": [],
   "source": [
    "window_sizes = [500 * 2**i for i in range(16)]"
   ]
  },
  {
   "cell_type": "code",
   "execution_count": 16,
   "id": "204cea15-35c3-453d-96c1-d55365a0e03e",
   "metadata": {},
   "outputs": [
    {
     "data": {
      "text/plain": [
       "((805426,),\n",
       " array(['rs28659788', 'rs116587930', 'rs116720794', ..., 'Affx-79443532',\n",
       "        'Affx-89025709', 'Affx-79381726'], dtype=object))"
      ]
     },
     "execution_count": 16,
     "metadata": {},
     "output_type": "execute_result"
    }
   ],
   "source": [
    "all_biobank_snps = np.array([])\n",
    "for ch in chroms:\n",
    "    #pd.read_csv(f'../biobank_snps_chr{ch}.vcf', sep='\\t')\n",
    "    all_biobank_snps = np.hstack([all_biobank_snps,  pd.read_csv(f'../biobank_grepped_snp_ids/biobank_snps_chr{ch}.vcf', sep='\\t')['ID'].values])\n",
    "all_biobank_snps.shape, all_biobank_snps"
   ]
  },
  {
   "cell_type": "code",
   "execution_count": 17,
   "id": "ff3ffbdb-4edc-4da8-b5e6-9e709c188da4",
   "metadata": {},
   "outputs": [],
   "source": [
    "for wsize in window_sizes:\n",
    "    with open(f'../asbs_near_eqtls/w{wsize}_p0.05.txt', 'r') as in_f:\n",
    "        with open(f'../asbs_near_eqtls/w{wsize}_p0.05_woheaders.txt', 'w') as out_f:\n",
    "            for line in in_f.readlines():\n",
    "                if line[:4] != \"ASBs\":\n",
    "                    out_f.write(line)"
   ]
  },
  {
   "cell_type": "code",
   "execution_count": 18,
   "id": "9691b5c8-b4ad-4735-9a0a-f4671f9271cf",
   "metadata": {},
   "outputs": [],
   "source": [
    "for wsize in window_sizes:\n",
    "    df = pd.read_csv(f'../asbs_near_eqtls/w{wsize}_p0.05_woheaders.txt', sep='\\t', header=None)\n",
    "    ids = df[3].to_numpy()\n",
    "    \n",
    "    with open(f'../asbs_near_eqtls/w{wsize}_p0.05_ids_list.txt', 'w') as f:\n",
    "        for snp_id in ids:\n",
    "            f.write(str(snp_id) + '\\n')"
   ]
  },
  {
   "cell_type": "code",
   "execution_count": 19,
   "id": "48a40ace-7732-4511-b0de-f4029eded2c0",
   "metadata": {},
   "outputs": [
    {
     "name": "stdout",
     "output_type": "stream",
     "text": [
      "PLINK returned 0 for c6 and wsize=128000\n",
      "PLINK returned 0 for c1 and wsize=256000\n",
      "PLINK returned 0 for c6 and wsize=256000\n",
      "PLINK returned 0 for c1 and wsize=512000\n",
      "PLINK returned 0 for c6 and wsize=512000\n",
      "PLINK returned 0 for c18 and wsize=512000\n",
      "PLINK returned 0 for c1 and wsize=1024000\n",
      "PLINK returned 0 for c4 and wsize=1024000\n",
      "PLINK returned 0 for c6 and wsize=1024000\n",
      "PLINK returned 0 for c9 and wsize=1024000\n",
      "PLINK returned 0 for c18 and wsize=1024000\n",
      "PLINK returned 0 for c1 and wsize=2048000\n",
      "PLINK returned 0 for c4 and wsize=2048000\n",
      "PLINK returned 0 for c6 and wsize=2048000\n",
      "PLINK returned 0 for c9 and wsize=2048000\n",
      "PLINK returned 0 for c11 and wsize=2048000\n",
      "PLINK returned 0 for c18 and wsize=2048000\n",
      "PLINK returned 0 for c1 and wsize=4096000\n",
      "PLINK returned 0 for c4 and wsize=4096000\n",
      "PLINK returned 0 for c6 and wsize=4096000\n",
      "PLINK returned 0 for c9 and wsize=4096000\n",
      "PLINK returned 0 for c11 and wsize=4096000\n",
      "PLINK returned 0 for c18 and wsize=4096000\n",
      "PLINK returned 0 for c1 and wsize=8192000\n",
      "PLINK returned 0 for c3 and wsize=8192000\n",
      "PLINK returned 0 for c4 and wsize=8192000\n",
      "PLINK returned 0 for c6 and wsize=8192000\n",
      "PLINK returned 0 for c7 and wsize=8192000\n",
      "PLINK returned 0 for c9 and wsize=8192000\n",
      "PLINK returned 0 for c11 and wsize=8192000\n",
      "PLINK returned 0 for c18 and wsize=8192000\n",
      "PLINK returned 0 for c20 and wsize=8192000\n",
      "PLINK returned 0 for c1 and wsize=16384000\n",
      "PLINK returned 0 for c2 and wsize=16384000\n",
      "PLINK returned 0 for c3 and wsize=16384000\n",
      "PLINK returned 0 for c4 and wsize=16384000\n",
      "PLINK returned 0 for c6 and wsize=16384000\n",
      "PLINK returned 0 for c7 and wsize=16384000\n",
      "PLINK returned 0 for c8 and wsize=16384000\n",
      "PLINK returned 0 for c9 and wsize=16384000\n",
      "PLINK returned 0 for c11 and wsize=16384000\n",
      "PLINK returned 0 for c13 and wsize=16384000\n",
      "PLINK returned 0 for c18 and wsize=16384000\n",
      "PLINK returned 0 for c20 and wsize=16384000\n"
     ]
    }
   ],
   "source": [
    "PLINK_EXEC_PATH = \"../plink_linux_x86_64_20220402/plink\"\n",
    "for wsize in window_sizes:\n",
    "    for chrom in chroms:\n",
    "        proc = subprocess.run([PLINK_EXEC_PATH, \n",
    "                               \"--bfile\", f\"../ukbiobank/raw_data/ukb22418_c{chrom}_b0_v2\", \n",
    "                               \"--extract\", f\"../asbs_near_eqtls/w{wsize}_p0.05_ids_list.txt\", \n",
    "                               \"--recode\", \"vcf\", \n",
    "                               \"--out\", f\"../biobank_extracted/extracted_snps_c{chrom}_w{wsize}\"],\n",
    "                             capture_output=True)\n",
    "\n",
    "        if proc.returncode != 0:  # 12: No variants remaining after --extract??\n",
    "            #print(f\"PLINK returned non-zero exit code for c{chrom} and wsize={wsize}\")\n",
    "            pass\n",
    "        else:\n",
    "            print(f\"PLINK returned 0 for c{chrom} and wsize={wsize}\")"
   ]
  },
  {
   "cell_type": "code",
   "execution_count": 20,
   "id": "53b4c7c7-5f78-41b5-8432-4236af91c726",
   "metadata": {},
   "outputs": [
    {
     "name": "stdout",
     "output_type": "stream",
     "text": [
      "../biobank_extracted/extracted_snps_c6_w500.vcf\n",
      "\n",
      "../biobank_extracted/extracted_snps_c6_w1000.vcf\n",
      "\n",
      "../biobank_extracted/extracted_snps_c6_w2000.vcf\n",
      "\n",
      "../biobank_extracted/extracted_snps_c6_w4000.vcf\n",
      "\n",
      "../biobank_extracted/extracted_snps_c6_w8000.vcf\n",
      "\n",
      "../biobank_extracted/extracted_snps_c6_w16000.vcf\n",
      "\n",
      "../biobank_extracted/extracted_snps_c6_w32000.vcf\n",
      "\n",
      "../biobank_extracted/extracted_snps_c6_w64000.vcf\n",
      "../biobank_extracted/extracted_snps_c18_w64000.vcf\n",
      "\n",
      "../biobank_extracted/extracted_snps_c6_w128000.vcf\n",
      "../biobank_extracted/extracted_snps_c18_w128000.vcf\n",
      "../biobank_extracted/extracted_snps_c13_w128000.vcf\n",
      "\n",
      "../biobank_extracted/extracted_snps_c18_w256000.vcf\n",
      "../biobank_extracted/extracted_snps_c1_w256000.vcf\n",
      "../biobank_extracted/extracted_snps_c13_w256000.vcf\n",
      "../biobank_extracted/extracted_snps_c6_w256000.vcf\n",
      "\n",
      "../biobank_extracted/extracted_snps_c1_w512000.vcf\n",
      "../biobank_extracted/extracted_snps_c6_w512000.vcf\n",
      "../biobank_extracted/extracted_snps_c18_w512000.vcf\n",
      "../biobank_extracted/extracted_snps_c13_w512000.vcf\n",
      "\n",
      "../biobank_extracted/extracted_snps_c6_w1024000.vcf\n",
      "../biobank_extracted/extracted_snps_c9_w1024000.vcf\n",
      "../biobank_extracted/extracted_snps_c13_w1024000.vcf\n",
      "../biobank_extracted/extracted_snps_c1_w1024000.vcf\n",
      "../biobank_extracted/extracted_snps_c4_w1024000.vcf\n",
      "../biobank_extracted/extracted_snps_c18_w1024000.vcf\n",
      "\n",
      "../biobank_extracted/extracted_snps_c6_w2048000.vcf\n",
      "../biobank_extracted/extracted_snps_c1_w2048000.vcf\n",
      "../biobank_extracted/extracted_snps_c13_w2048000.vcf\n",
      "../biobank_extracted/extracted_snps_c9_w2048000.vcf\n",
      "../biobank_extracted/extracted_snps_c8_w2048000.vcf\n",
      "../biobank_extracted/extracted_snps_c11_w2048000.vcf\n",
      "../biobank_extracted/extracted_snps_c18_w2048000.vcf\n",
      "../biobank_extracted/extracted_snps_c4_w2048000.vcf\n",
      "\n",
      "../biobank_extracted/extracted_snps_c13_w4096000.vcf\n",
      "../biobank_extracted/extracted_snps_c8_w4096000.vcf\n",
      "../biobank_extracted/extracted_snps_c18_w4096000.vcf\n",
      "../biobank_extracted/extracted_snps_c6_w4096000.vcf\n",
      "../biobank_extracted/extracted_snps_c11_w4096000.vcf\n",
      "../biobank_extracted/extracted_snps_c9_w4096000.vcf\n",
      "../biobank_extracted/extracted_snps_c4_w4096000.vcf\n",
      "../biobank_extracted/extracted_snps_c1_w4096000.vcf\n",
      "\n",
      "../biobank_extracted/extracted_snps_c6_w8192000.vcf\n",
      "../biobank_extracted/extracted_snps_c1_w8192000.vcf\n",
      "../biobank_extracted/extracted_snps_c8_w8192000.vcf\n",
      "../biobank_extracted/extracted_snps_c7_w8192000.vcf\n",
      "../biobank_extracted/extracted_snps_c12_w8192000.vcf\n",
      "../biobank_extracted/extracted_snps_c9_w8192000.vcf\n",
      "../biobank_extracted/extracted_snps_c4_w8192000.vcf\n",
      "../biobank_extracted/extracted_snps_c11_w8192000.vcf\n",
      "../biobank_extracted/extracted_snps_c18_w8192000.vcf\n",
      "../biobank_extracted/extracted_snps_c13_w8192000.vcf\n",
      "../biobank_extracted/extracted_snps_c3_w8192000.vcf\n",
      "../biobank_extracted/extracted_snps_c20_w8192000.vcf\n",
      "\n",
      "../biobank_extracted/extracted_snps_c2_w16384000.vcf\n",
      "../biobank_extracted/extracted_snps_c18_w16384000.vcf\n",
      "../biobank_extracted/extracted_snps_c4_w16384000.vcf\n",
      "../biobank_extracted/extracted_snps_c9_w16384000.vcf\n",
      "../biobank_extracted/extracted_snps_c20_w16384000.vcf\n",
      "../biobank_extracted/extracted_snps_c1_w16384000.vcf\n",
      "../biobank_extracted/extracted_snps_c11_w16384000.vcf\n",
      "../biobank_extracted/extracted_snps_c6_w16384000.vcf\n",
      "../biobank_extracted/extracted_snps_c3_w16384000.vcf\n",
      "../biobank_extracted/extracted_snps_c13_w16384000.vcf\n",
      "../biobank_extracted/extracted_snps_c8_w16384000.vcf\n",
      "../biobank_extracted/extracted_snps_c12_w16384000.vcf\n",
      "../biobank_extracted/extracted_snps_c7_w16384000.vcf\n",
      "\n"
     ]
    }
   ],
   "source": [
    "for wsize in window_sizes:\n",
    "    print(*glob.glob(f'../biobank_extracted/extracted_snps_c*_w{wsize}.vcf'), end='\\n\\n', sep='\\n')"
   ]
  },
  {
   "cell_type": "code",
   "execution_count": 23,
   "id": "a9f3cccb-19cc-4075-b150-bd1bae968a4c",
   "metadata": {},
   "outputs": [
    {
     "name": "stdout",
     "output_type": "stream",
     "text": [
      "crohn\n",
      "500 (1, 488386)\n",
      "1000 (1, 488386)\n",
      "2000 (1, 488386)\n",
      "4000 (1, 488386)\n",
      "8000 (1, 488386)\n",
      "16000 (1, 488386)\n",
      "32000 (1, 488386)\n",
      "64000 (3, 488386)\n",
      "128000 (3, 488386)\n",
      "256000 (4, 488386)\n",
      "512000 (4, 488386)\n",
      "1024000 (8, 488386)\n",
      "2048000 (12, 488386)\n"
     ]
    },
    {
     "ename": "KeyboardInterrupt",
     "evalue": "",
     "output_type": "error",
     "traceback": [
      "\u001b[0;31m---------------------------------------------------------------------------\u001b[0m",
      "\u001b[0;31mKeyboardInterrupt\u001b[0m                         Traceback (most recent call last)",
      "Input \u001b[0;32mIn [23]\u001b[0m, in \u001b[0;36m<cell line: 2>\u001b[0;34m()\u001b[0m\n\u001b[1;32m      5\u001b[0m \u001b[38;5;28;01mfor\u001b[39;00m wsize \u001b[38;5;129;01min\u001b[39;00m window_sizes:\n\u001b[1;32m      6\u001b[0m     \u001b[38;5;28;01mfor\u001b[39;00m filename \u001b[38;5;129;01min\u001b[39;00m glob\u001b[38;5;241m.\u001b[39mglob(\u001b[38;5;124mf\u001b[39m\u001b[38;5;124m'\u001b[39m\u001b[38;5;124m../biobank_extracted/extracted_snps_c*_w\u001b[39m\u001b[38;5;132;01m{\u001b[39;00mwsize\u001b[38;5;132;01m}\u001b[39;00m\u001b[38;5;124m.vcf\u001b[39m\u001b[38;5;124m'\u001b[39m):\n\u001b[0;32m----> 7\u001b[0m         df \u001b[38;5;241m=\u001b[39m \u001b[43mpd\u001b[49m\u001b[38;5;241;43m.\u001b[39;49m\u001b[43mread_csv\u001b[49m\u001b[43m(\u001b[49m\n\u001b[1;32m      8\u001b[0m \u001b[43m            \u001b[49m\u001b[43mfilename\u001b[49m\u001b[43m,\u001b[49m\n\u001b[1;32m      9\u001b[0m \u001b[43m            \u001b[49m\u001b[43mskiprows\u001b[49m\u001b[38;5;241;43m=\u001b[39;49m\u001b[38;5;28;43mrange\u001b[39;49m\u001b[43m(\u001b[49m\u001b[38;5;241;43m6\u001b[39;49m\u001b[43m)\u001b[49m\u001b[43m,\u001b[49m\n\u001b[1;32m     10\u001b[0m \u001b[43m            \u001b[49m\u001b[43msep\u001b[49m\u001b[38;5;241;43m=\u001b[39;49m\u001b[38;5;124;43m'\u001b[39;49m\u001b[38;5;130;43;01m\\t\u001b[39;49;00m\u001b[38;5;124;43m'\u001b[39;49m\u001b[43m,\u001b[49m\n\u001b[1;32m     11\u001b[0m \u001b[43m            \u001b[49m\u001b[43musecols\u001b[49m\u001b[38;5;241;43m=\u001b[39;49m\u001b[43mfirst_cols\u001b[49m\u001b[43m \u001b[49m\u001b[38;5;241;43m+\u001b[39;49m\u001b[43m \u001b[49m\u001b[43mhealthy_cols\u001b[49m\u001b[43m[\u001b[49m\u001b[43mdisease\u001b[49m\u001b[43m]\u001b[49m\u001b[43m \u001b[49m\u001b[38;5;241;43m+\u001b[39;49m\u001b[43m \u001b[49m\u001b[43mdisease_cols\u001b[49m\u001b[43m[\u001b[49m\u001b[43mdisease\u001b[49m\u001b[43m]\u001b[49m\u001b[43m,\u001b[49m\n\u001b[1;32m     12\u001b[0m \u001b[43m            \u001b[49m\u001b[43mdtype\u001b[49m\u001b[38;5;241;43m=\u001b[39;49m\u001b[43m{\u001b[49m\u001b[38;5;124;43m'\u001b[39;49m\u001b[38;5;124;43mID\u001b[39;49m\u001b[38;5;124;43m'\u001b[39;49m\u001b[43m:\u001b[49m\u001b[43m \u001b[49m\u001b[38;5;28;43mstr\u001b[39;49m\u001b[43m}\u001b[49m\u001b[43m,\u001b[49m\n\u001b[1;32m     13\u001b[0m \u001b[43m        \u001b[49m\u001b[43m)\u001b[49m\n\u001b[1;32m     14\u001b[0m         \u001b[38;5;66;03m#print(df)\u001b[39;00m\n\u001b[1;32m     15\u001b[0m         variants_dfs[wsize] \u001b[38;5;241m=\u001b[39m pd\u001b[38;5;241m.\u001b[39mconcat([variants_dfs[wsize], df], ignore_index\u001b[38;5;241m=\u001b[39m\u001b[38;5;28;01mTrue\u001b[39;00m)\n",
      "File \u001b[0;32m~/miniconda3/lib/python3.9/site-packages/pandas/util/_decorators.py:311\u001b[0m, in \u001b[0;36mdeprecate_nonkeyword_arguments.<locals>.decorate.<locals>.wrapper\u001b[0;34m(*args, **kwargs)\u001b[0m\n\u001b[1;32m    305\u001b[0m \u001b[38;5;28;01mif\u001b[39;00m \u001b[38;5;28mlen\u001b[39m(args) \u001b[38;5;241m>\u001b[39m num_allow_args:\n\u001b[1;32m    306\u001b[0m     warnings\u001b[38;5;241m.\u001b[39mwarn(\n\u001b[1;32m    307\u001b[0m         msg\u001b[38;5;241m.\u001b[39mformat(arguments\u001b[38;5;241m=\u001b[39marguments),\n\u001b[1;32m    308\u001b[0m         \u001b[38;5;167;01mFutureWarning\u001b[39;00m,\n\u001b[1;32m    309\u001b[0m         stacklevel\u001b[38;5;241m=\u001b[39mstacklevel,\n\u001b[1;32m    310\u001b[0m     )\n\u001b[0;32m--> 311\u001b[0m \u001b[38;5;28;01mreturn\u001b[39;00m \u001b[43mfunc\u001b[49m\u001b[43m(\u001b[49m\u001b[38;5;241;43m*\u001b[39;49m\u001b[43margs\u001b[49m\u001b[43m,\u001b[49m\u001b[43m \u001b[49m\u001b[38;5;241;43m*\u001b[39;49m\u001b[38;5;241;43m*\u001b[39;49m\u001b[43mkwargs\u001b[49m\u001b[43m)\u001b[49m\n",
      "File \u001b[0;32m~/miniconda3/lib/python3.9/site-packages/pandas/io/parsers/readers.py:680\u001b[0m, in \u001b[0;36mread_csv\u001b[0;34m(filepath_or_buffer, sep, delimiter, header, names, index_col, usecols, squeeze, prefix, mangle_dupe_cols, dtype, engine, converters, true_values, false_values, skipinitialspace, skiprows, skipfooter, nrows, na_values, keep_default_na, na_filter, verbose, skip_blank_lines, parse_dates, infer_datetime_format, keep_date_col, date_parser, dayfirst, cache_dates, iterator, chunksize, compression, thousands, decimal, lineterminator, quotechar, quoting, doublequote, escapechar, comment, encoding, encoding_errors, dialect, error_bad_lines, warn_bad_lines, on_bad_lines, delim_whitespace, low_memory, memory_map, float_precision, storage_options)\u001b[0m\n\u001b[1;32m    665\u001b[0m kwds_defaults \u001b[38;5;241m=\u001b[39m _refine_defaults_read(\n\u001b[1;32m    666\u001b[0m     dialect,\n\u001b[1;32m    667\u001b[0m     delimiter,\n\u001b[0;32m   (...)\u001b[0m\n\u001b[1;32m    676\u001b[0m     defaults\u001b[38;5;241m=\u001b[39m{\u001b[38;5;124m\"\u001b[39m\u001b[38;5;124mdelimiter\u001b[39m\u001b[38;5;124m\"\u001b[39m: \u001b[38;5;124m\"\u001b[39m\u001b[38;5;124m,\u001b[39m\u001b[38;5;124m\"\u001b[39m},\n\u001b[1;32m    677\u001b[0m )\n\u001b[1;32m    678\u001b[0m kwds\u001b[38;5;241m.\u001b[39mupdate(kwds_defaults)\n\u001b[0;32m--> 680\u001b[0m \u001b[38;5;28;01mreturn\u001b[39;00m \u001b[43m_read\u001b[49m\u001b[43m(\u001b[49m\u001b[43mfilepath_or_buffer\u001b[49m\u001b[43m,\u001b[49m\u001b[43m \u001b[49m\u001b[43mkwds\u001b[49m\u001b[43m)\u001b[49m\n",
      "File \u001b[0;32m~/miniconda3/lib/python3.9/site-packages/pandas/io/parsers/readers.py:581\u001b[0m, in \u001b[0;36m_read\u001b[0;34m(filepath_or_buffer, kwds)\u001b[0m\n\u001b[1;32m    578\u001b[0m     \u001b[38;5;28;01mreturn\u001b[39;00m parser\n\u001b[1;32m    580\u001b[0m \u001b[38;5;28;01mwith\u001b[39;00m parser:\n\u001b[0;32m--> 581\u001b[0m     \u001b[38;5;28;01mreturn\u001b[39;00m \u001b[43mparser\u001b[49m\u001b[38;5;241;43m.\u001b[39;49m\u001b[43mread\u001b[49m\u001b[43m(\u001b[49m\u001b[43mnrows\u001b[49m\u001b[43m)\u001b[49m\n",
      "File \u001b[0;32m~/miniconda3/lib/python3.9/site-packages/pandas/io/parsers/readers.py:1250\u001b[0m, in \u001b[0;36mTextFileReader.read\u001b[0;34m(self, nrows)\u001b[0m\n\u001b[1;32m   1248\u001b[0m nrows \u001b[38;5;241m=\u001b[39m validate_integer(\u001b[38;5;124m\"\u001b[39m\u001b[38;5;124mnrows\u001b[39m\u001b[38;5;124m\"\u001b[39m, nrows)\n\u001b[1;32m   1249\u001b[0m \u001b[38;5;28;01mtry\u001b[39;00m:\n\u001b[0;32m-> 1250\u001b[0m     index, columns, col_dict \u001b[38;5;241m=\u001b[39m \u001b[38;5;28;43mself\u001b[39;49m\u001b[38;5;241;43m.\u001b[39;49m\u001b[43m_engine\u001b[49m\u001b[38;5;241;43m.\u001b[39;49m\u001b[43mread\u001b[49m\u001b[43m(\u001b[49m\u001b[43mnrows\u001b[49m\u001b[43m)\u001b[49m\n\u001b[1;32m   1251\u001b[0m \u001b[38;5;28;01mexcept\u001b[39;00m \u001b[38;5;167;01mException\u001b[39;00m:\n\u001b[1;32m   1252\u001b[0m     \u001b[38;5;28mself\u001b[39m\u001b[38;5;241m.\u001b[39mclose()\n",
      "File \u001b[0;32m~/miniconda3/lib/python3.9/site-packages/pandas/io/parsers/c_parser_wrapper.py:225\u001b[0m, in \u001b[0;36mCParserWrapper.read\u001b[0;34m(self, nrows)\u001b[0m\n\u001b[1;32m    223\u001b[0m \u001b[38;5;28;01mtry\u001b[39;00m:\n\u001b[1;32m    224\u001b[0m     \u001b[38;5;28;01mif\u001b[39;00m \u001b[38;5;28mself\u001b[39m\u001b[38;5;241m.\u001b[39mlow_memory:\n\u001b[0;32m--> 225\u001b[0m         chunks \u001b[38;5;241m=\u001b[39m \u001b[38;5;28;43mself\u001b[39;49m\u001b[38;5;241;43m.\u001b[39;49m\u001b[43m_reader\u001b[49m\u001b[38;5;241;43m.\u001b[39;49m\u001b[43mread_low_memory\u001b[49m\u001b[43m(\u001b[49m\u001b[43mnrows\u001b[49m\u001b[43m)\u001b[49m\n\u001b[1;32m    226\u001b[0m         \u001b[38;5;66;03m# destructive to chunks\u001b[39;00m\n\u001b[1;32m    227\u001b[0m         data \u001b[38;5;241m=\u001b[39m _concatenate_chunks(chunks)\n",
      "File \u001b[0;32m~/miniconda3/lib/python3.9/site-packages/pandas/_libs/parsers.pyx:805\u001b[0m, in \u001b[0;36mpandas._libs.parsers.TextReader.read_low_memory\u001b[0;34m()\u001b[0m\n",
      "File \u001b[0;32m~/miniconda3/lib/python3.9/site-packages/pandas/_libs/parsers.pyx:883\u001b[0m, in \u001b[0;36mpandas._libs.parsers.TextReader._read_rows\u001b[0;34m()\u001b[0m\n",
      "File \u001b[0;32m~/miniconda3/lib/python3.9/site-packages/pandas/_libs/parsers.pyx:1026\u001b[0m, in \u001b[0;36mpandas._libs.parsers.TextReader._convert_column_data\u001b[0;34m()\u001b[0m\n",
      "File \u001b[0;32m~/miniconda3/lib/python3.9/site-packages/pandas/_libs/parsers.pyx:1072\u001b[0m, in \u001b[0;36mpandas._libs.parsers.TextReader._convert_tokens\u001b[0;34m()\u001b[0m\n",
      "File \u001b[0;32m~/miniconda3/lib/python3.9/site-packages/pandas/_libs/parsers.pyx:1147\u001b[0m, in \u001b[0;36mpandas._libs.parsers.TextReader._convert_with_dtype\u001b[0;34m()\u001b[0m\n",
      "File \u001b[0;32m~/miniconda3/lib/python3.9/site-packages/pandas/core/dtypes/common.py:1477\u001b[0m, in \u001b[0;36mis_extension_array_dtype\u001b[0;34m(arr_or_dtype)\u001b[0m\n\u001b[1;32m   1475\u001b[0m \u001b[38;5;28;01mif\u001b[39;00m \u001b[38;5;28misinstance\u001b[39m(dtype, ExtensionDtype):\n\u001b[1;32m   1476\u001b[0m     \u001b[38;5;28;01mreturn\u001b[39;00m \u001b[38;5;28;01mTrue\u001b[39;00m\n\u001b[0;32m-> 1477\u001b[0m \u001b[38;5;28;01melif\u001b[39;00m \u001b[38;5;28misinstance\u001b[39m(dtype, \u001b[43mnp\u001b[49m\u001b[38;5;241m.\u001b[39mdtype):\n\u001b[1;32m   1478\u001b[0m     \u001b[38;5;28;01mreturn\u001b[39;00m \u001b[38;5;28;01mFalse\u001b[39;00m\n\u001b[1;32m   1479\u001b[0m \u001b[38;5;28;01melse\u001b[39;00m:\n",
      "\u001b[0;31mKeyboardInterrupt\u001b[0m: "
     ]
    }
   ],
   "source": [
    "#wsize = 64000\n",
    "for disease, _ in diseases:\n",
    "    print(disease)\n",
    "    variants_dfs = {wsize: pd.DataFrame() for wsize in window_sizes}\n",
    "    for wsize in window_sizes:\n",
    "        for filename in glob.glob(f'../biobank_extracted/extracted_snps_c*_w{wsize}.vcf'):\n",
    "            df = pd.read_csv(\n",
    "                filename,\n",
    "                skiprows=range(6),\n",
    "                sep='\\t',\n",
    "                usecols=first_cols + healthy_cols[disease] + disease_cols[disease],\n",
    "                dtype={'ID': str},\n",
    "            )\n",
    "            #print(df)\n",
    "            variants_dfs[wsize] = pd.concat([variants_dfs[wsize], df], ignore_index=True)\n",
    "\n",
    "\n",
    "        print(wsize, variants_dfs[wsize].shape)"
   ]
  },
  {
   "cell_type": "code",
   "execution_count": 30,
   "id": "4ce52e15-24cf-4ae2-8e97-00339266bc36",
   "metadata": {},
   "outputs": [
    {
     "name": "stdout",
     "output_type": "stream",
     "text": [
      "500 (1, 488386)\n",
      "1000 (1, 488386)\n",
      "2000 (1, 488386)\n",
      "4000 (1, 488386)\n",
      "8000 (1, 488386)\n",
      "16000 (1, 488386)\n",
      "32000 (1, 488386)\n",
      "64000 (3, 488386)\n",
      "128000 (6, 488386)\n",
      "256000 (7, 488386)\n",
      "512000 (8, 488386)\n",
      "1024000 (13, 488386)\n",
      "2048000 (20, 488386)\n",
      "4096000 (25, 488386)\n",
      "8192000 (40, 488386)\n",
      "16384000 (57, 488386)\n"
     ]
    }
   ],
   "source": [
    "#wsize = 64000\n",
    "\n",
    "variants_dfs_allpatients = {wsize: pd.DataFrame() for wsize in window_sizes}\n",
    "for wsize in window_sizes:\n",
    "    for filename in glob.glob(f'../biobank_extracted/extracted_snps_c*_w{wsize}.vcf'):\n",
    "        df = pd.read_csv(\n",
    "            filename,\n",
    "            skiprows=range(6),\n",
    "            sep='\\t',\n",
    "            #usecols=first_cols + healthy_cols + diabetes_cols,\n",
    "            dtype={'ID': str},\n",
    "        )\n",
    "        #print(df)\n",
    "        variants_dfs_allpatients[wsize] = pd.concat([variants_dfs_allpatients[wsize], df], ignore_index=True)\n",
    "\n",
    "\n",
    "    print(wsize, variants_dfs_allpatients[wsize].shape)"
   ]
  },
  {
   "cell_type": "code",
   "execution_count": 40,
   "id": "d27ea94a-ed85-4ef1-9836-b918ff31f812",
   "metadata": {},
   "outputs": [
    {
     "name": "stdout",
     "output_type": "stream",
     "text": [
      "500 (1, 75213)\n",
      "1000 (1, 75213)\n",
      "2000 (1, 75213)\n",
      "4000 (1, 75213)\n",
      "8000 (1, 75213)\n",
      "16000 (1, 75213)\n",
      "32000 (1, 75213)\n",
      "64000 (3, 75213)\n",
      "128000 (6, 75213)\n",
      "256000 (7, 75213)\n",
      "512000 (8, 75213)\n",
      "1024000 (13, 75213)\n",
      "2048000 (20, 75213)\n",
      "4096000 (25, 75213)\n",
      "8192000 (40, 75213)\n",
      "16384000 (57, 75213)\n"
     ]
    }
   ],
   "source": [
    "variants_dfs = {wsize: pd.DataFrame() for wsize in window_sizes}\n",
    "for wsize in window_sizes:\n",
    "    variants_dfs[wsize] = variants_dfs_allpatients[wsize][first_cols + healthy_cols + diabetes_cols]\n",
    "    print(wsize, variants_dfs[wsize].shape)\n",
    "    "
   ]
  },
  {
   "cell_type": "code",
   "execution_count": 17,
   "id": "33af31e6-fa77-4664-b6a8-1b62dc7b2ee7",
   "metadata": {},
   "outputs": [
    {
     "name": "stdout",
     "output_type": "stream",
     "text": [
      "500\t8\t1\n",
      "1000\t11\t1\n",
      "2000\t16\t1\n",
      "4000\t16\t1\n",
      "8000\t18\t1\n",
      "16000\t18\t1\n",
      "32000\t22\t1\n",
      "64000\t28\t3\n",
      "128000\t42\t6\n",
      "256000\t60\t7\n",
      "512000\t86\t8\n",
      "1024000\t159\t13\n",
      "2048000\t260\t20\n",
      "4096000\t399\t25\n",
      "8192000\t587\t40\n",
      "16384000\t842\t57\n"
     ]
    }
   ],
   "source": [
    "wsizes = [500 * 2**i for i in range(16)]  # 16\n",
    "asbs_in_window = []\n",
    "for wsize in wsizes:\n",
    "    snps = pd.read_csv(f'../asbs_near_eqtls_oldv4/w{wsize}_p0.05_woheaders.txt', sep='\\t', header=None)[3].values\n",
    "    asbs_in_window.append(len(snps))\n",
    "    print(wsize, len(snps), len(set(snps) & set(all_biobank_snps)), sep='\\t')"
   ]
  },
  {
   "cell_type": "code",
   "execution_count": 19,
   "id": "ffe5780e-8fc7-44fa-b4bf-eb6a9916694b",
   "metadata": {},
   "outputs": [
    {
     "data": {
      "text/plain": [
       "Text(0, 0.5, 'relative ASB abundance')"
      ]
     },
     "execution_count": 19,
     "metadata": {},
     "output_type": "execute_result"
    },
    {
     "data": {
      "image/png": "[encoded data removed]",
      "text/plain": [
       "<Figure size 864x360 with 1 Axes>"
      ]
     },
     "metadata": {
      "needs_background": "light"
     },
     "output_type": "display_data"
    }
   ],
   "source": [
    "fig = plt.figure(figsize=(12, 5))\n",
    "rel_counts = [asbs_in_window[i] / (2 * wsizes[i]) for i in range(len(wsizes))]\n",
    "plt.bar([f'{x:.1e}' for x in wsizes], rel_counts)\n",
    "plt.xlabel('window halfwidth')\n",
    "plt.ylabel('relative ASB abundance')"
   ]
  },
  {
   "cell_type": "code",
   "execution_count": 85,
   "id": "090094db-6216-4073-afc1-f05a40eb77d8",
   "metadata": {},
   "outputs": [
    {
     "data": {
      "image/png": "[encoded data removed]",
      "text/plain": [
       "<Figure size 864x288 with 1 Axes>"
      ]
     },
     "metadata": {
      "needs_background": "light"
     },
     "output_type": "display_data"
    }
   ],
   "source": [
    "fig, ax = plt.subplots(1, 1, figsize=(12, 4))\n",
    "#fig, ax = plt.subplots(1, 1, figsize=(36, 15))\n",
    "rel_counts = [asbs_in_window[i] / (2 * wsizes[i]) for i in range(len(wsizes))]\n",
    "plt.bar([f'{x:.1e}' for x in wsizes], rel_counts)\n",
    "plt.xlabel('window halfwidth')\n",
    "plt.ylabel('$\\log($relative ASB abundance$)$')\n",
    "ax.set_yscale(matplotlib.scale.LogScale(ax))\n",
    "plt.savefig('rel_ASB_abund.png')"
   ]
  },
  {
   "cell_type": "code",
   "execution_count": 18,
   "id": "bd830abe-c898-445f-898f-84047ff054bd",
   "metadata": {},
   "outputs": [
    {
     "data": {
      "image/png": "[encoded data removed]",
      "text/plain": [
       "<Figure size 648x216 with 1 Axes>"
      ]
     },
     "metadata": {
      "needs_background": "light"
     },
     "output_type": "display_data"
    }
   ],
   "source": [
    "fig, ax = plt.subplots(1, 1, figsize=(9, 3))\n",
    "#fig, ax = plt.subplots(1, 1, figsize=(36, 15))\n",
    "rel_counts = [asbs_in_window[i] / (2 * wsizes[i]) for i in range(len(wsizes))]\n",
    "plt.bar([f'{i:.1f}' for i in range(len(wsizes))], rel_counts)\n",
    "plt.xlabel('$\\log_2$(window halfwidth / 500)')\n",
    "plt.ylabel('$\\log($relative ASB abundance$)$')\n",
    "ax.set_yscale(matplotlib.scale.LogScale(ax))\n",
    "plt.tight_layout()\n",
    "plt.savefig('rel_ASB_abund.png')"
   ]
  },
  {
   "cell_type": "code",
   "execution_count": 75,
   "id": "1db7ad64-cac1-4753-a355-9c2b0cc9bf59",
   "metadata": {},
   "outputs": [
    {
     "data": {
      "text/html": [
       "<div>\n",
       "<style scoped>\n",
       "    .dataframe tbody tr th:only-of-type {\n",
       "        vertical-align: middle;\n",
       "    }\n",
       "\n",
       "    .dataframe tbody tr th {\n",
       "        vertical-align: top;\n",
       "    }\n",
       "\n",
       "    .dataframe thead th {\n",
       "        text-align: right;\n",
       "    }\n",
       "</style>\n",
       "<table border=\"1\" class=\"dataframe\">\n",
       "  <thead>\n",
       "    <tr style=\"text-align: right;\">\n",
       "      <th></th>\n",
       "      <th>#CHROM</th>\n",
       "      <th>POS</th>\n",
       "      <th>ID</th>\n",
       "      <th>REF</th>\n",
       "      <th>ALT</th>\n",
       "      <th>QUAL</th>\n",
       "      <th>FILTER</th>\n",
       "      <th>INFO</th>\n",
       "      <th>FORMAT</th>\n",
       "    </tr>\n",
       "  </thead>\n",
       "  <tbody>\n",
       "    <tr>\n",
       "      <th>0</th>\n",
       "      <td>18</td>\n",
       "      <td>11358</td>\n",
       "      <td>rs77459974</td>\n",
       "      <td>G</td>\n",
       "      <td>A</td>\n",
       "      <td>.</td>\n",
       "      <td>.</td>\n",
       "      <td>PR</td>\n",
       "      <td>GT</td>\n",
       "    </tr>\n",
       "    <tr>\n",
       "      <th>1</th>\n",
       "      <td>18</td>\n",
       "      <td>47892</td>\n",
       "      <td>Affx-89018553</td>\n",
       "      <td>CTGCCCCGGCTGGTCAG</td>\n",
       "      <td>C</td>\n",
       "      <td>.</td>\n",
       "      <td>.</td>\n",
       "      <td>PR</td>\n",
       "      <td>GT</td>\n",
       "    </tr>\n",
       "    <tr>\n",
       "      <th>2</th>\n",
       "      <td>18</td>\n",
       "      <td>48630</td>\n",
       "      <td>rs56260713</td>\n",
       "      <td>G</td>\n",
       "      <td>C</td>\n",
       "      <td>.</td>\n",
       "      <td>.</td>\n",
       "      <td>PR</td>\n",
       "      <td>GT</td>\n",
       "    </tr>\n",
       "    <tr>\n",
       "      <th>3</th>\n",
       "      <td>18</td>\n",
       "      <td>48951</td>\n",
       "      <td>Affx-89015884</td>\n",
       "      <td>TTGTC</td>\n",
       "      <td>T</td>\n",
       "      <td>.</td>\n",
       "      <td>.</td>\n",
       "      <td>PR</td>\n",
       "      <td>GT</td>\n",
       "    </tr>\n",
       "    <tr>\n",
       "      <th>4</th>\n",
       "      <td>18</td>\n",
       "      <td>49056</td>\n",
       "      <td>Affx-89020160</td>\n",
       "      <td>TG</td>\n",
       "      <td>T</td>\n",
       "      <td>.</td>\n",
       "      <td>.</td>\n",
       "      <td>PR</td>\n",
       "      <td>GT</td>\n",
       "    </tr>\n",
       "    <tr>\n",
       "      <th>...</th>\n",
       "      <td>...</td>\n",
       "      <td>...</td>\n",
       "      <td>...</td>\n",
       "      <td>...</td>\n",
       "      <td>...</td>\n",
       "      <td>...</td>\n",
       "      <td>...</td>\n",
       "      <td>...</td>\n",
       "      <td>...</td>\n",
       "    </tr>\n",
       "    <tr>\n",
       "      <th>21957</th>\n",
       "      <td>18</td>\n",
       "      <td>78005160</td>\n",
       "      <td>Affx-80259243</td>\n",
       "      <td>C</td>\n",
       "      <td>T</td>\n",
       "      <td>.</td>\n",
       "      <td>.</td>\n",
       "      <td>PR</td>\n",
       "      <td>GT</td>\n",
       "    </tr>\n",
       "    <tr>\n",
       "      <th>21958</th>\n",
       "      <td>18</td>\n",
       "      <td>78007784</td>\n",
       "      <td>rs12970236</td>\n",
       "      <td>C</td>\n",
       "      <td>T</td>\n",
       "      <td>.</td>\n",
       "      <td>.</td>\n",
       "      <td>PR</td>\n",
       "      <td>GT</td>\n",
       "    </tr>\n",
       "    <tr>\n",
       "      <th>21959</th>\n",
       "      <td>18</td>\n",
       "      <td>78009148</td>\n",
       "      <td>rs117483780</td>\n",
       "      <td>G</td>\n",
       "      <td>A</td>\n",
       "      <td>.</td>\n",
       "      <td>.</td>\n",
       "      <td>PR</td>\n",
       "      <td>GT</td>\n",
       "    </tr>\n",
       "    <tr>\n",
       "      <th>21960</th>\n",
       "      <td>18</td>\n",
       "      <td>78010620</td>\n",
       "      <td>rs75887571</td>\n",
       "      <td>C</td>\n",
       "      <td>T</td>\n",
       "      <td>.</td>\n",
       "      <td>.</td>\n",
       "      <td>PR</td>\n",
       "      <td>GT</td>\n",
       "    </tr>\n",
       "    <tr>\n",
       "      <th>21961</th>\n",
       "      <td>18</td>\n",
       "      <td>78015180</td>\n",
       "      <td>rs12960632</td>\n",
       "      <td>C</td>\n",
       "      <td>T</td>\n",
       "      <td>.</td>\n",
       "      <td>.</td>\n",
       "      <td>PR</td>\n",
       "      <td>GT</td>\n",
       "    </tr>\n",
       "  </tbody>\n",
       "</table>\n",
       "<p>21962 rows × 9 columns</p>\n",
       "</div>"
      ],
      "text/plain": [
       "       #CHROM       POS             ID                REF ALT QUAL FILTER  \\\n",
       "0          18     11358     rs77459974                  G   A    .      .   \n",
       "1          18     47892  Affx-89018553  CTGCCCCGGCTGGTCAG   C    .      .   \n",
       "2          18     48630     rs56260713                  G   C    .      .   \n",
       "3          18     48951  Affx-89015884              TTGTC   T    .      .   \n",
       "4          18     49056  Affx-89020160                 TG   T    .      .   \n",
       "...       ...       ...            ...                ...  ..  ...    ...   \n",
       "21957      18  78005160  Affx-80259243                  C   T    .      .   \n",
       "21958      18  78007784     rs12970236                  C   T    .      .   \n",
       "21959      18  78009148    rs117483780                  G   A    .      .   \n",
       "21960      18  78010620     rs75887571                  C   T    .      .   \n",
       "21961      18  78015180     rs12960632                  C   T    .      .   \n",
       "\n",
       "      INFO FORMAT  \n",
       "0       PR     GT  \n",
       "1       PR     GT  \n",
       "2       PR     GT  \n",
       "3       PR     GT  \n",
       "4       PR     GT  \n",
       "...    ...    ...  \n",
       "21957   PR     GT  \n",
       "21958   PR     GT  \n",
       "21959   PR     GT  \n",
       "21960   PR     GT  \n",
       "21961   PR     GT  \n",
       "\n",
       "[21962 rows x 9 columns]"
      ]
     },
     "execution_count": 75,
     "metadata": {},
     "output_type": "execute_result"
    }
   ],
   "source": [
    "pd.read_csv(f'../biobank_snps_chr18.vcf', sep='\\t')"
   ]
  },
  {
   "cell_type": "code",
   "execution_count": 8,
   "id": "7cb026e8-262e-40f6-912e-03ac274f7a68",
   "metadata": {},
   "outputs": [
    {
     "data": {
      "text/html": [
       "<div>\n",
       "<style scoped>\n",
       "    .dataframe tbody tr th:only-of-type {\n",
       "        vertical-align: middle;\n",
       "    }\n",
       "\n",
       "    .dataframe tbody tr th {\n",
       "        vertical-align: top;\n",
       "    }\n",
       "\n",
       "    .dataframe thead th {\n",
       "        text-align: right;\n",
       "    }\n",
       "</style>\n",
       "<table border=\"1\" class=\"dataframe\">\n",
       "  <thead>\n",
       "    <tr style=\"text-align: right;\">\n",
       "      <th></th>\n",
       "      <th>#CHROM</th>\n",
       "      <th>POS</th>\n",
       "      <th>ID</th>\n",
       "      <th>REF</th>\n",
       "      <th>ALT</th>\n",
       "      <th>QUAL</th>\n",
       "      <th>FILTER</th>\n",
       "      <th>INFO</th>\n",
       "      <th>FORMAT</th>\n",
       "    </tr>\n",
       "  </thead>\n",
       "  <tbody>\n",
       "    <tr>\n",
       "      <th>36642</th>\n",
       "      <td>1</td>\n",
       "      <td>156341494</td>\n",
       "      <td>rs7525133</td>\n",
       "      <td>G</td>\n",
       "      <td>A</td>\n",
       "      <td>.</td>\n",
       "      <td>.</td>\n",
       "      <td>PR</td>\n",
       "      <td>GT</td>\n",
       "    </tr>\n",
       "    <tr>\n",
       "      <th>36995</th>\n",
       "      <td>1</td>\n",
       "      <td>157062739</td>\n",
       "      <td>rs12136960</td>\n",
       "      <td>C</td>\n",
       "      <td>G</td>\n",
       "      <td>.</td>\n",
       "      <td>.</td>\n",
       "      <td>PR</td>\n",
       "      <td>GT</td>\n",
       "    </tr>\n",
       "    <tr>\n",
       "      <th>37040</th>\n",
       "      <td>1</td>\n",
       "      <td>157210709</td>\n",
       "      <td>rs6672275</td>\n",
       "      <td>G</td>\n",
       "      <td>A</td>\n",
       "      <td>.</td>\n",
       "      <td>.</td>\n",
       "      <td>PR</td>\n",
       "      <td>GT</td>\n",
       "    </tr>\n",
       "    <tr>\n",
       "      <th>37089</th>\n",
       "      <td>1</td>\n",
       "      <td>157375579</td>\n",
       "      <td>rs4483398</td>\n",
       "      <td>A</td>\n",
       "      <td>C</td>\n",
       "      <td>.</td>\n",
       "      <td>.</td>\n",
       "      <td>PR</td>\n",
       "      <td>GT</td>\n",
       "    </tr>\n",
       "    <tr>\n",
       "      <th>40638</th>\n",
       "      <td>1</td>\n",
       "      <td>167845787</td>\n",
       "      <td>rs6427113</td>\n",
       "      <td>T</td>\n",
       "      <td>C</td>\n",
       "      <td>.</td>\n",
       "      <td>.</td>\n",
       "      <td>PR</td>\n",
       "      <td>GT</td>\n",
       "    </tr>\n",
       "    <tr>\n",
       "      <th>1897</th>\n",
       "      <td>4</td>\n",
       "      <td>4990298</td>\n",
       "      <td>rs4450871</td>\n",
       "      <td>A</td>\n",
       "      <td>G</td>\n",
       "      <td>.</td>\n",
       "      <td>.</td>\n",
       "      <td>PR</td>\n",
       "      <td>GT</td>\n",
       "    </tr>\n",
       "    <tr>\n",
       "      <th>3070</th>\n",
       "      <td>4</td>\n",
       "      <td>6893308</td>\n",
       "      <td>rs9992789</td>\n",
       "      <td>A</td>\n",
       "      <td>C</td>\n",
       "      <td>.</td>\n",
       "      <td>.</td>\n",
       "      <td>PR</td>\n",
       "      <td>GT</td>\n",
       "    </tr>\n",
       "    <tr>\n",
       "      <th>3249</th>\n",
       "      <td>4</td>\n",
       "      <td>7219933</td>\n",
       "      <td>rs4234798</td>\n",
       "      <td>G</td>\n",
       "      <td>T</td>\n",
       "      <td>.</td>\n",
       "      <td>.</td>\n",
       "      <td>PR</td>\n",
       "      <td>GT</td>\n",
       "    </tr>\n",
       "    <tr>\n",
       "      <th>12424</th>\n",
       "      <td>6</td>\n",
       "      <td>30029109</td>\n",
       "      <td>rs7770557</td>\n",
       "      <td>C</td>\n",
       "      <td>G</td>\n",
       "      <td>.</td>\n",
       "      <td>.</td>\n",
       "      <td>PR</td>\n",
       "      <td>GT</td>\n",
       "    </tr>\n",
       "    <tr>\n",
       "      <th>13378</th>\n",
       "      <td>6</td>\n",
       "      <td>30685547</td>\n",
       "      <td>rs115321330</td>\n",
       "      <td>G</td>\n",
       "      <td>T</td>\n",
       "      <td>.</td>\n",
       "      <td>.</td>\n",
       "      <td>PR</td>\n",
       "      <td>GT</td>\n",
       "    </tr>\n",
       "    <tr>\n",
       "      <th>13542</th>\n",
       "      <td>6</td>\n",
       "      <td>30756066</td>\n",
       "      <td>rs13201769</td>\n",
       "      <td>G</td>\n",
       "      <td>A</td>\n",
       "      <td>.</td>\n",
       "      <td>.</td>\n",
       "      <td>PR</td>\n",
       "      <td>GT</td>\n",
       "    </tr>\n",
       "    <tr>\n",
       "      <th>13547</th>\n",
       "      <td>6</td>\n",
       "      <td>30757575</td>\n",
       "      <td>rs10947095</td>\n",
       "      <td>C</td>\n",
       "      <td>T</td>\n",
       "      <td>.</td>\n",
       "      <td>.</td>\n",
       "      <td>PR</td>\n",
       "      <td>GT</td>\n",
       "    </tr>\n",
       "    <tr>\n",
       "      <th>14660</th>\n",
       "      <td>6</td>\n",
       "      <td>31177094</td>\n",
       "      <td>rs3130953</td>\n",
       "      <td>G</td>\n",
       "      <td>A</td>\n",
       "      <td>.</td>\n",
       "      <td>.</td>\n",
       "      <td>PR</td>\n",
       "      <td>GT</td>\n",
       "    </tr>\n",
       "    <tr>\n",
       "      <th>4314</th>\n",
       "      <td>8</td>\n",
       "      <td>8935247</td>\n",
       "      <td>rs2979243</td>\n",
       "      <td>T</td>\n",
       "      <td>C</td>\n",
       "      <td>.</td>\n",
       "      <td>.</td>\n",
       "      <td>PR</td>\n",
       "      <td>GT</td>\n",
       "    </tr>\n",
       "    <tr>\n",
       "      <th>1405</th>\n",
       "      <td>9</td>\n",
       "      <td>3177564</td>\n",
       "      <td>rs7021876</td>\n",
       "      <td>C</td>\n",
       "      <td>T</td>\n",
       "      <td>.</td>\n",
       "      <td>.</td>\n",
       "      <td>PR</td>\n",
       "      <td>GT</td>\n",
       "    </tr>\n",
       "    <tr>\n",
       "      <th>32164</th>\n",
       "      <td>9</td>\n",
       "      <td>137122570</td>\n",
       "      <td>rs10785875</td>\n",
       "      <td>T</td>\n",
       "      <td>C</td>\n",
       "      <td>.</td>\n",
       "      <td>.</td>\n",
       "      <td>PR</td>\n",
       "      <td>GT</td>\n",
       "    </tr>\n",
       "    <tr>\n",
       "      <th>3391</th>\n",
       "      <td>13</td>\n",
       "      <td>28561704</td>\n",
       "      <td>rs77919548</td>\n",
       "      <td>A</td>\n",
       "      <td>C</td>\n",
       "      <td>.</td>\n",
       "      <td>.</td>\n",
       "      <td>PR</td>\n",
       "      <td>GT</td>\n",
       "    </tr>\n",
       "    <tr>\n",
       "      <th>5707</th>\n",
       "      <td>18</td>\n",
       "      <td>20002944</td>\n",
       "      <td>rs1893250</td>\n",
       "      <td>C</td>\n",
       "      <td>A</td>\n",
       "      <td>.</td>\n",
       "      <td>.</td>\n",
       "      <td>PR</td>\n",
       "      <td>GT</td>\n",
       "    </tr>\n",
       "    <tr>\n",
       "      <th>6232</th>\n",
       "      <td>18</td>\n",
       "      <td>21778628</td>\n",
       "      <td>rs28683728</td>\n",
       "      <td>C</td>\n",
       "      <td>T</td>\n",
       "      <td>.</td>\n",
       "      <td>.</td>\n",
       "      <td>PR</td>\n",
       "      <td>GT</td>\n",
       "    </tr>\n",
       "    <tr>\n",
       "      <th>11287</th>\n",
       "      <td>18</td>\n",
       "      <td>43911545</td>\n",
       "      <td>rs72907334</td>\n",
       "      <td>T</td>\n",
       "      <td>C</td>\n",
       "      <td>.</td>\n",
       "      <td>.</td>\n",
       "      <td>PR</td>\n",
       "      <td>GT</td>\n",
       "    </tr>\n",
       "  </tbody>\n",
       "</table>\n",
       "</div>"
      ],
      "text/plain": [
       "       #CHROM        POS           ID REF ALT QUAL FILTER INFO FORMAT\n",
       "36642       1  156341494    rs7525133   G   A    .      .   PR     GT\n",
       "36995       1  157062739   rs12136960   C   G    .      .   PR     GT\n",
       "37040       1  157210709    rs6672275   G   A    .      .   PR     GT\n",
       "37089       1  157375579    rs4483398   A   C    .      .   PR     GT\n",
       "40638       1  167845787    rs6427113   T   C    .      .   PR     GT\n",
       "1897        4    4990298    rs4450871   A   G    .      .   PR     GT\n",
       "3070        4    6893308    rs9992789   A   C    .      .   PR     GT\n",
       "3249        4    7219933    rs4234798   G   T    .      .   PR     GT\n",
       "12424       6   30029109    rs7770557   C   G    .      .   PR     GT\n",
       "13378       6   30685547  rs115321330   G   T    .      .   PR     GT\n",
       "13542       6   30756066   rs13201769   G   A    .      .   PR     GT\n",
       "13547       6   30757575   rs10947095   C   T    .      .   PR     GT\n",
       "14660       6   31177094    rs3130953   G   A    .      .   PR     GT\n",
       "4314        8    8935247    rs2979243   T   C    .      .   PR     GT\n",
       "1405        9    3177564    rs7021876   C   T    .      .   PR     GT\n",
       "32164       9  137122570   rs10785875   T   C    .      .   PR     GT\n",
       "3391       13   28561704   rs77919548   A   C    .      .   PR     GT\n",
       "5707       18   20002944    rs1893250   C   A    .      .   PR     GT\n",
       "6232       18   21778628   rs28683728   C   T    .      .   PR     GT\n",
       "11287      18   43911545   rs72907334   T   C    .      .   PR     GT"
      ]
     },
     "execution_count": 8,
     "metadata": {},
     "output_type": "execute_result"
    }
   ],
   "source": [
    "a = pd.DataFrame()\n",
    "snps = pd.read_csv(f'../asbs_near_eqtls/w{2048000}_p0.05_woheaders.txt', sep='\\t', header=None)[3].values\n",
    "#print(set(snps) & set(all_biobank_snps))\n",
    "for ch in chroms:\n",
    "    df = pd.read_csv(f'../biobank_snps_chr{ch}.vcf', sep='\\t')\n",
    "    #[i for i in df['ID'].values if i in ['rs17257408', 'rs13064699']]\n",
    "    #print([i for i in df['ID'].values if i in snps])\n",
    "    for i, row in df.iterrows():\n",
    "        #print(df.iloc[i:i+1, :])\n",
    "        #break\n",
    "        if row['ID'] in snps:\n",
    "            a = pd.concat([a, df.iloc[i:i+1, :]])\n",
    "a"
   ]
  },
  {
   "cell_type": "code",
   "execution_count": 17,
   "id": "179838ef-9965-41f9-916c-acf0434380e5",
   "metadata": {},
   "outputs": [],
   "source": [
    "r = pd.read_csv(\n",
    "    '../ukbiobank_link/raw_data/ukb22418_c18_b0_v2.vcf', \n",
    "    #'../ukb22418_cMT_b0_v2-copy.vcf', \n",
    "    skiprows=lambda x: x not in [6, 5713, 5714, 5715, 6238, 6239, 6240,11285, 11286,11287,11288,11289,11290,11291,11292, 11293, 11294, 11295, 11296,11297, 11298,11299], \n",
    "    #usecols=first_cols ,#+ healthy_cols + diabetes_cols,\n",
    "    usecols=['ID'],\n",
    "    sep='\\t',\n",
    "    chunksize=50,\n",
    "    dtype={'ID': str},\n",
    ")"
   ]
  },
  {
   "cell_type": "code",
   "execution_count": null,
   "id": "8c3fb785-7760-4d6d-99c4-4f764bcd1581",
   "metadata": {},
   "outputs": [],
   "source": [
    "tqdm()"
   ]
  },
  {
   "cell_type": "code",
   "execution_count": 18,
   "id": "b9c442e7-8814-4a49-86aa-573042d5748f",
   "metadata": {},
   "outputs": [],
   "source": [
    "a = next(r)\n"
   ]
  },
  {
   "cell_type": "code",
   "execution_count": 19,
   "id": "26ed1fc6-4073-4d32-a61b-d74a19fd3111",
   "metadata": {},
   "outputs": [
    {
     "data": {
      "text/html": [
       "<div>\n",
       "<style scoped>\n",
       "    .dataframe tbody tr th:only-of-type {\n",
       "        vertical-align: middle;\n",
       "    }\n",
       "\n",
       "    .dataframe tbody tr th {\n",
       "        vertical-align: top;\n",
       "    }\n",
       "\n",
       "    .dataframe thead th {\n",
       "        text-align: right;\n",
       "    }\n",
       "</style>\n",
       "<table border=\"1\" class=\"dataframe\">\n",
       "  <thead>\n",
       "    <tr style=\"text-align: right;\">\n",
       "      <th></th>\n",
       "      <th>ID</th>\n",
       "    </tr>\n",
       "  </thead>\n",
       "  <tbody>\n",
       "    <tr>\n",
       "      <th>0</th>\n",
       "      <td>rs117622637</td>\n",
       "    </tr>\n",
       "    <tr>\n",
       "      <th>1</th>\n",
       "      <td>rs1893250</td>\n",
       "    </tr>\n",
       "    <tr>\n",
       "      <th>2</th>\n",
       "      <td>rs948383</td>\n",
       "    </tr>\n",
       "    <tr>\n",
       "      <th>3</th>\n",
       "      <td>rs11659802</td>\n",
       "    </tr>\n",
       "    <tr>\n",
       "      <th>4</th>\n",
       "      <td>rs28683728</td>\n",
       "    </tr>\n",
       "    <tr>\n",
       "      <th>5</th>\n",
       "      <td>rs75266721</td>\n",
       "    </tr>\n",
       "    <tr>\n",
       "      <th>6</th>\n",
       "      <td>rs4890637</td>\n",
       "    </tr>\n",
       "    <tr>\n",
       "      <th>7</th>\n",
       "      <td>rs16978537</td>\n",
       "    </tr>\n",
       "    <tr>\n",
       "      <th>8</th>\n",
       "      <td>rs78526649</td>\n",
       "    </tr>\n",
       "    <tr>\n",
       "      <th>9</th>\n",
       "      <td>rs7230860</td>\n",
       "    </tr>\n",
       "    <tr>\n",
       "      <th>10</th>\n",
       "      <td>rs67667594</td>\n",
       "    </tr>\n",
       "    <tr>\n",
       "      <th>11</th>\n",
       "      <td>rs10775481</td>\n",
       "    </tr>\n",
       "    <tr>\n",
       "      <th>12</th>\n",
       "      <td>rs79199172</td>\n",
       "    </tr>\n",
       "    <tr>\n",
       "      <th>13</th>\n",
       "      <td>rs112799419</td>\n",
       "    </tr>\n",
       "    <tr>\n",
       "      <th>14</th>\n",
       "      <td>rs62095675</td>\n",
       "    </tr>\n",
       "    <tr>\n",
       "      <th>15</th>\n",
       "      <td>rs72907334</td>\n",
       "    </tr>\n",
       "    <tr>\n",
       "      <th>16</th>\n",
       "      <td>rs11082522</td>\n",
       "    </tr>\n",
       "    <tr>\n",
       "      <th>17</th>\n",
       "      <td>rs920781</td>\n",
       "    </tr>\n",
       "    <tr>\n",
       "      <th>18</th>\n",
       "      <td>rs78637469</td>\n",
       "    </tr>\n",
       "    <tr>\n",
       "      <th>19</th>\n",
       "      <td>rs117750034</td>\n",
       "    </tr>\n",
       "    <tr>\n",
       "      <th>20</th>\n",
       "      <td>rs8099095</td>\n",
       "    </tr>\n",
       "  </tbody>\n",
       "</table>\n",
       "</div>"
      ],
      "text/plain": [
       "             ID\n",
       "0   rs117622637\n",
       "1     rs1893250\n",
       "2      rs948383\n",
       "3    rs11659802\n",
       "4    rs28683728\n",
       "5    rs75266721\n",
       "6     rs4890637\n",
       "7    rs16978537\n",
       "8    rs78526649\n",
       "9     rs7230860\n",
       "10   rs67667594\n",
       "11   rs10775481\n",
       "12   rs79199172\n",
       "13  rs112799419\n",
       "14   rs62095675\n",
       "15   rs72907334\n",
       "16   rs11082522\n",
       "17     rs920781\n",
       "18   rs78637469\n",
       "19  rs117750034\n",
       "20    rs8099095"
      ]
     },
     "execution_count": 19,
     "metadata": {},
     "output_type": "execute_result"
    }
   ],
   "source": [
    "a"
   ]
  },
  {
   "cell_type": "code",
   "execution_count": 17,
   "id": "28a85bb2-7367-414b-a251-87043114f062",
   "metadata": {},
   "outputs": [
    {
     "name": "stdout",
     "output_type": "stream",
     "text": [
      "all_E11.csv\t\tbiobank_snps_chr3.vcf\n",
      "asbs_near_eqtls\t\tbiobank_snps_chr4.vcf\n",
      "biobank_snps_chr10.vcf\tbiobank_snps_chr5.vcf\n",
      "biobank_snps_chr11.vcf\tbiobank_snps_chr6.vcf\n",
      "biobank_snps_chr12.vcf\tbiobank_snps_chr7.vcf\n",
      "biobank_snps_chr13.vcf\tbiobank_snps_chr8.vcf\n",
      "biobank_snps_chr14.vcf\tbiobank_snps_chr9.vcf\n",
      "biobank_snps_chr15.vcf\tbiobank_snps_chrMT.vcf\n",
      "biobank_snps_chr16.vcf\tbiobank_snps_chrX.vcf\n",
      "biobank_snps_chr17.vcf\tbiobank_snps_chrXY.vcf\n",
      "biobank_snps_chr18.vcf\tbiobank_snps_chrY.vcf\n",
      "biobank_snps_chr19.vcf\tminiconda3\n",
      "biobank_snps_chr1.vcf\tMiniconda3-latest-Linux-x86_64.sh\n",
      "biobank_snps_chr20.vcf\tpy-notebooks\n",
      "biobank_snps_chr21.vcf\ttrimmed.vcf\n",
      "biobank_snps_chr22.vcf\tukb22418_cMT_b0_v2-copy.vcf\n",
      "biobank_snps_chr2.vcf\tvcf_line.vcf\n"
     ]
    }
   ],
   "source": [
    "!ls ../"
   ]
  },
  {
   "cell_type": "markdown",
   "id": "8948525e-7067-43e9-ac9f-d0ea251e4334",
   "metadata": {},
   "source": [
    "##### Extracting SNPs from biobank with PLINK"
   ]
  },
  {
   "cell_type": "code",
   "execution_count": null,
   "id": "10089fd8-7114-4afb-b4f5-7637666f3e15",
   "metadata": {},
   "outputs": [],
   "source": []
  },
  {
   "cell_type": "markdown",
   "id": "4f0fedca-eaf6-486c-8aa2-29f0abd28fb3",
   "metadata": {},
   "source": [
    "## Logistic Regression"
   ]
  },
  {
   "cell_type": "code",
   "execution_count": 39,
   "id": "45c27320-c619-4d09-bd35-e7d43f4089c0",
   "metadata": {},
   "outputs": [],
   "source": [
    "#import sklearn"
   ]
  },
  {
   "cell_type": "code",
   "execution_count": 19,
   "id": "4927ff80-2a77-46ee-b028-c015ac8bdd56",
   "metadata": {},
   "outputs": [],
   "source": [
    "from sklearn.linear_model import LogisticRegression  #other?\n",
    "from sklearn.model_selection import train_test_split\n",
    "from sklearn.metrics import roc_auc_score, RocCurveDisplay"
   ]
  },
  {
   "cell_type": "code",
   "execution_count": 20,
   "id": "45a936d3-c8e7-4bd8-96f7-d80dd58c19fe",
   "metadata": {},
   "outputs": [],
   "source": [
    "Xs = {}\n",
    "for wsize, df in variants_dfs.items():\n",
    "    #print(wsize)\n",
    "    #pass\n",
    "    Xs[wsize] = variants_dfs[wsize].set_index(variants_dfs[wsize]['ID'].values).drop(columns=first_cols).T\n",
    "    Xs[wsize] = pd.get_dummies(Xs[wsize])"
   ]
  },
  {
   "cell_type": "code",
   "execution_count": 24,
   "id": "b670606f-0819-47ef-b5f6-6dd9714ddebb",
   "metadata": {},
   "outputs": [
    {
     "data": {
      "text/html": [
       "<div>\n",
       "<style scoped>\n",
       "    .dataframe tbody tr th:only-of-type {\n",
       "        vertical-align: middle;\n",
       "    }\n",
       "\n",
       "    .dataframe tbody tr th {\n",
       "        vertical-align: top;\n",
       "    }\n",
       "\n",
       "    .dataframe thead th {\n",
       "        text-align: right;\n",
       "    }\n",
       "</style>\n",
       "<table border=\"1\" class=\"dataframe\">\n",
       "  <thead>\n",
       "    <tr style=\"text-align: right;\">\n",
       "      <th></th>\n",
       "      <th>rs7770557_./.</th>\n",
       "      <th>rs7770557_0/0</th>\n",
       "      <th>rs7770557_0/1</th>\n",
       "      <th>rs7770557_1/1</th>\n",
       "    </tr>\n",
       "  </thead>\n",
       "  <tbody>\n",
       "    <tr>\n",
       "      <th>2658515_2658515</th>\n",
       "      <td>0</td>\n",
       "      <td>1</td>\n",
       "      <td>0</td>\n",
       "      <td>0</td>\n",
       "    </tr>\n",
       "    <tr>\n",
       "      <th>5418788_5418788</th>\n",
       "      <td>0</td>\n",
       "      <td>1</td>\n",
       "      <td>0</td>\n",
       "      <td>0</td>\n",
       "    </tr>\n",
       "    <tr>\n",
       "      <th>1410704_1410704</th>\n",
       "      <td>0</td>\n",
       "      <td>1</td>\n",
       "      <td>0</td>\n",
       "      <td>0</td>\n",
       "    </tr>\n",
       "    <tr>\n",
       "      <th>5678089_5678089</th>\n",
       "      <td>0</td>\n",
       "      <td>1</td>\n",
       "      <td>0</td>\n",
       "      <td>0</td>\n",
       "    </tr>\n",
       "    <tr>\n",
       "      <th>1863781_1863781</th>\n",
       "      <td>0</td>\n",
       "      <td>1</td>\n",
       "      <td>0</td>\n",
       "      <td>0</td>\n",
       "    </tr>\n",
       "    <tr>\n",
       "      <th>...</th>\n",
       "      <td>...</td>\n",
       "      <td>...</td>\n",
       "      <td>...</td>\n",
       "      <td>...</td>\n",
       "    </tr>\n",
       "    <tr>\n",
       "      <th>2631746_2631746</th>\n",
       "      <td>0</td>\n",
       "      <td>1</td>\n",
       "      <td>0</td>\n",
       "      <td>0</td>\n",
       "    </tr>\n",
       "    <tr>\n",
       "      <th>3331715_3331715</th>\n",
       "      <td>0</td>\n",
       "      <td>1</td>\n",
       "      <td>0</td>\n",
       "      <td>0</td>\n",
       "    </tr>\n",
       "    <tr>\n",
       "      <th>1874054_1874054</th>\n",
       "      <td>0</td>\n",
       "      <td>1</td>\n",
       "      <td>0</td>\n",
       "      <td>0</td>\n",
       "    </tr>\n",
       "    <tr>\n",
       "      <th>5028626_5028626</th>\n",
       "      <td>0</td>\n",
       "      <td>1</td>\n",
       "      <td>0</td>\n",
       "      <td>0</td>\n",
       "    </tr>\n",
       "    <tr>\n",
       "      <th>4913903_4913903</th>\n",
       "      <td>0</td>\n",
       "      <td>0</td>\n",
       "      <td>1</td>\n",
       "      <td>0</td>\n",
       "    </tr>\n",
       "  </tbody>\n",
       "</table>\n",
       "<p>75204 rows × 4 columns</p>\n",
       "</div>"
      ],
      "text/plain": [
       "                 rs7770557_./.  rs7770557_0/0  rs7770557_0/1  rs7770557_1/1\n",
       "2658515_2658515              0              1              0              0\n",
       "5418788_5418788              0              1              0              0\n",
       "1410704_1410704              0              1              0              0\n",
       "5678089_5678089              0              1              0              0\n",
       "1863781_1863781              0              1              0              0\n",
       "...                        ...            ...            ...            ...\n",
       "2631746_2631746              0              1              0              0\n",
       "3331715_3331715              0              1              0              0\n",
       "1874054_1874054              0              1              0              0\n",
       "5028626_5028626              0              1              0              0\n",
       "4913903_4913903              0              0              1              0\n",
       "\n",
       "[75204 rows x 4 columns]"
      ]
     },
     "execution_count": 24,
     "metadata": {},
     "output_type": "execute_result"
    }
   ],
   "source": [
    "Xs[2000]"
   ]
  },
  {
   "cell_type": "code",
   "execution_count": 27,
   "id": "cad40f11-df4d-4dc1-96fc-6c205a52a911",
   "metadata": {},
   "outputs": [
    {
     "data": {
      "text/plain": [
       "<bound method RocCurveDisplay.from_predictions of <class 'sklearn.metrics._plot.roc_curve.RocCurveDisplay'>>"
      ]
     },
     "execution_count": 27,
     "metadata": {},
     "output_type": "execute_result"
    }
   ],
   "source": [
    "RocCurveDisplay.from_predictions"
   ]
  },
  {
   "cell_type": "code",
   "execution_count": 82,
   "id": "4c7c0cf8-de45-48ec-8e58-ffa094aa11a5",
   "metadata": {},
   "outputs": [
    {
     "name": "stdout",
     "output_type": "stream",
     "text": [
      "w2048000: rocauc = 0.5216\n"
     ]
    }
   ],
   "source": [
    "wsize=2048000  #16384000 #8192000 \n",
    "\n",
    "logreg = LogisticRegression(max_iter=250)\n",
    "\n",
    "X = Xs[wsize]\n",
    "y = [int(i in diabetes_cols) for i in X.index.values]\n",
    "\n",
    "X_train, X_test, y_train, y_test = train_test_split(X, y, test_size=0.25)\n",
    "logreg.fit(X_train, y_train)\n",
    "y_pred = logreg.predict_proba(X_test)[:, 1]\n",
    "rocauc = roc_auc_score(y_test, y_pred)\n",
    "print(f\"w{wsize}: rocauc = {rocauc:.4f}\")"
   ]
  },
  {
   "cell_type": "code",
   "execution_count": 83,
   "id": "23476450-777f-49e5-b0c5-39984e996b26",
   "metadata": {},
   "outputs": [
    {
     "data": {
      "image/png": "[encoded data removed]",
      "text/plain": [
       "<Figure size 720x720 with 1 Axes>"
      ]
     },
     "metadata": {
      "needs_background": "light"
     },
     "output_type": "display_data"
    }
   ],
   "source": [
    "plt.figure(figsize=(10,10))\n",
    "ax = plt.axes()\n",
    "plt.plot([0, 1], [0, 1], ls='--', lw=1, c='k')\n",
    "\n",
    "RocCurveDisplay.from_predictions(y_test, y_pred, ax=ax)\n",
    "ax.legend(['random predictions', f'wsize={wsize}, AUC={rocauc:.3f}'])\n",
    "\n",
    "plt.xlim([-0.01, 1.01])\n",
    "plt.ylim([-0.01, 1.01])\n",
    "plt.savefig('roc_curve_example.png')"
   ]
  },
  {
   "cell_type": "code",
   "execution_count": 21,
   "id": "c9c08c1f-2044-4370-8c5f-d9487ac36e75",
   "metadata": {},
   "outputs": [
    {
     "ename": "KeyboardInterrupt",
     "evalue": "",
     "output_type": "error",
     "traceback": [
      "\u001b[0;31m---------------------------------------------------------------------------\u001b[0m",
      "\u001b[0;31mKeyboardInterrupt\u001b[0m                         Traceback (most recent call last)",
      "Input \u001b[0;32mIn [21]\u001b[0m, in \u001b[0;36m<cell line: 6>\u001b[0;34m()\u001b[0m\n\u001b[1;32m      7\u001b[0m logreg \u001b[38;5;241m=\u001b[39m LogisticRegression(max_iter\u001b[38;5;241m=\u001b[39m\u001b[38;5;241m250\u001b[39m)\n\u001b[1;32m      9\u001b[0m X \u001b[38;5;241m=\u001b[39m Xs[wsize]\n\u001b[0;32m---> 10\u001b[0m y \u001b[38;5;241m=\u001b[39m [\u001b[38;5;28mint\u001b[39m(i \u001b[38;5;129;01min\u001b[39;00m diabetes_cols) \u001b[38;5;28;01mfor\u001b[39;00m i \u001b[38;5;129;01min\u001b[39;00m X\u001b[38;5;241m.\u001b[39mindex\u001b[38;5;241m.\u001b[39mvalues]\n\u001b[1;32m     12\u001b[0m X_train, X_test, y_train, y_test \u001b[38;5;241m=\u001b[39m train_test_split(X, y, test_size\u001b[38;5;241m=\u001b[39m\u001b[38;5;241m0.25\u001b[39m)\n\u001b[1;32m     13\u001b[0m logreg\u001b[38;5;241m.\u001b[39mfit(X_train, y_train)\n",
      "Input \u001b[0;32mIn [21]\u001b[0m, in \u001b[0;36m<listcomp>\u001b[0;34m(.0)\u001b[0m\n\u001b[1;32m      7\u001b[0m logreg \u001b[38;5;241m=\u001b[39m LogisticRegression(max_iter\u001b[38;5;241m=\u001b[39m\u001b[38;5;241m250\u001b[39m)\n\u001b[1;32m      9\u001b[0m X \u001b[38;5;241m=\u001b[39m Xs[wsize]\n\u001b[0;32m---> 10\u001b[0m y \u001b[38;5;241m=\u001b[39m [\u001b[38;5;28;43mint\u001b[39;49m\u001b[43m(\u001b[49m\u001b[43mi\u001b[49m\u001b[43m \u001b[49m\u001b[38;5;129;43;01min\u001b[39;49;00m\u001b[43m \u001b[49m\u001b[43mdiabetes_cols\u001b[49m\u001b[43m)\u001b[49m \u001b[38;5;28;01mfor\u001b[39;00m i \u001b[38;5;129;01min\u001b[39;00m X\u001b[38;5;241m.\u001b[39mindex\u001b[38;5;241m.\u001b[39mvalues]\n\u001b[1;32m     12\u001b[0m X_train, X_test, y_train, y_test \u001b[38;5;241m=\u001b[39m train_test_split(X, y, test_size\u001b[38;5;241m=\u001b[39m\u001b[38;5;241m0.25\u001b[39m)\n\u001b[1;32m     13\u001b[0m logreg\u001b[38;5;241m.\u001b[39mfit(X_train, y_train)\n",
      "\u001b[0;31mKeyboardInterrupt\u001b[0m: "
     ]
    },
    {
     "data": {
      "image/png": "[encoded data removed]",
      "text/plain": [
       "<Figure size 720x720 with 1 Axes>"
      ]
     },
     "metadata": {
      "needs_background": "light"
     },
     "output_type": "display_data"
    }
   ],
   "source": [
    "plt.figure(figsize=(10,10))\n",
    "ax = plt.axes()\n",
    "plt.plot([0, 1], [0, 1], ls='--', lw=1, c='k')\n",
    "\n",
    "rocaucs = []\n",
    "for wsize in window_sizes:\n",
    "    logreg = LogisticRegression(max_iter=250)\n",
    "    \n",
    "    X = Xs[wsize]\n",
    "    y = [int(i in diabetes_cols) for i in X.index.values]\n",
    "    \n",
    "    X_train, X_test, y_train, y_test = train_test_split(X, y, test_size=0.25)\n",
    "    logreg.fit(X_train, y_train)\n",
    "    rocauc = roc_auc_score(y_test, logreg.predict_proba(X_test)[:, 1])\n",
    "    rocaucs.append(rocauc)\n",
    "    print(f\"w{wsize}: rocauc = {rocauc:.4f}\")\n",
    "    RocCurveDisplay.from_predictions(y_test, y_pred, ax=ax)\n",
    "legend = ['random predictions'] + [f'wsize={wsize}, AUC={rocauc:.3f}' for wsize, rocauc in zip(window_sizes, rocaucs)]\n",
    "ax.legend(legend)\n",
    "\n",
    "plt.xlim([-0.01, 1.01])\n",
    "plt.ylim([-0.01, 1.01])\n",
    "plt.show()"
   ]
  },
  {
   "cell_type": "code",
   "execution_count": 28,
   "id": "37c59863-ec22-424e-9bef-09ccfdd68560",
   "metadata": {},
   "outputs": [
    {
     "data": {
      "text/plain": [
       "3.0"
      ]
     },
     "execution_count": 28,
     "metadata": {},
     "output_type": "execute_result"
    }
   ],
   "source": [
    "np.mean([3])"
   ]
  },
  {
   "cell_type": "code",
   "execution_count": 69,
   "id": "a4c10e54-3f5f-413f-8c40-1a4e927f74d0",
   "metadata": {},
   "outputs": [
    {
     "name": "stdout",
     "output_type": "stream",
     "text": [
      ".........................\n",
      "w500: rocauc = 0.5087 +- 0.0022\n",
      ".........................\n",
      "w1000: rocauc = 0.5077 +- 0.0020\n",
      ".........................\n",
      "w2000: rocauc = 0.5082 +- 0.0025\n",
      ".........................\n",
      "w4000: rocauc = 0.5082 +- 0.0020\n",
      ".........................\n",
      "w8000: rocauc = 0.5080 +- 0.0026\n",
      ".........................\n",
      "w16000: rocauc = 0.5075 +- 0.0021\n",
      ".........................\n",
      "w32000: rocauc = 0.5078 +- 0.0022\n",
      ".........................\n",
      "w64000: rocauc = 0.5123 +- 0.0040\n",
      ".........................\n",
      "w128000: rocauc = 0.5218 +- 0.0029\n",
      ".........................\n",
      "w256000: rocauc = 0.5235 +- 0.0028\n",
      ".........................\n",
      "w512000: rocauc = 0.5226 +- 0.0037\n",
      ".........................\n",
      "w1024000: rocauc = 0.5252 +- 0.0035\n",
      ".........................\n",
      "w2048000: rocauc = 0.5255 +- 0.0041\n",
      ".........................\n",
      "w4096000: rocauc = 0.5272 +- 0.0042\n",
      ".........................\n",
      "w8192000: rocauc = 0.5411 +- 0.0036\n",
      ".........................\n",
      "w16384000: rocauc = 0.5452 +- 0.0038\n"
     ]
    }
   ],
   "source": [
    "rocaucs = {}\n",
    "for wsize in window_sizes:\n",
    "    rocaucs[wsize] = []\n",
    "    for _ in range(25):\n",
    "        healthy_used_eids = random.sample(list(healthy_eids), len(diabetes_used_eids))\n",
    "        healthy_cols = [str(x) + '_' + str(x) for x in healthy_used_eids]\n",
    "        \n",
    "        \n",
    "        \n",
    "        variants_df = variants_dfs_allpatients[wsize][first_cols + healthy_cols + diabetes_cols]\n",
    "            \n",
    "        X = variants_dfs[wsize].set_index(variants_dfs[wsize]['ID'].values).drop(columns=first_cols).T\n",
    "        X = pd.get_dummies(Xs[wsize])\n",
    "        y = [int(i in diabetes_cols) for i in X.index.values]\n",
    "    \n",
    "        \n",
    "        \n",
    "\n",
    "\n",
    "        logreg = LogisticRegression(max_iter=500)\n",
    "        X_train, X_test, y_train, y_test = train_test_split(X, y, test_size=0.25)\n",
    "        logreg.fit(X_train, y_train)\n",
    "        rocauc = roc_auc_score(y_test, logreg.predict_proba(X_test)[:, 1])\n",
    "        rocaucs[wsize].append(rocauc)\n",
    "        \n",
    "        print('.', end='')\n",
    "        \n",
    "    print()\n",
    "    print(f\"w{wsize}: rocauc = {np.mean(rocaucs[wsize]):.4f} +- {np.std(rocaucs[wsize], ddof=1):.4f}\")"
   ]
  },
  {
   "cell_type": "code",
   "execution_count": 76,
   "id": "791e35ee-cfb8-4b6d-87cd-9c703fa60ec3",
   "metadata": {},
   "outputs": [
    {
     "data": {
      "text/plain": [
       "([0.5086560273976479,\n",
       "  0.5077065536174478,\n",
       "  0.5082368127540908,\n",
       "  0.5082326428064842,\n",
       "  0.5080232471291989,\n",
       "  0.507465457578282,\n",
       "  0.5078301668305234,\n",
       "  0.51233389683853,\n",
       "  0.5218336028182177,\n",
       "  0.5235164247155264,\n",
       "  0.5226079840935928,\n",
       "  0.5251798560499024,\n",
       "  0.5254556303794695,\n",
       "  0.5271545225438617,\n",
       "  0.5411215815614677,\n",
       "  0.5451738330657725],\n",
       " [0.0022265043049717664,\n",
       "  0.0019868608208275015,\n",
       "  0.0024602808987920044,\n",
       "  0.001987899112990431,\n",
       "  0.0025849958467311796,\n",
       "  0.0020995765729978294,\n",
       "  0.002180527276660362,\n",
       "  0.004033830451106213,\n",
       "  0.002886557970462429,\n",
       "  0.002814197535000761,\n",
       "  0.0036788999650365682,\n",
       "  0.003451131473002269,\n",
       "  0.0040840740041853405,\n",
       "  0.004234564811232111,\n",
       "  0.003582819134258206,\n",
       "  0.0038089404464142175])"
      ]
     },
     "execution_count": 76,
     "metadata": {},
     "output_type": "execute_result"
    }
   ],
   "source": [
    "means = [np.mean(i) for _, i in rocaucs.items()]\n",
    "stds = [np.std(i, ddof=1) for _, i in rocaucs.items()]\n",
    "means, stds"
   ]
  },
  {
   "cell_type": "code",
   "execution_count": 70,
   "id": "54a2544b-610f-4c0c-a3a5-6346cc760f5c",
   "metadata": {},
   "outputs": [
    {
     "data": {
      "text/plain": [
       "{500: [0.51024448450299,\n",
       "  0.5083827497428003,\n",
       "  0.5059980634824423,\n",
       "  0.5084643764018707,\n",
       "  0.506666739853379,\n",
       "  0.5098455053398403,\n",
       "  0.5087760626086522,\n",
       "  0.5121666279275827,\n",
       "  0.5087246244523748,\n",
       "  0.5071872867137134,\n",
       "  0.5094054903009857,\n",
       "  0.5077962751250676,\n",
       "  0.5120795324503737,\n",
       "  0.5065803919667511,\n",
       "  0.5079497810761531,\n",
       "  0.5059549772524987,\n",
       "  0.5088640090799262,\n",
       "  0.5058599747172267,\n",
       "  0.5083789727676395,\n",
       "  0.5116260599298021,\n",
       "  0.5137800272515425,\n",
       "  0.5074297394446836,\n",
       "  0.5076678063951071,\n",
       "  0.5113277962225417,\n",
       "  0.5052433299352518],\n",
       " 1000: [0.5074042321278873,\n",
       "  0.5094853229689623,\n",
       "  0.5064281192669479,\n",
       "  0.5066247793720533,\n",
       "  0.5105736754375585,\n",
       "  0.5056426350062002,\n",
       "  0.5073366021906788,\n",
       "  0.5075164108961859,\n",
       "  0.5123585866806637,\n",
       "  0.5074279394615108,\n",
       "  0.5085421419389439,\n",
       "  0.5090232771294224,\n",
       "  0.5043667595006811,\n",
       "  0.5096071804349028,\n",
       "  0.5037990219685722,\n",
       "  0.5094520287019738,\n",
       "  0.5090855519476882,\n",
       "  0.5073003537447606,\n",
       "  0.5057096432480298,\n",
       "  0.5068233148499197,\n",
       "  0.509229841499196,\n",
       "  0.5090861166234232,\n",
       "  0.507929104572617,\n",
       "  0.5068380028521088,\n",
       "  0.5050731980153075],\n",
       " 2000: [0.509394513719052,\n",
       "  0.5119860572962402,\n",
       "  0.5044819042365342,\n",
       "  0.5092728073230476,\n",
       "  0.508642345450136,\n",
       "  0.5095553291958653,\n",
       "  0.5109561109600322,\n",
       "  0.5062079214262452,\n",
       "  0.5109405267854927,\n",
       "  0.5075718296004111,\n",
       "  0.5098077798340549,\n",
       "  0.5018855954836058,\n",
       "  0.5045789110198641,\n",
       "  0.5064000486164731,\n",
       "  0.5128854113443998,\n",
       "  0.5088033128164695,\n",
       "  0.506299402703282,\n",
       "  0.5073570934795372,\n",
       "  0.508704448598642,\n",
       "  0.5082932815945327,\n",
       "  0.5083983652712364,\n",
       "  0.5082305002685357,\n",
       "  0.5104355908290311,\n",
       "  0.5066785342850061,\n",
       "  0.508152696714542],\n",
       " 4000: [0.5078584598970953,\n",
       "  0.5044231865773565,\n",
       "  0.5102939052015908,\n",
       "  0.5126918610092125,\n",
       "  0.5100423742432686,\n",
       "  0.5077489571888703,\n",
       "  0.5094455025623463,\n",
       "  0.507541959942382,\n",
       "  0.5071156055720669,\n",
       "  0.5073820268399933,\n",
       "  0.5083408804661597,\n",
       "  0.5061394802237893,\n",
       "  0.5078835940682963,\n",
       "  0.5081593073178435,\n",
       "  0.5126876292275245,\n",
       "  0.5082123475387745,\n",
       "  0.5059254315567302,\n",
       "  0.5091689862561058,\n",
       "  0.5098897895389521,\n",
       "  0.5082778538351354,\n",
       "  0.5090173919065912,\n",
       "  0.5070859529047713,\n",
       "  0.5046001300739624,\n",
       "  0.5078492551915383,\n",
       "  0.5080342010217478],\n",
       " 8000: [0.5085311762266495,\n",
       "  0.5102809293905535,\n",
       "  0.5053499877784919,\n",
       "  0.5069137181349147,\n",
       "  0.5079679413240414,\n",
       "  0.5102132283324209,\n",
       "  0.5057510554190144,\n",
       "  0.5065681189956627,\n",
       "  0.5068142279822778,\n",
       "  0.5123063674500933,\n",
       "  0.5086737771868037,\n",
       "  0.5049545850497182,\n",
       "  0.5057714212683183,\n",
       "  0.5072138894745067,\n",
       "  0.5088038465861174,\n",
       "  0.5106401952732168,\n",
       "  0.5150837610889156,\n",
       "  0.5038310553526615,\n",
       "  0.5059712583119415,\n",
       "  0.5096011230455765,\n",
       "  0.5070582995300277,\n",
       "  0.5064909857143081,\n",
       "  0.5100696772350654,\n",
       "  0.5056147044015233,\n",
       "  0.5101058476771501],\n",
       " 16000: [0.5093283769628956,\n",
       "  0.5065083789842104,\n",
       "  0.5085093899303686,\n",
       "  0.5087872336659551,\n",
       "  0.5070534891370578,\n",
       "  0.5056946005046562,\n",
       "  0.5027162869965403,\n",
       "  0.5077874710980826,\n",
       "  0.5073799727260107,\n",
       "  0.5082724975336379,\n",
       "  0.5069123402109948,\n",
       "  0.5043368974052183,\n",
       "  0.5059505912342325,\n",
       "  0.5099933553785663,\n",
       "  0.5051989666148564,\n",
       "  0.5083280118495102,\n",
       "  0.511182737110121,\n",
       "  0.5056262146156634,\n",
       "  0.5070150494292103,\n",
       "  0.5099617518487999,\n",
       "  0.5068227758857009,\n",
       "  0.5081414512583431,\n",
       "  0.5047233714385295,\n",
       "  0.5105788169159315,\n",
       "  0.5098264107219561],\n",
       " 32000: [0.5077251703562476,\n",
       "  0.5051878873093748,\n",
       "  0.5056886752716607,\n",
       "  0.5093417606123026,\n",
       "  0.5104829978662813,\n",
       "  0.503558229305825,\n",
       "  0.5069771517288411,\n",
       "  0.5094789364136727,\n",
       "  0.509820949611946,\n",
       "  0.5083455731315211,\n",
       "  0.5086322260811303,\n",
       "  0.5104118976173736,\n",
       "  0.5072801143413912,\n",
       "  0.5098807830695686,\n",
       "  0.506918548965016,\n",
       "  0.5070977395185792,\n",
       "  0.5086832180949233,\n",
       "  0.5036509365181397,\n",
       "  0.5088073458675574,\n",
       "  0.5080014621363828,\n",
       "  0.5067373890457378,\n",
       "  0.5122488061992766,\n",
       "  0.5043733807286416,\n",
       "  0.5072197830665607,\n",
       "  0.5092032079051341],\n",
       " 64000: [0.5218127340630706,\n",
       "  0.512226323442161,\n",
       "  0.5194689527289158,\n",
       "  0.5098736956372022,\n",
       "  0.5071129618791165,\n",
       "  0.5064767852846768,\n",
       "  0.511828819138143,\n",
       "  0.5118939029954195,\n",
       "  0.5114128841861819,\n",
       "  0.5117467297091453,\n",
       "  0.5147369807412254,\n",
       "  0.5164103480654959,\n",
       "  0.507661887244282,\n",
       "  0.5148413214578288,\n",
       "  0.5135042854955283,\n",
       "  0.506781872535974,\n",
       "  0.5127798447841821,\n",
       "  0.5108887805054692,\n",
       "  0.5060728156681267,\n",
       "  0.5105349809149908,\n",
       "  0.5106218280315553,\n",
       "  0.5118983849927761,\n",
       "  0.5131677115446838,\n",
       "  0.5173314622889615,\n",
       "  0.5172611276281383],\n",
       " 128000: [0.5214441537455273,\n",
       "  0.5199992543862866,\n",
       "  0.5236453888352957,\n",
       "  0.5197280646655847,\n",
       "  0.5255188224347842,\n",
       "  0.5246910540239248,\n",
       "  0.5251191795742273,\n",
       "  0.5232358805899563,\n",
       "  0.5208201457451113,\n",
       "  0.522055237812313,\n",
       "  0.5142773029199771,\n",
       "  0.5197335038448838,\n",
       "  0.5208645159395049,\n",
       "  0.5183345543974501,\n",
       "  0.5243414934151888,\n",
       "  0.5218289089317787,\n",
       "  0.5207838496475424,\n",
       "  0.5203855204555119,\n",
       "  0.5257178814863305,\n",
       "  0.5273068901678635,\n",
       "  0.5235672479664888,\n",
       "  0.5207352845150494,\n",
       "  0.5235629555615989,\n",
       "  0.5182133467052297,\n",
       "  0.5199296326880317],\n",
       " 256000: [0.5212947408913015,\n",
       "  0.5248769862361207,\n",
       "  0.5222056937058132,\n",
       "  0.5219476313504032,\n",
       "  0.518796526630352,\n",
       "  0.522188920097246,\n",
       "  0.523794740955281,\n",
       "  0.5274407969663647,\n",
       "  0.5234764884582663,\n",
       "  0.5272386093118167,\n",
       "  0.5183671453037236,\n",
       "  0.5259192206202591,\n",
       "  0.5268760182365325,\n",
       "  0.5239311236403771,\n",
       "  0.5268095196850463,\n",
       "  0.5210019575800693,\n",
       "  0.5255020130087351,\n",
       "  0.5248731044262094,\n",
       "  0.5196907959883561,\n",
       "  0.5234343145061708,\n",
       "  0.5243297705981156,\n",
       "  0.5229260632203458,\n",
       "  0.5260693814315154,\n",
       "  0.5266207374926366,\n",
       "  0.5182983175470998],\n",
       " 512000: [0.5197587712279703,\n",
       "  0.5234603618220589,\n",
       "  0.5195238318450938,\n",
       "  0.5195878957425983,\n",
       "  0.5258144139260569,\n",
       "  0.5248316318089361,\n",
       "  0.5230195073510503,\n",
       "  0.5233165764830283,\n",
       "  0.5287265824716872,\n",
       "  0.5268998929895963,\n",
       "  0.5264723846692058,\n",
       "  0.5221453991588855,\n",
       "  0.5258009694097592,\n",
       "  0.512736175431486,\n",
       "  0.5177336921936674,\n",
       "  0.5259206601799195,\n",
       "  0.5224601383344569,\n",
       "  0.5243044627608221,\n",
       "  0.521618435850485,\n",
       "  0.5283338023876847,\n",
       "  0.5194676259758083,\n",
       "  0.518937608294611,\n",
       "  0.5230334390751004,\n",
       "  0.5209628634945955,\n",
       "  0.5203324794552562],\n",
       " 1024000: [0.5289054858052289,\n",
       "  0.5208759282811111,\n",
       "  0.5264161599782834,\n",
       "  0.5295730010034697,\n",
       "  0.5302957036290508,\n",
       "  0.5246409732426354,\n",
       "  0.5223384233082339,\n",
       "  0.5252807942334516,\n",
       "  0.5216313718698683,\n",
       "  0.5252569554619585,\n",
       "  0.5247217253745354,\n",
       "  0.5236802588514518,\n",
       "  0.5282727028045627,\n",
       "  0.5257970233838187,\n",
       "  0.5268051334059995,\n",
       "  0.5299565267526762,\n",
       "  0.5168893963765322,\n",
       "  0.5235463507691113,\n",
       "  0.5272922950524404,\n",
       "  0.5296363567149831,\n",
       "  0.5223208770103558,\n",
       "  0.5226056988642154,\n",
       "  0.5280008891865519,\n",
       "  0.5197870479591666,\n",
       "  0.524969321927866],\n",
       " 2048000: [0.5221541254562003,\n",
       "  0.5210844188147702,\n",
       "  0.5258873697214564,\n",
       "  0.5213902514489083,\n",
       "  0.5273075402390726,\n",
       "  0.5337195178988408,\n",
       "  0.5281123659263741,\n",
       "  0.5239725652253688,\n",
       "  0.5232307776047286,\n",
       "  0.5206652966744423,\n",
       "  0.5319417110289283,\n",
       "  0.5302034324416549,\n",
       "  0.5219974233941408,\n",
       "  0.5261214209186965,\n",
       "  0.525076478828524,\n",
       "  0.5275534818302063,\n",
       "  0.5235422232271956,\n",
       "  0.5242088855158105,\n",
       "  0.5225865071265925,\n",
       "  0.5255914971164947,\n",
       "  0.5262628577481587,\n",
       "  0.5198478257740137,\n",
       "  0.5338174022553399,\n",
       "  0.5201917184575987,\n",
       "  0.529923664813219],\n",
       " 4096000: [0.5243914239774411,\n",
       "  0.5276524200021256,\n",
       "  0.5257417034931438,\n",
       "  0.529999203917063,\n",
       "  0.5243198550629516,\n",
       "  0.5235365770271525,\n",
       "  0.5325330302840947,\n",
       "  0.5199914379250129,\n",
       "  0.5301551560019597,\n",
       "  0.5341016537896253,\n",
       "  0.5269708698136337,\n",
       "  0.5301251074354667,\n",
       "  0.5318476269194765,\n",
       "  0.5268067575131197,\n",
       "  0.5320477334766023,\n",
       "  0.5250540404474313,\n",
       "  0.5281304091489304,\n",
       "  0.5306240379825591,\n",
       "  0.5249494240599548,\n",
       "  0.5293543848960336,\n",
       "  0.5283646981690179,\n",
       "  0.5278103149774188,\n",
       "  0.5195821596584147,\n",
       "  0.5281745271140129,\n",
       "  0.5165985105038988],\n",
       " 8192000: [0.5397721070701339,\n",
       "  0.539450500897217,\n",
       "  0.5406249100366589,\n",
       "  0.5431943213280381,\n",
       "  0.5359658182889391,\n",
       "  0.5320503668280767,\n",
       "  0.5414841612110708,\n",
       "  0.5414013708301328,\n",
       "  0.5349510931099245,\n",
       "  0.546403568994596,\n",
       "  0.5456404186765316,\n",
       "  0.5447698865507392,\n",
       "  0.5387020945629089,\n",
       "  0.5442076382265321,\n",
       "  0.5449696743012622,\n",
       "  0.5402964797970664,\n",
       "  0.5438954957651418,\n",
       "  0.5458778129764867,\n",
       "  0.5411934458504284,\n",
       "  0.5434895823313697,\n",
       "  0.5390346053336099,\n",
       "  0.5413821863622184,\n",
       "  0.5375944340588088,\n",
       "  0.5426221373505905,\n",
       "  0.5390654282982116],\n",
       " 16384000: [0.5442448647124931,\n",
       "  0.544503585489511,\n",
       "  0.5414088646744849,\n",
       "  0.5461198985725998,\n",
       "  0.5521632970192641,\n",
       "  0.5492958305931233,\n",
       "  0.5431041617813716,\n",
       "  0.5468973999278449,\n",
       "  0.5496842003051332,\n",
       "  0.5389012256214724,\n",
       "  0.5503290131005854,\n",
       "  0.5482142924640222,\n",
       "  0.5479042562612809,\n",
       "  0.5475582536050869,\n",
       "  0.5390322988645403,\n",
       "  0.5415743905122704,\n",
       "  0.5458709299672821,\n",
       "  0.5466922030559611,\n",
       "  0.5415727561805577,\n",
       "  0.538632477967022,\n",
       "  0.5421158238484909,\n",
       "  0.5453726855913763,\n",
       "  0.5433035290637063,\n",
       "  0.5504095223653597,\n",
       "  0.5444400650994723]}"
      ]
     },
     "execution_count": 70,
     "metadata": {},
     "output_type": "execute_result"
    }
   ],
   "source": [
    "rocaucs"
   ]
  },
  {
   "cell_type": "code",
   "execution_count": 67,
   "id": "9e499aa5-06e9-4aa2-a668-051d6b37f5e3",
   "metadata": {},
   "outputs": [
    {
     "data": {
      "image/png": "[encoded data removed]",
      "text/plain": [
       "<Figure size 864x648 with 1 Axes>"
      ]
     },
     "metadata": {
      "needs_background": "light"
     },
     "output_type": "display_data"
    }
   ],
   "source": [
    "s = '''w500: rocauc = 0.5088 +- 0.0012\n",
    "w1000: rocauc = 0.5081 +- 0.0022\n",
    "w2000: rocauc = 0.5096 +- 0.0020\n",
    "w4000: rocauc = 0.5076 +- 0.0012\n",
    "w8000: rocauc = 0.5073 +- 0.0021\n",
    "w16000: rocauc = 0.5087 +- 0.0029\n",
    "w32000: rocauc = 0.5075 +- 0.0024\n",
    "w64000: rocauc = 0.5121 +- 0.0021\n",
    "w128000: rocauc = 0.5212 +- 0.0042\n",
    "w256000: rocauc = 0.5221 +- 0.0026\n",
    "w512000: rocauc = 0.5217 +- 0.0025\n",
    "w1024000: rocauc = 0.5255 +- 0.0023\n",
    "w2048000: rocauc = 0.5276 +- 0.0038\n",
    "w4096000: rocauc = 0.5280 +- 0.0031\n",
    "w8192000: rocauc = 0.5424 +- 0.0055\n",
    "w16384000: rocauc = 0.5465 +- 0.0014'''.split('\\n')\n",
    "s = np.array([[float(i.split()[-3]), float(i.split()[-1])] for i in s])\n",
    "s\n",
    "plt.figure(figsize=(12, 9))\n",
    "plt.errorbar([f'{i:.1f}' for i in range(16)], s[:, 0], yerr=s[:, 1], ls='', fmt='s')\n",
    "plt.xlabel('$\\log_2$(window halfwidth / 500)', fontsize=16)\n",
    "plt.ylabel('ROC AUC', fontsize=16)\n",
    "plt.tight_layout()\n",
    "plt.savefig('rocaucs.png')\n"
   ]
  },
  {
   "cell_type": "code",
   "execution_count": null,
   "id": "508ae3f7-a149-4be8-bd38-daf8ad4f8186",
   "metadata": {},
   "outputs": [],
   "source": [
    "wsizes = [500 * 2**i for i in range(16)]\n",
    "vals = {ws: auc for ws, auc in zip(wsizes, [0.]*16) }\n",
    "\n",
    "for i in range(8):\n",
    "    print(f\"{wsizes[i]} & {vals[wsizes[i]]} & {wsizes[i+8]} & {vals[wsizes[i+8]]} \\\\\\\\\\\\hline\")\n"
   ]
  },
  {
   "cell_type": "code",
   "execution_count": 197,
   "id": "b6c5f944-d505-42e7-b3c0-05ebb08394cc",
   "metadata": {},
   "outputs": [
    {
     "data": {
      "text/plain": [
       "array(['./.', '0/0', '0/1', '1/1'], dtype=object)"
      ]
     },
     "execution_count": 197,
     "metadata": {},
     "output_type": "execute_result"
    }
   ],
   "source": [
    "assert (np.unique(variants_df_T.values) == ['./.', '0/0', '0/1', '1/1']).all()\n",
    "np.unique(variants_df_T.values)"
   ]
  },
  {
   "cell_type": "code",
   "execution_count": 198,
   "id": "acb2abfc-81c6-4fac-835c-5b2d5ee11a14",
   "metadata": {},
   "outputs": [
    {
     "data": {
      "text/plain": [
       "488"
      ]
     },
     "execution_count": 198,
     "metadata": {},
     "output_type": "execute_result"
    }
   ],
   "source": [
    "np.sum(variants_df_T.values == './.')"
   ]
  },
  {
   "cell_type": "code",
   "execution_count": 174,
   "id": "f87bec42-1b93-4f75-b34b-5d94bb8076a5",
   "metadata": {},
   "outputs": [
    {
     "name": "stdout",
     "output_type": "stream",
     "text": [
      "75204 \n",
      " 0 0 1 1 1 1 0 1 1 0 1 1 1 0 1 0 0 0 1 0 0 0 1 0 1 1 0 0 1 0\n"
     ]
    }
   ],
   "source": [
    "# takes around 30-40 secs\n",
    "y = [int(i in diabetes_cols) for i in variants_df_T.index.values]\n",
    "print(len(y), '\\n', *y[:30])"
   ]
  },
  {
   "cell_type": "code",
   "execution_count": 201,
   "id": "58d3e0e1-0bdb-4e47-b736-c4a48a731196",
   "metadata": {},
   "outputs": [],
   "source": [
    "X_train, X_test, y_train, y_test = train_test_split(X, y, test_size=0.25)"
   ]
  },
  {
   "cell_type": "code",
   "execution_count": 202,
   "id": "be786826-cb5e-43ab-b3f0-abf94563e33d",
   "metadata": {},
   "outputs": [
    {
     "data": {
      "text/html": [
       "<div>\n",
       "<style scoped>\n",
       "    .dataframe tbody tr th:only-of-type {\n",
       "        vertical-align: middle;\n",
       "    }\n",
       "\n",
       "    .dataframe tbody tr th {\n",
       "        vertical-align: top;\n",
       "    }\n",
       "\n",
       "    .dataframe thead th {\n",
       "        text-align: right;\n",
       "    }\n",
       "</style>\n",
       "<table border=\"1\" class=\"dataframe\">\n",
       "  <thead>\n",
       "    <tr style=\"text-align: right;\">\n",
       "      <th></th>\n",
       "      <th>rs7770557_./.</th>\n",
       "      <th>rs7770557_0/0</th>\n",
       "      <th>rs7770557_0/1</th>\n",
       "      <th>rs7770557_1/1</th>\n",
       "      <th>rs115321330_./.</th>\n",
       "      <th>rs115321330_0/0</th>\n",
       "      <th>rs115321330_0/1</th>\n",
       "      <th>rs115321330_1/1</th>\n",
       "      <th>rs1893250_./.</th>\n",
       "      <th>rs1893250_0/0</th>\n",
       "      <th>rs1893250_0/1</th>\n",
       "      <th>rs1893250_1/1</th>\n",
       "    </tr>\n",
       "  </thead>\n",
       "  <tbody>\n",
       "    <tr>\n",
       "      <th>5864019_5864019</th>\n",
       "      <td>0</td>\n",
       "      <td>1</td>\n",
       "      <td>0</td>\n",
       "      <td>0</td>\n",
       "      <td>0</td>\n",
       "      <td>1</td>\n",
       "      <td>0</td>\n",
       "      <td>0</td>\n",
       "      <td>0</td>\n",
       "      <td>1</td>\n",
       "      <td>0</td>\n",
       "      <td>0</td>\n",
       "    </tr>\n",
       "    <tr>\n",
       "      <th>3282140_3282140</th>\n",
       "      <td>0</td>\n",
       "      <td>1</td>\n",
       "      <td>0</td>\n",
       "      <td>0</td>\n",
       "      <td>0</td>\n",
       "      <td>1</td>\n",
       "      <td>0</td>\n",
       "      <td>0</td>\n",
       "      <td>0</td>\n",
       "      <td>0</td>\n",
       "      <td>1</td>\n",
       "      <td>0</td>\n",
       "    </tr>\n",
       "    <tr>\n",
       "      <th>2154334_2154334</th>\n",
       "      <td>0</td>\n",
       "      <td>1</td>\n",
       "      <td>0</td>\n",
       "      <td>0</td>\n",
       "      <td>0</td>\n",
       "      <td>1</td>\n",
       "      <td>0</td>\n",
       "      <td>0</td>\n",
       "      <td>0</td>\n",
       "      <td>0</td>\n",
       "      <td>1</td>\n",
       "      <td>0</td>\n",
       "    </tr>\n",
       "    <tr>\n",
       "      <th>5656831_5656831</th>\n",
       "      <td>0</td>\n",
       "      <td>1</td>\n",
       "      <td>0</td>\n",
       "      <td>0</td>\n",
       "      <td>0</td>\n",
       "      <td>1</td>\n",
       "      <td>0</td>\n",
       "      <td>0</td>\n",
       "      <td>0</td>\n",
       "      <td>0</td>\n",
       "      <td>1</td>\n",
       "      <td>0</td>\n",
       "    </tr>\n",
       "    <tr>\n",
       "      <th>5590596_5590596</th>\n",
       "      <td>0</td>\n",
       "      <td>0</td>\n",
       "      <td>0</td>\n",
       "      <td>1</td>\n",
       "      <td>0</td>\n",
       "      <td>1</td>\n",
       "      <td>0</td>\n",
       "      <td>0</td>\n",
       "      <td>0</td>\n",
       "      <td>0</td>\n",
       "      <td>1</td>\n",
       "      <td>0</td>\n",
       "    </tr>\n",
       "    <tr>\n",
       "      <th>...</th>\n",
       "      <td>...</td>\n",
       "      <td>...</td>\n",
       "      <td>...</td>\n",
       "      <td>...</td>\n",
       "      <td>...</td>\n",
       "      <td>...</td>\n",
       "      <td>...</td>\n",
       "      <td>...</td>\n",
       "      <td>...</td>\n",
       "      <td>...</td>\n",
       "      <td>...</td>\n",
       "      <td>...</td>\n",
       "    </tr>\n",
       "    <tr>\n",
       "      <th>2861188_2861188</th>\n",
       "      <td>0</td>\n",
       "      <td>1</td>\n",
       "      <td>0</td>\n",
       "      <td>0</td>\n",
       "      <td>0</td>\n",
       "      <td>1</td>\n",
       "      <td>0</td>\n",
       "      <td>0</td>\n",
       "      <td>0</td>\n",
       "      <td>0</td>\n",
       "      <td>0</td>\n",
       "      <td>1</td>\n",
       "    </tr>\n",
       "    <tr>\n",
       "      <th>1039848_1039848</th>\n",
       "      <td>0</td>\n",
       "      <td>1</td>\n",
       "      <td>0</td>\n",
       "      <td>0</td>\n",
       "      <td>0</td>\n",
       "      <td>1</td>\n",
       "      <td>0</td>\n",
       "      <td>0</td>\n",
       "      <td>0</td>\n",
       "      <td>0</td>\n",
       "      <td>1</td>\n",
       "      <td>0</td>\n",
       "    </tr>\n",
       "    <tr>\n",
       "      <th>5042100_5042100</th>\n",
       "      <td>0</td>\n",
       "      <td>1</td>\n",
       "      <td>0</td>\n",
       "      <td>0</td>\n",
       "      <td>0</td>\n",
       "      <td>1</td>\n",
       "      <td>0</td>\n",
       "      <td>0</td>\n",
       "      <td>0</td>\n",
       "      <td>0</td>\n",
       "      <td>1</td>\n",
       "      <td>0</td>\n",
       "    </tr>\n",
       "    <tr>\n",
       "      <th>3249305_3249305</th>\n",
       "      <td>0</td>\n",
       "      <td>1</td>\n",
       "      <td>0</td>\n",
       "      <td>0</td>\n",
       "      <td>0</td>\n",
       "      <td>1</td>\n",
       "      <td>0</td>\n",
       "      <td>0</td>\n",
       "      <td>0</td>\n",
       "      <td>0</td>\n",
       "      <td>1</td>\n",
       "      <td>0</td>\n",
       "    </tr>\n",
       "    <tr>\n",
       "      <th>4696292_4696292</th>\n",
       "      <td>0</td>\n",
       "      <td>0</td>\n",
       "      <td>1</td>\n",
       "      <td>0</td>\n",
       "      <td>0</td>\n",
       "      <td>1</td>\n",
       "      <td>0</td>\n",
       "      <td>0</td>\n",
       "      <td>0</td>\n",
       "      <td>0</td>\n",
       "      <td>1</td>\n",
       "      <td>0</td>\n",
       "    </tr>\n",
       "  </tbody>\n",
       "</table>\n",
       "<p>56403 rows × 12 columns</p>\n",
       "</div>"
      ],
      "text/plain": [
       "                 rs7770557_./.  rs7770557_0/0  rs7770557_0/1  rs7770557_1/1  \\\n",
       "5864019_5864019              0              1              0              0   \n",
       "3282140_3282140              0              1              0              0   \n",
       "2154334_2154334              0              1              0              0   \n",
       "5656831_5656831              0              1              0              0   \n",
       "5590596_5590596              0              0              0              1   \n",
       "...                        ...            ...            ...            ...   \n",
       "2861188_2861188              0              1              0              0   \n",
       "1039848_1039848              0              1              0              0   \n",
       "5042100_5042100              0              1              0              0   \n",
       "3249305_3249305              0              1              0              0   \n",
       "4696292_4696292              0              0              1              0   \n",
       "\n",
       "                 rs115321330_./.  rs115321330_0/0  rs115321330_0/1  \\\n",
       "5864019_5864019                0                1                0   \n",
       "3282140_3282140                0                1                0   \n",
       "2154334_2154334                0                1                0   \n",
       "5656831_5656831                0                1                0   \n",
       "5590596_5590596                0                1                0   \n",
       "...                          ...              ...              ...   \n",
       "2861188_2861188                0                1                0   \n",
       "1039848_1039848                0                1                0   \n",
       "5042100_5042100                0                1                0   \n",
       "3249305_3249305                0                1                0   \n",
       "4696292_4696292                0                1                0   \n",
       "\n",
       "                 rs115321330_1/1  rs1893250_./.  rs1893250_0/0  rs1893250_0/1  \\\n",
       "5864019_5864019                0              0              1              0   \n",
       "3282140_3282140                0              0              0              1   \n",
       "2154334_2154334                0              0              0              1   \n",
       "5656831_5656831                0              0              0              1   \n",
       "5590596_5590596                0              0              0              1   \n",
       "...                          ...            ...            ...            ...   \n",
       "2861188_2861188                0              0              0              0   \n",
       "1039848_1039848                0              0              0              1   \n",
       "5042100_5042100                0              0              0              1   \n",
       "3249305_3249305                0              0              0              1   \n",
       "4696292_4696292                0              0              0              1   \n",
       "\n",
       "                 rs1893250_1/1  \n",
       "5864019_5864019              0  \n",
       "3282140_3282140              0  \n",
       "2154334_2154334              0  \n",
       "5656831_5656831              0  \n",
       "5590596_5590596              0  \n",
       "...                        ...  \n",
       "2861188_2861188              1  \n",
       "1039848_1039848              0  \n",
       "5042100_5042100              0  \n",
       "3249305_3249305              0  \n",
       "4696292_4696292              0  \n",
       "\n",
       "[56403 rows x 12 columns]"
      ]
     },
     "execution_count": 202,
     "metadata": {},
     "output_type": "execute_result"
    }
   ],
   "source": [
    "X_train"
   ]
  },
  {
   "cell_type": "code",
   "execution_count": 203,
   "id": "85727748-f621-4df6-b4cc-65fb43a69fcd",
   "metadata": {},
   "outputs": [
    {
     "data": {
      "text/plain": [
       "LogisticRegression()"
      ]
     },
     "execution_count": 203,
     "metadata": {},
     "output_type": "execute_result"
    }
   ],
   "source": [
    "logreg.fit(X_train, y_train)"
   ]
  },
  {
   "cell_type": "code",
   "execution_count": 210,
   "id": "4b99fdd8-dc2b-4ad5-96a3-4c68436947b4",
   "metadata": {},
   "outputs": [
    {
     "data": {
      "text/plain": [
       "0.5158977976373893"
      ]
     },
     "execution_count": 210,
     "metadata": {},
     "output_type": "execute_result"
    }
   ],
   "source": [
    "roc_auc_score(y_test, logreg.predict_proba(X_test)[:, 1])"
   ]
  },
  {
   "cell_type": "code",
   "execution_count": 207,
   "id": "c19f76e3-22a3-44a1-abbb-25633eb484ed",
   "metadata": {},
   "outputs": [
    {
     "data": {
      "text/plain": [
       "(18801, 2)"
      ]
     },
     "execution_count": 207,
     "metadata": {},
     "output_type": "execute_result"
    }
   ],
   "source": [
    "logreg.predict_proba(X_test).shape"
   ]
  }
 ],
 "metadata": {
  "kernelspec": {
   "display_name": "Python 3 (ipykernel)",
   "language": "python",
   "name": "python3"
  },
  "language_info": {
   "codemirror_mode": {
    "name": "ipython",
    "version": 3
   },
   "file_extension": ".py",
   "mimetype": "text/x-python",
   "name": "python",
   "nbconvert_exporter": "python",
   "pygments_lexer": "ipython3",
   "version": "3.9.7"
  }
 },
 "nbformat": 4,
 "nbformat_minor": 5
}
