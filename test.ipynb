{
 "cells": [
  {
   "cell_type": "code",
   "execution_count": 1,
   "id": "7aa3d350-c395-4325-8609-95b6ddc30dc7",
   "metadata": {},
   "outputs": [],
   "source": [
    "import json\n",
    "import requests\n",
    "\n",
    "import main"
   ]
  },
  {
   "cell_type": "code",
   "execution_count": 2,
   "id": "29771e8c-daa2-43c6-8f65-9da6781ca657",
   "metadata": {},
   "outputs": [],
   "source": [
    "r = requests.get(f'https://adastra.autosome.ru/api/v4/browse/tf')"
   ]
  },
  {
   "cell_type": "code",
   "execution_count": 3,
   "id": "b9575b69-a99f-4362-b773-7d4bde668163",
   "metadata": {},
   "outputs": [],
   "source": [
    "all = json.loads(r.text)['results']"
   ]
  },
  {
   "cell_type": "code",
   "execution_count": null,
   "id": "5f071aba-d0ca-432b-b688-bcb0350e7123",
   "metadata": {},
   "outputs": [],
   "source": []
  },
  {
   "cell_type": "code",
   "execution_count": 13,
   "id": "142f9552-b324-4eea-8e7d-b1b5bad64327",
   "metadata": {},
   "outputs": [
    {
     "data": {
      "text/plain": [
       "{'tf_id': 23,\n",
       " 'name': 'CTCF_HUMAN',\n",
       " 'uniprot_ac': 'P49711',\n",
       " 'gene_name': 'CTCF',\n",
       " 'aggregated_snps_count': 100061,\n",
       " 'aggregated_snps_count005': 37151,\n",
       " 'aggregated_snps_count010': 51115,\n",
       " 'experiments_count': 685}"
      ]
     },
     "execution_count": 13,
     "metadata": {},
     "output_type": "execute_result"
    }
   ],
   "source": [
    "all[0]"
   ]
  },
  {
   "cell_type": "code",
   "execution_count": 5,
   "id": "695686e5-3b72-4b66-8534-6b1f1a5712c4",
   "metadata": {},
   "outputs": [],
   "source": [
    "names = [entry['name'] for entry in all]\n",
    "#counts = [entry['aggregated_snps_count005'] for entry in all]"
   ]
  },
  {
   "cell_type": "code",
   "execution_count": 6,
   "id": "9a7b7a4e-522f-491d-afc6-a2305112900c",
   "metadata": {},
   "outputs": [],
   "source": [
    "name0 = names[0]\n",
    "\n",
    "#https://adastra.autosome.ru/api/v4/search/snps/advanced?page=1&size=100&offset=0&transcription_factors=CTCF_HUMAN"
   ]
  },
  {
   "cell_type": "code",
   "execution_count": 7,
   "id": "54b99a0c-af13-4722-bde9-f0592bd4d05b",
   "metadata": {},
   "outputs": [
    {
     "data": {
      "text/plain": [
       "382814"
      ]
     },
     "execution_count": 7,
     "metadata": {},
     "output_type": "execute_result"
    }
   ],
   "source": [
    "sum([entry['aggregated_snps_count005'] for entry in all])"
   ]
  },
  {
   "cell_type": "code",
   "execution_count": 36,
   "id": "f304973b-fc81-4c6e-9e98-310ae1b5b00c",
   "metadata": {},
   "outputs": [
    {
     "name": "stdout",
     "output_type": "stream",
     "text": [
      "CTCF_HUMAN\n",
      "37151\n",
      "[('chr1', 629963, 629963), ('chr1', 778809, 778809), ('chr1', 779047, 779047), ('chr1', 904520, 904520), ('chr1', 904947, 904947), ('chr1', 976215, 976215), ('chr1', 984618, 984618), ('chr1', 1000731, 1000731), ('chr1', 1002293, 1002293), ('chr1', 1019397, 1019397), ('chr1', 1019698, 1019698), ('chr1', 1059390, 1059390), ('chr1', 1063851, 1063851), ('chr1', 1064216, 1064216), ('chr1', 1064269, 1064269), ('chr1', 1122332, 1122332), ('chr1', 1122432, 1122432), ('chr1', 1124975, 1124975), ('chr1', 1214801, 1214801), ('chr1', 1215384, 1215384), ('chr1', 1230695, 1230695), ('chr1', 1230797, 1230797), ('chr1', 1230825, 1230825), ('chr1', 1250642, 1250642), ('chr1', 1290424, 1290424), ('chr1', 1291814, 1291814), ('chr1', 1302114, 1302114), ('chr1', 1306259, 1306259), ('chr1', 1344761, 1344761), ('chr1', 1349478, 1349478), ('chr1', 1376336, 1376336), ('chr1', 1401840, 1401840), ('chr1', 1417561, 1417561), ('chr1', 1420203, 1420203), ('chr1', 1438187, 1438187), ('chr1', 1440834, 1440834), ('chr1', 1505685, 1505685), ('chr1', 1511847, 1511847), ('chr1', 1615869, 1615869), ('chr1', 1616048, 1616048), ('chr1', 1658866, 1658866), ('chr1', 1659065, 1659065), ('chr1', 1659114, 1659114), ('chr1', 1679085, 1679085), ('chr1', 1724543, 1724543), ('chr1', 1746485, 1746485), ('chr1', 1753319, 1753319), ('chr1', 1764392, 1764392), ('chr1', 1869595, 1869595), ('chr1', 1909234, 1909234), ('chr1', 1909238, 1909238), ('chr1', 1954781, 1954781), ('chr1', 1954946, 1954946), ('chr1', 2044651, 2044651), ('chr1', 2091780, 2091780), ('chr1', 2091957, 2091957), ('chr1', 2139934, 2139934), ('chr1', 2155318, 2155318), ('chr1', 2208477, 2208477), ('chr1', 2382661, 2382661), ('chr1', 2382777, 2382777), ('chr1', 2414527, 2414527), ('chr1', 2416127, 2416127), ('chr1', 2429870, 2429870), ('chr1', 2430227, 2430227), ('chr1', 2459813, 2459813), ('chr1', 2459928, 2459928), ('chr1', 2460052, 2460052), ('chr1', 2529169, 2529169), ('chr1', 2556224, 2556224), ('chr1', 2642639, 2642639), ('chr1', 2786592, 2786592), ('chr1', 2840631, 2840631), ('chr1', 2862002, 2862002), ('chr1', 2862201, 2862201), ('chr1', 2868051, 2868051), ('chr1', 2916885, 2916885), ('chr1', 2922141, 2922141), ('chr1', 2922233, 2922233), ('chr1', 2922443, 2922443), ('chr1', 3012412, 3012412), ('chr1', 3012635, 3012635), ('chr1', 3114558, 3114558), ('chr1', 3114574, 3114574), ('chr1', 3188518, 3188518), ('chr1', 3188596, 3188596), ('chr1', 3188712, 3188712), ('chr1', 3284129, 3284129), ('chr1', 3284330, 3284330), ('chr1', 3320163, 3320163), ('chr1', 3320346, 3320346), ('chr1', 3403500, 3403500), ('chr1', 3453256, 3453256), ('chr1', 3453260, 3453260), ('chr1', 3453283, 3453283), ('chr1', 3453285, 3453285), ('chr1', 3471992, 3471992), ('chr1', 3482420, 3482420), ('chr1', 3483986, 3483986), ('chr1', 3565405, 3565405)]\n",
      "TEAD4_HUMAN\n",
      "1166\n",
      "[('chr1', 1081817, 1081817), ('chr1', 2499178, 2499178), ('chr1', 3083877, 3083877), ('chr1', 3435664, 3435664), ('chr1', 6439099, 6439099), ('chr1', 6776173, 6776173), ('chr1', 8080633, 8080633), ('chr1', 11494507, 11494507), ('chr1', 11664891, 11664891), ('chr1', 12075835, 12075835), ('chr1', 12075859, 12075859), ('chr1', 15175364, 15175364), ('chr1', 15769761, 15769761), ('chr1', 16464918, 16464918), ('chr1', 16636397, 16636397), ('chr1', 16636741, 16636741), ('chr1', 16636943, 16636943), ('chr1', 17404621, 17404621), ('chr1', 19654936, 19654936), ('chr1', 19654958, 19654958), ('chr1', 19885115, 19885115), ('chr1', 20323321, 20323321), ('chr1', 21763632, 21763632), ('chr1', 21871447, 21871447), ('chr1', 24384630, 24384630), ('chr1', 24413470, 24413470), ('chr1', 25892337, 25892337), ('chr1', 26201292, 26201292), ('chr1', 26497140, 26497140), ('chr1', 28443516, 28443516), ('chr1', 29649792, 29649792), ('chr1', 30894701, 30894701), ('chr1', 31397131, 31397131), ('chr1', 31397466, 31397466), ('chr1', 32223920, 32223920), ('chr1', 33342442, 33342442), ('chr1', 34200130, 34200130), ('chr1', 38603694, 38603694), ('chr1', 39976880, 39976880), ('chr1', 40376099, 40376099), ('chr1', 43016860, 43016860), ('chr1', 43729631, 43729631), ('chr1', 43980962, 43980962), ('chr1', 45471033, 45471033), ('chr1', 45929417, 45929417), ('chr1', 46347963, 46347963), ('chr1', 47312459, 47312459), ('chr1', 47418910, 47418910), ('chr1', 48047473, 48047473), ('chr1', 53890915, 53890915), ('chr1', 55429220, 55429220), ('chr1', 61383712, 61383712), ('chr1', 61993486, 61993486), ('chr1', 61993586, 61993586), ('chr1', 62734645, 62734645), ('chr1', 66578753, 66578753), ('chr1', 67792211, 67792211), ('chr1', 67817488, 67817488), ('chr1', 69410195, 69410195), ('chr1', 78345705, 78345705), ('chr1', 78379025, 78379025), ('chr1', 78690718, 78690718), ('chr1', 78690741, 78690741), ('chr1', 81931082, 81931082), ('chr1', 81931117, 81931117), ('chr1', 85584394, 85584394), ('chr1', 87415054, 87415054), ('chr1', 90186711, 90186711), ('chr1', 91603631, 91603631), ('chr1', 91611393, 91611393), ('chr1', 91611446, 91611446), ('chr1', 91611484, 91611484), ('chr1', 91613486, 91613486), ('chr1', 94645544, 94645544), ('chr1', 100047374, 100047374), ('chr1', 110042391, 110042391), ('chr1', 110441013, 110441013), ('chr1', 112509108, 112509108), ('chr1', 119444149, 119444149), ('chr1', 146039391, 146039391), ('chr1', 150538157, 150538157), ('chr1', 151416455, 151416455), ('chr1', 153059503, 153059503), ('chr1', 153549456, 153549456), ('chr1', 153549476, 153549476), ('chr1', 153635155, 153635155), ('chr1', 153704580, 153704580), ('chr1', 158029447, 158029447), ('chr1', 160100122, 160100122), ('chr1', 167573740, 167573740), ('chr1', 168637576, 168637576), ('chr1', 171901456, 171901456), ('chr1', 172641707, 172641707), ('chr1', 180503376, 180503376), ('chr1', 185853850, 185853850), ('chr1', 200905967, 200905967), ('chr1', 201650593, 201650593), ('chr1', 202178328, 202178328), ('chr1', 204296463, 204296463), ('chr1', 205321666, 205321666)]\n"
     ]
    }
   ],
   "source": [
    "for name in names[:2]:  #TODO widen\n",
    "    print(name)\n",
    "    url = f\"https://adastra.autosome.ru/api/v4/search/snps/advanced?page=1&size=1&offset=0&transcription_factors={name}\"\n",
    "    result = requests.get(url)\n",
    "    n_snps = json.loads(result.text)['total']\n",
    "    print(n_snps)\n",
    "    snps = []\n",
    "    for offset in range(0, n_snps, 50)[:2]:  #TODO widen\n",
    "        url = f\"https://adastra.autosome.ru/api/v4/search/snps/advanced?page=1&size=50&offset={offset}&transcription_factors={name}\"\n",
    "        result = requests.get(url)\n",
    "        snps_json = json.loads(result.text)['results']\n",
    "        for snp in snps_json:\n",
    "            snps.append((snp['chromosome'], snp['position'], snp['position']))\n",
    "    print(snps)"
   ]
  },
  {
   "cell_type": "code",
   "execution_count": 18,
   "id": "9a5b11a3-6602-4b68-b1aa-2e921d4d0c4a",
   "metadata": {},
   "outputs": [
    {
     "name": "stdout",
     "output_type": "stream",
     "text": [
      "[\n",
      "  {\n",
      "    \"tf_aggregated_snps\": [\n",
      "      {\n",
      "        \"tf_snp_id\": 224893,\n",
      "        \"motif_log_p_ref\": 1.75283,\n",
      "        \"motif_log_p_alt\": 1.52813,\n",
      "        \"motif_log_2_fc\": null,\n",
      "        \"motif_orientation\": true,\n",
      "        \"motif_position\": 14,\n",
      "        \"motif_concordance\": \"No Hit\",\n",
      "        \"transcription_factor\": {\n",
      "          \"tf_id\": 23,\n",
      "          \"name\": \"CTCF_HUMAN\",\n",
      "          \"uniprot_ac\": \"P49711\",\n",
      "          \"gene_name\": \"CTCF\",\n",
      "          \"aggregated_snps_count\": 100061,\n",
      "          \"aggregated_snps_count005\": 37151,\n",
      "          \"aggregated_snps_count010\": 51115,\n",
      "          \"experiments_count\": 685\n",
      "        },\n",
      "        \"log_p_value_ref\": 2.23163,\n",
      "        \"log_p_value_alt\": 0.0,\n",
      "        \"es_ref\": 1.864,\n",
      "        \"es_alt\": -3.392,\n",
      "        \"is_asb\": true,\n",
      "        \"peak_calls\": 0,\n",
      "        \"peak_callers\": 0\n",
      "      },\n",
      "      {\n",
      "        \"tf_snp_id\": 742227,\n",
      "        \"motif_log_p_ref\": null,\n",
      "        \"motif_log_p_alt\": null,\n",
      "        \"motif_log_2_fc\": null,\n",
      "        \"motif_orientation\": null,\n",
      "        \"motif_position\": null,\n",
      "        \"motif_concordance\": null,\n",
      "        \"transcription_factor\": {\n",
      "          \"tf_id\": 1324,\n",
      "          \"name\": \"MLXIP_HUMAN\",\n",
      "          \"uniprot_ac\": \"Q9HAP2\",\n",
      "          \"gene_name\": \"MLXIP\",\n",
      "          \"aggregated_snps_count\": 36,\n",
      "          \"aggregated_snps_count005\": 3,\n",
      "          \"aggregated_snps_count010\": 9,\n",
      "          \"experiments_count\": 4\n",
      "        },\n",
      "        \"log_p_value_ref\": 1.26556,\n",
      "        \"log_p_value_alt\": 0.0,\n",
      "        \"es_ref\": 1.71,\n",
      "        \"es_alt\": -3.222,\n",
      "        \"is_asb\": true,\n",
      "        \"peak_calls\": 0,\n",
      "        \"peak_callers\": 0\n",
      "      }\n",
      "    ],\n",
      "    \"cl_aggregated_snps\": [\n",
      "      {\n",
      "        \"cl_snp_id\": 1367298,\n",
      "        \"cell_line\": {\n",
      "          \"cl_id\": 3036,\n",
      "          \"name\": \"neutrophils from periferal blood\",\n",
      "          \"aggregated_snps_count\": 2198,\n",
      "          \"aggregated_snps_count005\": 1351,\n",
      "          \"aggregated_snps_count010\": 1679,\n",
      "          \"experiments_count\": 9\n",
      "        },\n",
      "        \"log_p_value_ref\": 2.44618,\n",
      "        \"log_p_value_alt\": 0.0,\n",
      "        \"es_ref\": 1.864,\n",
      "        \"es_alt\": -3.392,\n",
      "        \"is_asb\": true,\n",
      "        \"peak_calls\": 0,\n",
      "        \"peak_callers\": 0\n",
      "      },\n",
      "      {\n",
      "        \"cl_snp_id\": 1418504,\n",
      "        \"cell_line\": {\n",
      "          \"cl_id\": 451,\n",
      "          \"name\": \"skeletal muscle myotubes\",\n",
      "          \"aggregated_snps_count\": 36,\n",
      "          \"aggregated_snps_count005\": 3,\n",
      "          \"aggregated_snps_count010\": 9,\n",
      "          \"experiments_count\": 2\n",
      "        },\n",
      "        \"log_p_value_ref\": 1.26556,\n",
      "        \"log_p_value_alt\": 0.0,\n",
      "        \"es_ref\": 1.71,\n",
      "        \"es_alt\": -3.222,\n",
      "        \"is_asb\": true,\n",
      "        \"peak_calls\": 0,\n",
      "        \"peak_callers\": 0\n",
      "      }\n",
      "    ],\n",
      "    \"has_concordance\": false,\n",
      "    \"chromosome\": \"chr1\",\n",
      "    \"position\": 629963,\n",
      "    \"ref\": \"A\",\n",
      "    \"alt\": \"G\",\n",
      "    \"rs_id\": 41485244,\n",
      "    \"context\": \"ggctatagcaataaaactaggaatAgccccctttcacttctgagtccca\"\n",
      "  }\n",
      "]\n"
     ]
    }
   ],
   "source": [
    "url = \"https://adastra.autosome.ru/api/v4/search/snps/advanced?page=1&size=1&offset=0&transcription_factors=CTCF_HUMAN\"\n",
    "t = requests.get(url)\n",
    "print(json.dumps(json.loads(t.text)['results'], indent=2))"
   ]
  },
  {
   "cell_type": "code",
   "execution_count": 9,
   "id": "eb184c0f-135f-4bbc-8d46-e88d5072a1a8",
   "metadata": {},
   "outputs": [],
   "source": [
    "def fetch_adastra_snps(gene_name):\n",
    "    r = requests.get(f'https://adastra.autosome.ru/api/v4/search/snps/gene_name/{gene_name}&size=1')\n",
    "    if r.status_code == 200:\n",
    "        resp = json.loads(r.text)\n",
    "    else:\n",
    "        #TODO choose or create proper exception\n",
    "        raise Exception(f\"Searched for {gene_name}, got status code: {r.status_code}\")\n",
    "    adastra_snps = resp[\"results\"]\n",
    "    positions = []\n",
    "    for snp in adastra_snps:\n",
    "        #print(json.dumps(snp, indent=2))\n",
    "        #print(f'{snp[\"chromosome\"]}:{snp[\"position\"]}')\n",
    "        positions.append((snp[\"chromosome\"], snp[\"position\"]))\n",
    "    return positions"
   ]
  },
  {
   "cell_type": "code",
   "execution_count": 10,
   "id": "26374eb6-a72d-4d82-95a2-00f42923dbae",
   "metadata": {},
   "outputs": [
    {
     "data": {
      "text/plain": [
       "<function __main__.fetch_adastra_snps(gene_name)>"
      ]
     },
     "execution_count": 10,
     "metadata": {},
     "output_type": "execute_result"
    }
   ],
   "source": [
    "fetch_adastra_snps"
   ]
  },
  {
   "cell_type": "code",
   "execution_count": 11,
   "id": "41d4ff42-1a7a-4344-979d-e2a088b64539",
   "metadata": {},
   "outputs": [
    {
     "name": "stdout",
     "output_type": "stream",
     "text": [
      "{\n",
      "  \"total\": 20,\n",
      "  \"gene\": {\n",
      "    \"gene_id\": \"ENSG00000101076.17\",\n",
      "    \"gene_name\": \"HNF4A\",\n",
      "    \"chromosome\": \"chr20\",\n",
      "    \"start_pos\": 44355700,\n",
      "    \"end_pos\": 44434596,\n",
      "    \"locus_start\": 44350700,\n",
      "    \"locus_end\": 44434596,\n",
      "    \"snps_count\": 57,\n",
      "    \"snps_count010\": 25,\n",
      "    \"eqtl_snps_count\": 4,\n",
      "    \"eqtl_snps_count010\": 4\n",
      "  },\n",
      "  \"results\": [\n",
      "    {\n",
      "      \"tf_aggregated_snps\": [\n",
      "        {\n",
      "          \"tf_snp_id\": 622596,\n",
      "          \"motif_log_p_ref\": 1.24317,\n",
      "          \"motif_log_p_alt\": 1.59775,\n",
      "          \"motif_log_2_fc\": null,\n",
      "          \"motif_orientation\": false,\n",
      "          \"motif_position\": 5,\n",
      "          \"motif_concordance\": \"No Hit\",\n",
      "          \"transcription_factor\": {\n",
      "            \"tf_id\": 86,\n",
      "            \"name\": \"IKZF1_HUMAN\",\n",
      "            \"uniprot_ac\": \"Q13422\",\n",
      "            \"gene_name\": \"IKZF1\",\n",
      "            \"aggregated_snps_count\": 28930,\n",
      "            \"aggregated_snps_count005\": 9480,\n",
      "            \"aggregated_snps_count010\": 14583,\n",
      "            \"experiments_count\": 19\n",
      "          },\n",
      "          \"log_p_value_ref\": 0.0,\n",
      "          \"log_p_value_alt\": 3.71345,\n",
      "          \"es_ref\": -1.862,\n",
      "          \"es_alt\": 2.059,\n",
      "          \"is_asb\": true,\n",
      "          \"peak_calls\": 0,\n",
      "          \"peak_callers\": 0\n",
      "        }\n",
      "      ],\n",
      "      \"cl_aggregated_snps\": [\n",
      "        {\n",
      "          \"cl_snp_id\": 935440,\n",
      "          \"cell_line\": {\n",
      "            \"cl_id\": 618,\n",
      "            \"name\": \"MM1.S (plasma cell myeloma)\",\n",
      "            \"aggregated_snps_count\": 6632,\n",
      "            \"aggregated_snps_count005\": 2231,\n",
      "            \"aggregated_snps_count010\": 3432,\n",
      "            \"experiments_count\": 40\n",
      "          },\n",
      "          \"log_p_value_ref\": 0.0,\n",
      "          \"log_p_value_alt\": 3.69936,\n",
      "          \"es_ref\": -1.862,\n",
      "          \"es_alt\": 2.059,\n",
      "          \"is_asb\": true,\n",
      "          \"peak_calls\": 0,\n",
      "          \"peak_callers\": 0\n",
      "        }\n",
      "      ],\n",
      "      \"has_concordance\": false,\n",
      "      \"chromosome\": \"chr20\",\n",
      "      \"position\": 44354947,\n",
      "      \"ref\": \"C\",\n",
      "      \"alt\": \"T\",\n",
      "      \"rs_id\": 11508796,\n",
      "      \"context\": \"aatggggaaggagaccagaggagaCgccagacaggatgactttgtccca\"\n",
      "    }\n",
      "  ]\n",
      "}\n"
     ]
    }
   ],
   "source": [
    "print(json.dumps(json.loads(requests.get(f'https://adastra.autosome.ru/api/v4/search/snps/gene_name/HNF4A?size=1').text), indent=2))"
   ]
  },
  {
   "cell_type": "code",
   "execution_count": null,
   "id": "9dae5864-fd00-4936-91e4-c02b27d77978",
   "metadata": {},
   "outputs": [],
   "source": []
  },
  {
   "cell_type": "code",
   "execution_count": null,
   "id": "1dab993f-0736-45ca-a8d4-f8e6a518bdde",
   "metadata": {},
   "outputs": [],
   "source": []
  },
  {
   "cell_type": "code",
   "execution_count": null,
   "id": "9ce64c8c-8088-4445-b681-e71f2b02d20b",
   "metadata": {
    "tags": []
   },
   "outputs": [],
   "source": []
  },
  {
   "cell_type": "code",
   "execution_count": null,
   "id": "c2d9e928-0cd5-4ba1-9a70-3cfb1d0c5772",
   "metadata": {},
   "outputs": [],
   "source": []
  },
  {
   "cell_type": "code",
   "execution_count": null,
   "id": "ac448a29-bd7b-4e35-a1d6-044e59f58200",
   "metadata": {},
   "outputs": [],
   "source": []
  },
  {
   "cell_type": "code",
   "execution_count": null,
   "id": "e910c43d-4342-4368-b46d-a6b6b8a0cd16",
   "metadata": {},
   "outputs": [],
   "source": []
  },
  {
   "cell_type": "code",
   "execution_count": null,
   "id": "6d409a59-dfc9-4067-9755-ced9be622ec1",
   "metadata": {},
   "outputs": [],
   "source": []
  }
 ],
 "metadata": {
  "kernelspec": {
   "display_name": "Python 3 (ipykernel)",
   "language": "python",
   "name": "python3"
  },
  "language_info": {
   "codemirror_mode": {
    "name": "ipython",
    "version": 3
   },
   "file_extension": ".py",
   "mimetype": "text/x-python",
   "name": "python",
   "nbconvert_exporter": "python",
   "pygments_lexer": "ipython3",
   "version": "3.8.10"
  },
  "toc-autonumbering": false,
  "toc-showcode": false,
  "toc-showmarkdowntxt": false
 },
 "nbformat": 4,
 "nbformat_minor": 5
}
