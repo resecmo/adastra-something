{
 "cells": [
  {
   "cell_type": "code",
   "execution_count": 2,
   "id": "bc3e4208-5368-4182-ba9a-f6865a2a323d",
   "metadata": {},
   "outputs": [],
   "source": [
    "import subprocess\n",
    "\n",
    "import pandas as pd"
   ]
  },
  {
   "cell_type": "code",
   "execution_count": 79,
   "id": "a806940b-1d62-4fe1-85ad-2b0cd5284c3a",
   "metadata": {},
   "outputs": [],
   "source": [
    "import time\n",
    "def str_time():\n",
    "    return time.strftime(\"%X %x %Z\", time.gmtime())"
   ]
  },
  {
   "cell_type": "code",
   "execution_count": 46,
   "id": "34d16c77-89bb-4d99-989f-9fdcdc478225",
   "metadata": {},
   "outputs": [],
   "source": [
    "PLINK_EXEC_PATH = \"../plink_linux_x86_64_20220402/plink\"\n",
    "BEAGLE_JAR_PATH = \"../beagle/beagle.22Jul22.46e.jar\""
   ]
  },
  {
   "cell_type": "code",
   "execution_count": 6,
   "id": "b24f0a88-b67f-4279-824d-6f44de05e873",
   "metadata": {},
   "outputs": [
    {
     "data": {
      "text/plain": [
       "488377"
      ]
     },
     "execution_count": 6,
     "metadata": {},
     "output_type": "execute_result"
    }
   ],
   "source": [
    "# getting a list of all patients, copied from diabetes_logreg.ipynb\n",
    "\n",
    "smallest_vcf_location = \"../biobank_extracted/extracted_snps_c6_w500.vcf\"\n",
    "\n",
    "r = pd.read_csv(\n",
    "    smallest_vcf_location, \n",
    "    skiprows=range(6), \n",
    "    #usecols=['5825360_5825360', '5467150_5467150'],\n",
    "    sep='\\t',\n",
    "    chunksize=1\n",
    ")\n",
    "\n",
    "one_row = next(r)\n",
    "\n",
    "vcf_all_eids = list({int(s[:len(s)//2]) for s in one_row.columns[9:]})\n",
    "#vcf_all_eids = list(one_row.columns[9:])\n",
    "n_patients = len(vcf_all_eids)\n",
    "len(vcf_all_eids)"
   ]
  },
  {
   "cell_type": "code",
   "execution_count": 7,
   "id": "993f6460-cc35-4976-8f51-378376475b12",
   "metadata": {},
   "outputs": [],
   "source": [
    "n_splits = 1000\n",
    "patient_splits = [vcf_all_eids[i*n_patients//n_splits : (i+1)*n_patients//n_splits]\n",
    "                  for i in range(n_splits)]"
   ]
  },
  {
   "cell_type": "code",
   "execution_count": null,
   "id": "b01a26c7-cbc6-48de-8659-63d8ce3e42dd",
   "metadata": {},
   "outputs": [
    {
     "name": "stdout",
     "output_type": "stream",
     "text": [
      "Started chrom 22 at 17:27:31 12/29/22 GMT\n",
      "Started split 0 at 17:27:31 12/29/22 GMT\n",
      "Finished splitting split 0 at 17:27:34 12/29/22 GMT\n",
      "Finished imputing split 0 at 17:31:34 12/29/22 GMT\n",
      "Started split 1 at 17:31:34 12/29/22 GMT\n",
      "Finished splitting split 1 at 17:31:37 12/29/22 GMT\n",
      "Finished imputing split 1 at 17:35:09 12/29/22 GMT\n",
      "Started split 2 at 17:35:09 12/29/22 GMT\n",
      "Finished splitting split 2 at 17:35:11 12/29/22 GMT\n",
      "Finished imputing split 2 at 17:39:54 12/29/22 GMT\n",
      "Started split 3 at 17:39:54 12/29/22 GMT\n",
      "Finished splitting split 3 at 17:39:56 12/29/22 GMT\n",
      "Finished imputing split 3 at 17:44:51 12/29/22 GMT\n",
      "Started split 4 at 17:44:51 12/29/22 GMT\n",
      "Finished splitting split 4 at 17:44:53 12/29/22 GMT\n",
      "Finished imputing split 4 at 17:49:01 12/29/22 GMT\n",
      "Started split 5 at 17:49:01 12/29/22 GMT\n",
      "Finished splitting split 5 at 17:49:04 12/29/22 GMT\n",
      "Finished imputing split 5 at 17:54:29 12/29/22 GMT\n",
      "Started split 6 at 17:54:29 12/29/22 GMT\n",
      "Finished splitting split 6 at 17:54:32 12/29/22 GMT\n",
      "Finished imputing split 6 at 17:58:10 12/29/22 GMT\n",
      "Started split 7 at 17:58:10 12/29/22 GMT\n",
      "Finished splitting split 7 at 17:58:12 12/29/22 GMT\n"
     ]
    }
   ],
   "source": [
    "print(f'Started chrom 22 at {str_time()}')\n",
    "\n",
    "'''ref_vcf_filename = ('../1000genomes/ftp.1000genomes.ebi.ac.uk/vol1/ftp/'\n",
    "                    'data_collections/1000G_2504_high_coverage/working/'\n",
    "                    '20220422_3202_phased_SNV_INDEL_SV/'\n",
    "                    f'1kGP_high_coverage_Illumina.chr{22}.filtered.SNV_INDEL_SV_phased_panel.vcf.gz')\n",
    "ref_vcf_gunzipped_filename = f'../imputed_beagle/1kGPref.chr{22}.vcf'\n",
    "ref_vcf_recoded_filename = f'../imputed_beagle/1kGPref.chr{22}.nochrpref.vcf'\n",
    "# gunzip vcf.gz, delete chr prefix in chromosome names, and gzip it back\n",
    "with open(ref_vcf_gunzipped_filename, 'w') as ref_vcf_gunzipped_handle:\n",
    "    subprocess.run(['gunzip', '-kc', ref_vcf_filename],\n",
    "                   stdout=ref_vcf_gunzipped_handle)\n",
    "with open(ref_vcf_recoded_filename, 'w') as ref_vcf_recoded_handle:\n",
    "    # !awk '{gsub(/^chr/,\"\"); print}' $ref_vcf_filename > '$ref_vcf_recoded_filename'\n",
    "    subprocess.run(['awk', '{gsub(/^chr/,\"\"); print}', ref_vcf_gunzipped_filename], \n",
    "                   stdout=ref_vcf_recoded_handle)\n",
    "subprocess.run(['gzip', '-f', ref_vcf_recoded_filename])  \n",
    "\n",
    "print(f'Recoded chrom 22 VCF at {str_time()}')'''\n",
    "    \n",
    "for split_number, patient_split in enumerate(patient_splits):\n",
    "    print(f'Started split {split_number} at {str_time()}')\n",
    "    \n",
    "    keep_list_filename = 'keep_list_tmp'\n",
    "    with open(keep_list_filename, 'w') as keep_list_handle:\n",
    "        for patient_id in patient_split:\n",
    "            print(patient_id, patient_id, sep='\\t', file=keep_list_handle)\n",
    "            \n",
    "            \n",
    "    # cutting into splits\n",
    "    split_vcf_prefix = f'../imputed_beagle/c22_split{split_number}'\n",
    "    proc = subprocess.run([PLINK_EXEC_PATH,\n",
    "                           '--bfile', '../ukbiobank_link/raw_data/ukb22418_c22_b0_v2', \n",
    "                           '--keep', keep_list_filename,\n",
    "                           '--recode', 'vcf', 'bgz',\n",
    "                           '--out', split_vcf_prefix\n",
    "                          ], \n",
    "                          capture_output=True)\n",
    "    \n",
    "    print(f'Finished splitting split {split_number} at {str_time()}')\n",
    "    \n",
    "    # imputing each\n",
    "    imputted_split_vcf_prefix = f'../imputed_beagle/c22_split{split_number}_imputted'\n",
    "    subprocess.run(['java', f'-Xmx{50}g', '-jar', BEAGLE_JAR_PATH,\n",
    "                    f'gt={split_vcf_prefix}.vcf.gz', \n",
    "                    f'ref={ref_vcf_recoded_filename}.gz',\n",
    "                    f'out={imputted_split_vcf_prefix}', \n",
    "                    f'map=../beagle/plink_GRCh38_map/plink.chr{22}.GRCh38.map',\n",
    "                    f'nthreads={24}', \n",
    "                    #f'window={8}',\n",
    "                   ],\n",
    "                  capture_output=True)\n",
    "    \n",
    "    print(f'Finished imputing split {split_number} at {str_time()}')\n",
    "    \n",
    "    #subprocess.run(['rm', f'{split_vcf_prefix}.*'])\n",
    "    \n",
    "    "
   ]
  },
  {
   "cell_type": "code",
   "execution_count": 21,
   "id": "53e26484-9859-4527-92e4-4382fa8f813c",
   "metadata": {},
   "outputs": [
    {
     "name": "stdout",
     "output_type": "stream",
     "text": [
      "../ukbiobank_link/raw_data/ukb22418_c22_b0_v2.bed\n",
      "../ukbiobank_link/raw_data/ukb22418_c22_b0_v2.bim\n",
      "../ukbiobank_link/raw_data/ukb22418_c22_b0_v2.fam\n",
      "../ukbiobank_link/raw_data/ukb22418_c22_b0_v2.log\n",
      "../ukbiobank_link/raw_data/ukb22418_c22_b0_v2.nosex\n",
      "../ukbiobank_link/raw_data/ukb22418_c22_b0_v2_s488195.fam\n",
      "../ukbiobank_link/raw_data/ukb22418_c22_b0_v2.vcf\n"
     ]
    }
   ],
   "source": [
    "!ls ../ukbiobank_link/raw_data/*c22*"
   ]
  },
  {
   "cell_type": "code",
   "execution_count": null,
   "id": "7fd7638b-30d8-45fc-a722-17e29e814ac8",
   "metadata": {},
   "outputs": [],
   "source": []
  },
  {
   "cell_type": "code",
   "execution_count": null,
   "id": "e32bf238-6382-4114-a17f-3d54f44b7f93",
   "metadata": {},
   "outputs": [],
   "source": [
    "'''ukb chromosomes have a format of a lone number, while 1000g vcfs\n",
    "also have 'chr' prefix\n",
    "'''"
   ]
  }
 ],
 "metadata": {
  "kernelspec": {
   "display_name": "Python 3 (ipykernel)",
   "language": "python",
   "name": "python3"
  },
  "language_info": {
   "codemirror_mode": {
    "name": "ipython",
    "version": 3
   },
   "file_extension": ".py",
   "mimetype": "text/x-python",
   "name": "python",
   "nbconvert_exporter": "python",
   "pygments_lexer": "ipython3",
   "version": "3.9.7"
  }
 },
 "nbformat": 4,
 "nbformat_minor": 5
}
