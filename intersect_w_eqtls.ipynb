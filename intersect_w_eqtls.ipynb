{
 "cells": [
  {
   "cell_type": "code",
   "execution_count": 17,
   "id": "ee06c682-2dac-491f-ba2c-5fc4d76fdecc",
   "metadata": {},
   "outputs": [],
   "source": [
    "import json\n",
    "import requests\n",
    "import glob\n",
    "import subprocess\n",
    "import main"
   ]
  },
  {
   "cell_type": "code",
   "execution_count": 18,
   "id": "6c5de169-4164-40d6-b52d-0db490650e86",
   "metadata": {},
   "outputs": [],
   "source": [
    "request = requests.get(f'https://adastra.autosome.ru/api/v4/search/snps/eqtl_gene_id/ENSG00000101076')"
   ]
  },
  {
   "cell_type": "code",
   "execution_count": 25,
   "id": "93076219-d25a-4135-98c8-8eee485de1ea",
   "metadata": {},
   "outputs": [
    {
     "data": {
      "text/plain": [
       "[('chr20', 44409210, 44413211),\n",
       " ('chr20', 44409496, 44413497),\n",
       " ('chr20', 44409647, 44413648),\n",
       " ('chr20', 44409552, 44413553)]"
      ]
     },
     "execution_count": 25,
     "metadata": {},
     "output_type": "execute_result"
    }
   ],
   "source": [
    "eqtls = json.loads(request.text)['results']\n",
    "\n",
    "window_halfwidth = 2000\n",
    "eqtl_tuples = []\n",
    "for eqtl in eqtls:\n",
    "    eqtl_tuples.append((eqtl['chromosome'],\n",
    "                        eqtl['position'] - 1 - window_halfwidth,\n",
    "                        eqtl['position'] + window_halfwidth))\n",
    "#print(eqtl_tuples)\n",
    "main.write_tuples_in_bed(eqtl_tuples, \"HNF4A-eqtl.bed\")\n",
    "eqtl_tuples"
   ]
  },
  {
   "cell_type": "code",
   "execution_count": 23,
   "id": "d84287f8-caa0-4d70-8ba7-d947e5f1a593",
   "metadata": {},
   "outputs": [],
   "source": [
    "def find_intersections_tsv_eqtl(bed_files, keep_counts=None):\n",
    "    if keep_counts != [] and keep_counts is not None:\n",
    "        raise ValueError(\"keep_counts should be empty list or None\")\n",
    "    if keep_counts is None:\n",
    "        keep_counts = []\n",
    "\n",
    "    other_bed = \"HNF4A-eqtl.bed\"\n",
    "\n",
    "    intersection_counts = {}\n",
    "    for i, bed_filename in enumerate(bed_files):\n",
    "        if i % 50 == 0:\n",
    "            print(f\"Doing {i}/{len(bed_files)}: {bed_filename}\")\n",
    "        intersection_filename = \"inters_w_hnf4a_eqtl/with_\" + bed_filename.split('/')[-1]\n",
    "        #print(intersection_filename)\n",
    "        with open(intersection_filename, \"bw\") as output_file:\n",
    "            #print([\"bedtools\", \"intersect\", \"-a\", cistrome_bed, \"-b\", bed_filename])\n",
    "            intersection = subprocess.run([\"bedtools\", \"intersect\", \"-a\", other_bed, \"-b\", bed_filename], capture_output=True).stdout\n",
    "            output_file.write(intersection)\n",
    "            #print(intersection, intersection.split(b'\\n'))\n",
    "            \n",
    "            tf_name = bed_filename.split('/')[-1].split('.')[0]\n",
    "            keep_counts.append((tf_name, len(intersection.split(b'\\n')) - 1))\n",
    "\n",
    "    print(f\"{sum(count[1] for count in keep_counts)} intersections found\")"
   ]
  },
  {
   "cell_type": "code",
   "execution_count": 26,
   "id": "21bee515-5160-4fec-9d11-8bc417286508",
   "metadata": {},
   "outputs": [
    {
     "name": "stdout",
     "output_type": "stream",
     "text": [
      "Doing 0/1140: adastra_snps/ZN443_HUMAN.bed\n",
      "Doing 50/1140: adastra_snps/STA5B_HUMAN.bed\n",
      "Doing 100/1140: adastra_snps/ZN776_HUMAN.bed\n",
      "Doing 150/1140: adastra_snps/HXC5_HUMAN.bed\n",
      "Doing 200/1140: adastra_snps/PRDM2_HUMAN.bed\n",
      "Doing 250/1140: adastra_snps/MITF_HUMAN.bed\n",
      "Doing 300/1140: adastra_snps/FOXO1_HUMAN.bed\n",
      "Doing 350/1140: adastra_snps/PPARG_HUMAN.bed\n",
      "Doing 400/1140: adastra_snps/CBP_HUMAN.bed\n",
      "Doing 450/1140: adastra_snps/RING1_HUMAN.bed\n",
      "Doing 500/1140: adastra_snps/CCAR2_HUMAN.bed\n",
      "Doing 550/1140: adastra_snps/PMEPA_HUMAN.bed\n",
      "Doing 600/1140: adastra_snps/RUNX2_HUMAN.bed\n",
      "Doing 650/1140: adastra_snps/ZN619_HUMAN.bed\n",
      "Doing 700/1140: adastra_snps/MYRF_HUMAN.bed\n",
      "Doing 750/1140: adastra_snps/ZN629_HUMAN.bed\n",
      "Doing 800/1140: adastra_snps/PBX4_HUMAN.bed\n",
      "Doing 850/1140: adastra_snps/ZN513_HUMAN.bed\n",
      "Doing 900/1140: adastra_snps/ZN662_HUMAN.bed\n",
      "Doing 950/1140: adastra_snps/INO80_HUMAN.bed\n",
      "Doing 1000/1140: adastra_snps/ZN770_HUMAN.bed\n",
      "Doing 1050/1140: adastra_snps/THA_HUMAN.bed\n",
      "Doing 1100/1140: adastra_snps/ZBT11_HUMAN.bed\n",
      "12 intersections found\n"
     ]
    }
   ],
   "source": [
    "bed_files = glob.glob(\"adastra_snps/*\")\n",
    "intersection_counts = []\n",
    "find_intersections_tsv_eqtl(bed_files, keep_counts=intersection_counts)"
   ]
  },
  {
   "cell_type": "code",
   "execution_count": null,
   "id": "43d0a7cc-5fa9-47a8-aff7-ecf0c82c0528",
   "metadata": {},
   "outputs": [],
   "source": []
  },
  {
   "cell_type": "code",
   "execution_count": null,
   "id": "cf1f2036-b67e-4f20-8824-92bd30ce2f9f",
   "metadata": {},
   "outputs": [],
   "source": []
  }
 ],
 "metadata": {
  "kernelspec": {
   "display_name": "Python 3 (ipykernel)",
   "language": "python",
   "name": "python3"
  },
  "language_info": {
   "codemirror_mode": {
    "name": "ipython",
    "version": 3
   },
   "file_extension": ".py",
   "mimetype": "text/x-python",
   "name": "python",
   "nbconvert_exporter": "python",
   "pygments_lexer": "ipython3",
   "version": "3.8.10"
  }
 },
 "nbformat": 4,
 "nbformat_minor": 5
}
