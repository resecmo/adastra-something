{
 "cells": [
  {
   "cell_type": "code",
   "execution_count": 1,
   "id": "7d561914-f5ec-49dd-8420-20a9b0935198",
   "metadata": {},
   "outputs": [],
   "source": [
    "# The script gets eQTLs of a gene (HNF4a, for now), saves them sorted\n",
    "# and merged (in a two different files); Intersects it with ASBs for\n",
    "# all the TFs (which are stored in adastra_snps/all_tfs.bed)"
   ]
  },
  {
   "cell_type": "code",
   "execution_count": 2,
   "id": "ee06c682-2dac-491f-ba2c-5fc4d76fdecc",
   "metadata": {},
   "outputs": [],
   "source": [
    "import json\n",
    "import requests\n",
    "import subprocess\n",
    "import bedwriter"
   ]
  },
  {
   "cell_type": "code",
   "execution_count": 3,
   "id": "6c5de169-4164-40d6-b52d-0db490650e86",
   "metadata": {},
   "outputs": [],
   "source": [
    "request = requests.get(f'https://adastra.autosome.ru/api/v4/search/snps/eqtl_gene_id/ENSG00000101076')\n",
    "eqtls = json.loads(request.text)['results']"
   ]
  },
  {
   "cell_type": "code",
   "execution_count": 4,
   "id": "93076219-d25a-4135-98c8-8eee485de1ea",
   "metadata": {},
   "outputs": [
    {
     "name": "stdout",
     "output_type": "stream",
     "text": [
      "('chr20', 44409210, 44413211)\n",
      "('chr20', 44409496, 44413497)\n",
      "('chr20', 44409647, 44413648)\n",
      "('chr20', 44409552, 44413553)\n",
      "\n",
      "chr20\t44409210\t44413648\n",
      "\n"
     ]
    }
   ],
   "source": [
    "window_halfwidth = 2000\n",
    "eqtl_tuples = []\n",
    "for eqtl in eqtls:\n",
    "    eqtl_tuples.append((eqtl['chromosome'],\n",
    "                        eqtl['position'] - 1 - window_halfwidth,\n",
    "                        eqtl['position'] + window_halfwidth))\n",
    "bedwriter.write_tuples_in_bed(eqtl_tuples, \"eqtls/HNF4A-eqtl.bed\")\n",
    "print(*eqtl_tuples, sep='\\n', end='\\n\\n')\n",
    "\n",
    "# sort and merge intersecting intervals\n",
    "sorted_bed = subprocess.run([\"bedtools\", \"sort\", \"-i\", \"eqtls/HNF4A-eqtl.bed\"],\n",
    "                            capture_output=True).stdout\n",
    "with open( \"eqtls/HNF4A-eqtl.bed\", 'wb') as f:\n",
    "    f.write(sorted_bed)\n",
    "    \n",
    "merged_bed = subprocess.run([\"bedtools\", \"merge\", \"-i\", \"eqtls/HNF4A-eqtl.bed\"],\n",
    "                            capture_output=True).stdout\n",
    "with open( \"eqtls/HNF4A-eqtl-merged.bed\", 'wb') as f:\n",
    "    f.write(merged_bed)\n",
    "    \n",
    "print(merged_bed.decode())"
   ]
  },
  {
   "cell_type": "code",
   "execution_count": null,
   "id": "cf1f2036-b67e-4f20-8824-92bd30ce2f9f",
   "metadata": {},
   "outputs": [],
   "source": []
  },
  {
   "cell_type": "code",
   "execution_count": 5,
   "id": "d1a25a15-6a7f-41e4-9798-ff9b99e7cefe",
   "metadata": {},
   "outputs": [
    {
     "name": "stdout",
     "output_type": "stream",
     "text": [
      "chr20\t44410399\t44410400\tRBM22_HUMAN\n",
      "chr20\t44411210\t44411211\tRBM22_HUMAN\n",
      "chr20\t44411552\t44411553\tRARA_HUMAN\n",
      "\n"
     ]
    }
   ],
   "source": [
    "intersection = subprocess.run([\"bedtools\", \"intersect\", \"-a\", \"adastra_snps/all_tfs.bed\",\n",
    "                               \"-b\", \"eqtls/HNF4A-eqtl-merged.bed\", \"-wa\"], \n",
    "                              capture_output=True).stdout\n",
    "print(intersection.decode())"
   ]
  },
  {
   "cell_type": "code",
   "execution_count": 6,
   "id": "8f017b30-82a1-4e10-b23e-7d05a0b2d011",
   "metadata": {},
   "outputs": [
    {
     "name": "stdout",
     "output_type": "stream",
     "text": [
      "chr20\t44410399\t44410400\tRBM22_HUMAN\tchr20\t44409210\t44413648\n",
      "chr20\t44411210\t44411211\tRBM22_HUMAN\tchr20\t44409210\t44413648\n",
      "chr20\t44411552\t44411553\tRARA_HUMAN\tchr20\t44409210\t44413648\n",
      "\n"
     ]
    }
   ],
   "source": [
    "intersection = subprocess.run([\"bedtools\", \"intersect\", \"-a\", \"adastra_snps/all_tfs.bed\",\n",
    "                               \"-b\", \"eqtls/HNF4A-eqtl-merged.bed\", \"-wb\"], \n",
    "                              capture_output=True).stdout\n",
    "print(intersection.decode())"
   ]
  },
  {
   "cell_type": "code",
   "execution_count": null,
   "id": "7356f4e8-5539-44d5-9677-dfc7af37b9d0",
   "metadata": {},
   "outputs": [],
   "source": []
  },
  {
   "cell_type": "code",
   "execution_count": null,
   "id": "9eeb161d-8390-4278-9988-02e0ce00e7a4",
   "metadata": {},
   "outputs": [],
   "source": []
  },
  {
   "cell_type": "code",
   "execution_count": 7,
   "id": "29ebaa55-5248-4500-b531-5569c5389432",
   "metadata": {},
   "outputs": [
    {
     "name": "stdout",
     "output_type": "stream",
     "text": [
      "ASBs near eQTLs with target HNF4A:\n",
      "chr20\t44410399\t44410400\tRBM22_HUMAN\n",
      "chr20\t44411210\t44411211\tRBM22_HUMAN\n",
      "chr20\t44411552\t44411553\tRARA_HUMAN\n",
      "\n"
     ]
    }
   ],
   "source": [
    "#or now possible:\n",
    "import asbs_near_eqtls\n",
    "asbs_near_eqtls.find_asbs_near_eqtls('ENSG00000101076', 'HNF4A')"
   ]
  },
  {
   "cell_type": "code",
   "execution_count": null,
   "id": "796684be-fcc2-483f-9ff8-97555d28217f",
   "metadata": {},
   "outputs": [],
   "source": []
  }
 ],
 "metadata": {
  "kernelspec": {
   "display_name": "Python 3 (ipykernel)",
   "language": "python",
   "name": "python3"
  },
  "language_info": {
   "codemirror_mode": {
    "name": "ipython",
    "version": 3
   },
   "file_extension": ".py",
   "mimetype": "text/x-python",
   "name": "python",
   "nbconvert_exporter": "python",
   "pygments_lexer": "ipython3",
   "version": "3.10.4"
  }
 },
 "nbformat": 4,
 "nbformat_minor": 5
}
