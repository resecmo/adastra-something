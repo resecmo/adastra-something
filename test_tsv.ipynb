{
 "cells": [
  {
   "cell_type": "code",
   "execution_count": 1,
   "id": "a90ebafa-d4db-4946-bd7e-f4bb06120a06",
   "metadata": {},
   "outputs": [],
   "source": [
    "import glob\n",
    "import main\n",
    "import subprocess\n",
    "\n",
    "import pandas as pd"
   ]
  },
  {
   "cell_type": "code",
   "execution_count": 2,
   "id": "06498433-7e9b-4c33-a2a7-18bb0d8bc299",
   "metadata": {},
   "outputs": [
    {
     "data": {
      "text/html": [
       "<div>\n",
       "<style scoped>\n",
       "    .dataframe tbody tr th:only-of-type {\n",
       "        vertical-align: middle;\n",
       "    }\n",
       "\n",
       "    .dataframe tbody tr th {\n",
       "        vertical-align: top;\n",
       "    }\n",
       "\n",
       "    .dataframe thead th {\n",
       "        text-align: right;\n",
       "    }\n",
       "</style>\n",
       "<table border=\"1\" class=\"dataframe\">\n",
       "  <thead>\n",
       "    <tr style=\"text-align: right;\">\n",
       "      <th></th>\n",
       "      <th>#chr</th>\n",
       "      <th>pos</th>\n",
       "      <th>fdrp_bh_ref</th>\n",
       "      <th>fdrp_bh_alt</th>\n",
       "    </tr>\n",
       "  </thead>\n",
       "  <tbody>\n",
       "    <tr>\n",
       "      <th>0</th>\n",
       "      <td>chr1</td>\n",
       "      <td>2406687</td>\n",
       "      <td>0.696739</td>\n",
       "      <td>0.579110</td>\n",
       "    </tr>\n",
       "    <tr>\n",
       "      <th>1</th>\n",
       "      <td>chr1</td>\n",
       "      <td>2506456</td>\n",
       "      <td>0.617020</td>\n",
       "      <td>0.652714</td>\n",
       "    </tr>\n",
       "    <tr>\n",
       "      <th>2</th>\n",
       "      <td>chr1</td>\n",
       "      <td>2506868</td>\n",
       "      <td>0.719304</td>\n",
       "      <td>0.627044</td>\n",
       "    </tr>\n",
       "    <tr>\n",
       "      <th>3</th>\n",
       "      <td>chr1</td>\n",
       "      <td>2506954</td>\n",
       "      <td>0.528243</td>\n",
       "      <td>0.693341</td>\n",
       "    </tr>\n",
       "    <tr>\n",
       "      <th>4</th>\n",
       "      <td>chr1</td>\n",
       "      <td>2507389</td>\n",
       "      <td>0.088303</td>\n",
       "      <td>0.989680</td>\n",
       "    </tr>\n",
       "  </tbody>\n",
       "</table>\n",
       "</div>"
      ],
      "text/plain": [
       "   #chr      pos  fdrp_bh_ref  fdrp_bh_alt\n",
       "0  chr1  2406687     0.696739     0.579110\n",
       "1  chr1  2506456     0.617020     0.652714\n",
       "2  chr1  2506868     0.719304     0.627044\n",
       "3  chr1  2506954     0.528243     0.693341\n",
       "4  chr1  2507389     0.088303     0.989680"
      ]
     },
     "execution_count": 2,
     "metadata": {},
     "output_type": "execute_result"
    }
   ],
   "source": [
    "tsv_filename = \"/home/resecmo/vigg/release_Zanthar/release_dump/TF/AGO2_HUMAN.tsv\"\n",
    "ago2 = pd.read_csv(tsv_filename, sep='\\t', usecols=[0, 1, 14, 15])\n",
    "ago2.head(5)"
   ]
  },
  {
   "cell_type": "code",
   "execution_count": 21,
   "id": "c32bd964-2a95-4f1e-89c4-1724d3f830c6",
   "metadata": {},
   "outputs": [],
   "source": [
    "def copy_significant_snvs(src_files, dst_dir, p_thr=0.05, keep_counts=None):\n",
    "    if keep_counts != [] and keep_counts is not None:\n",
    "        raise ValueError(\"keep_counts should be empty list or None\")\n",
    "    print(f\"Copying SNVs from {'/'.join(src_files[0].split('/')[:-1])} to {dst_dir}, p_value threshold = {p_thr}\")\n",
    "    for i, tsv_filename in enumerate(src_files):\n",
    "        if i % 50 == 0:        \n",
    "            print(f\"Doing {i}/{len(src_files)}: {tsv_filename.split('/')[-1]}\")\n",
    "        bed_filename = dst_dir + '/' + tsv_filename.split('/')[-1][:-4] + \".bed\"\n",
    "\n",
    "        df = pd.read_csv(tsv_filename, sep='\\t', usecols=[0, 1, 14, 15])\n",
    "\n",
    "        snps = []\n",
    "        for i in range(df.shape[0]):\n",
    "            if ((df[\"fdrp_bh_ref\"][i] < p_thr) or (df[\"fdrp_bh_alt\"][i] < p_thr)):\n",
    "                snps.append((df[\"#chr\"][i], df[\"pos\"][i]))\n",
    "        keep_counts.append(len(snps))\n",
    "        main.write_positions_in_bed(snps, bed_filename)\n",
    "    \n",
    "    #print(significant_snv_counts)"
   ]
  },
  {
   "cell_type": "code",
   "execution_count": 23,
   "id": "4805d0c1-710f-4d7c-9902-5b3a647b23ba",
   "metadata": {},
   "outputs": [
    {
     "name": "stdout",
     "output_type": "stream",
     "text": [
      "Copying SNVs from /home/resecmo/vigg/release_Zanthar/release_dump/TF to adastra_snps, p_value threshold = 0.05\n",
      "Doing 0/1140: ZN222_HUMAN.tsv\n",
      "Doing 50/1140: HNRPK_HUMAN.tsv\n",
      "Doing 100/1140: MZF1_HUMAN.tsv\n",
      "Doing 150/1140: ARI3A_HUMAN.tsv\n",
      "Doing 200/1140: ZN674_HUMAN.tsv\n",
      "Doing 250/1140: ZN697_HUMAN.tsv\n",
      "Doing 300/1140: ETS2_HUMAN.tsv\n",
      "Doing 350/1140: ZN423_HUMAN.tsv\n",
      "Doing 400/1140: ZN623_HUMAN.tsv\n",
      "Doing 450/1140: NR1H3_HUMAN.tsv\n",
      "Doing 500/1140: ZN224_HUMAN.tsv\n",
      "Doing 550/1140: ENL_HUMAN.tsv\n",
      "Doing 600/1140: CDK12_HUMAN.tsv\n",
      "Doing 650/1140: IRF5_HUMAN.tsv\n",
      "Doing 700/1140: HNRPL_HUMAN.tsv\n",
      "Doing 750/1140: ZN660_HUMAN.tsv\n",
      "Doing 800/1140: BICRA_HUMAN.tsv\n",
      "Doing 850/1140: PHX2B_HUMAN.tsv\n",
      "Doing 900/1140: GATA1_HUMAN.tsv\n",
      "Doing 950/1140: ZN212_HUMAN.tsv\n",
      "Doing 1000/1140: ANDR_HUMAN.tsv\n",
      "Doing 1050/1140: KLF9_HUMAN.tsv\n",
      "Doing 1100/1140: HLF_HUMAN.tsv\n"
     ]
    }
   ],
   "source": [
    "tsv_files = glob.glob(\"/home/resecmo/vigg/release_Zanthar/release_dump/TF/*\")\n",
    "#print(tsv_files[:3])\n",
    "\n",
    "significant_snv_counts = []\n",
    "copy_significant_snvs(tsv_files, \"adastra_snps\", p_thr=0.05, keep_counts=significant_snv_counts)\n",
    "#print(significant_snv_counts)"
   ]
  },
  {
   "cell_type": "code",
   "execution_count": 4,
   "id": "df16fc07-ee6c-4f6e-b143-1ae8df5ae6fa",
   "metadata": {},
   "outputs": [
    {
     "data": {
      "text/plain": [
       "['adastra_snps/ZN443_HUMAN.bed',\n",
       " 'adastra_snps/SALL3_HUMAN.bed',\n",
       " 'adastra_snps/UBP7_HUMAN.bed']"
      ]
     },
     "execution_count": 4,
     "metadata": {},
     "output_type": "execute_result"
    }
   ],
   "source": [
    "bed_files = glob.glob(\"adastra_snps/*\")\n",
    "bed_files[:3]"
   ]
  },
  {
   "cell_type": "code",
   "execution_count": 15,
   "id": "23f8761d-c2e4-4919-8c97-97e3ae3e289d",
   "metadata": {},
   "outputs": [],
   "source": [
    "def find_intersections(bed_files):\n",
    "    cistrome_bed = \"/home/resecmo/vigg/cistrome_hg38/hg38_cistrome/HNF4A_HUMAN.A.bed\"\n",
    "\n",
    "    intersection_counts = []\n",
    "    for i, bed_filename in enumerate(bed_files):\n",
    "        if i % 50 == 0:\n",
    "            print(f\"Doing {bed_filename}\")\n",
    "        intersection_filename = \"intersections/with_\" + bed_filename.split('/')[-1]\n",
    "        #print(intersection_filename)\n",
    "        with open(intersection_filename, \"bw\") as output_file:\n",
    "            intersection = subprocess.run([\"bedtools\", \"intersect\", \"-a\", cistrome_bed, \"-b\", bed_filename], capture_output=True).stdout\n",
    "            output_file.write(intersection)\n",
    "            intersection_counts.append(len(intersection.split(b'\\n')) - 1)\n",
    "\n",
    "    print(f\"{sum(intersection_counts)} intersections found\")"
   ]
  },
  {
   "cell_type": "code",
   "execution_count": 16,
   "id": "75c47635-c1fb-4502-a963-0cdb15e79fd6",
   "metadata": {},
   "outputs": [
    {
     "name": "stdout",
     "output_type": "stream",
     "text": [
      "Doing adastra_snps/ZN443_HUMAN.bed\n",
      "Doing adastra_snps/STA5B_HUMAN.bed\n",
      "Doing adastra_snps/ZN776_HUMAN.bed\n",
      "Doing adastra_snps/HXC5_HUMAN.bed\n",
      "Doing adastra_snps/PRDM2_HUMAN.bed\n",
      "Doing adastra_snps/MITF_HUMAN.bed\n",
      "Doing adastra_snps/FOXO1_HUMAN.bed\n",
      "Doing adastra_snps/PPARG_HUMAN.bed\n",
      "Doing adastra_snps/CBP_HUMAN.bed\n",
      "Doing adastra_snps/RING1_HUMAN.bed\n",
      "Doing adastra_snps/CCAR2_HUMAN.bed\n",
      "Doing adastra_snps/PMEPA_HUMAN.bed\n",
      "Doing adastra_snps/RUNX2_HUMAN.bed\n",
      "Doing adastra_snps/ZN619_HUMAN.bed\n",
      "Doing adastra_snps/MYRF_HUMAN.bed\n",
      "Doing adastra_snps/ZN629_HUMAN.bed\n",
      "Doing adastra_snps/PBX4_HUMAN.bed\n",
      "Doing adastra_snps/ZN513_HUMAN.bed\n",
      "Doing adastra_snps/ZN662_HUMAN.bed\n",
      "Doing adastra_snps/INO80_HUMAN.bed\n",
      "Doing adastra_snps/ZN770_HUMAN.bed\n",
      "Doing adastra_snps/THA_HUMAN.bed\n",
      "Doing adastra_snps/ZBT11_HUMAN.bed\n",
      "33018 intersections found\n"
     ]
    }
   ],
   "source": [
    "bed_files = glob.glob(\"adastra_snps/*\")\n",
    "#print(bed_files[:3])\n",
    "find_intersections(bed_files)"
   ]
  },
  {
   "cell_type": "code",
   "execution_count": null,
   "id": "0e219cc0-2219-40ce-b997-b65a589313b7",
   "metadata": {},
   "outputs": [],
   "source": []
  }
 ],
 "metadata": {
  "kernelspec": {
   "display_name": "Python 3 (ipykernel)",
   "language": "python",
   "name": "python3"
  },
  "language_info": {
   "codemirror_mode": {
    "name": "ipython",
    "version": 3
   },
   "file_extension": ".py",
   "mimetype": "text/x-python",
   "name": "python",
   "nbconvert_exporter": "python",
   "pygments_lexer": "ipython3",
   "version": "3.8.10"
  }
 },
 "nbformat": 4,
 "nbformat_minor": 5
}
