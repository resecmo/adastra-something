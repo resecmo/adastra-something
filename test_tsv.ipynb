{
 "cells": [
  {
   "cell_type": "code",
   "execution_count": 1,
   "id": "a90ebafa-d4db-4946-bd7e-f4bb06120a06",
   "metadata": {},
   "outputs": [],
   "source": [
    "import glob\n",
    "import bedwriter\n",
    "import subprocess\n",
    "\n",
    "import numpy as np\n",
    "import pandas as pd"
   ]
  },
  {
   "cell_type": "code",
   "execution_count": 2,
   "id": "06498433-7e9b-4c33-a2a7-18bb0d8bc299",
   "metadata": {},
   "outputs": [
    {
     "data": {
      "text/html": [
       "<div>\n",
       "<style scoped>\n",
       "    .dataframe tbody tr th:only-of-type {\n",
       "        vertical-align: middle;\n",
       "    }\n",
       "\n",
       "    .dataframe tbody tr th {\n",
       "        vertical-align: top;\n",
       "    }\n",
       "\n",
       "    .dataframe thead th {\n",
       "        text-align: right;\n",
       "    }\n",
       "</style>\n",
       "<table border=\"1\" class=\"dataframe\">\n",
       "  <thead>\n",
       "    <tr style=\"text-align: right;\">\n",
       "      <th></th>\n",
       "      <th>#chr</th>\n",
       "      <th>pos</th>\n",
       "      <th>fdrp_bh_ref</th>\n",
       "      <th>fdrp_bh_alt</th>\n",
       "    </tr>\n",
       "  </thead>\n",
       "  <tbody>\n",
       "    <tr>\n",
       "      <th>0</th>\n",
       "      <td>chr1</td>\n",
       "      <td>2406687</td>\n",
       "      <td>0.696739</td>\n",
       "      <td>0.579110</td>\n",
       "    </tr>\n",
       "    <tr>\n",
       "      <th>1</th>\n",
       "      <td>chr1</td>\n",
       "      <td>2506456</td>\n",
       "      <td>0.617020</td>\n",
       "      <td>0.652714</td>\n",
       "    </tr>\n",
       "    <tr>\n",
       "      <th>2</th>\n",
       "      <td>chr1</td>\n",
       "      <td>2506868</td>\n",
       "      <td>0.719304</td>\n",
       "      <td>0.627044</td>\n",
       "    </tr>\n",
       "    <tr>\n",
       "      <th>3</th>\n",
       "      <td>chr1</td>\n",
       "      <td>2506954</td>\n",
       "      <td>0.528243</td>\n",
       "      <td>0.693341</td>\n",
       "    </tr>\n",
       "    <tr>\n",
       "      <th>4</th>\n",
       "      <td>chr1</td>\n",
       "      <td>2507389</td>\n",
       "      <td>0.088303</td>\n",
       "      <td>0.989680</td>\n",
       "    </tr>\n",
       "  </tbody>\n",
       "</table>\n",
       "</div>"
      ],
      "text/plain": [
       "   #chr      pos  fdrp_bh_ref  fdrp_bh_alt\n",
       "0  chr1  2406687     0.696739     0.579110\n",
       "1  chr1  2506456     0.617020     0.652714\n",
       "2  chr1  2506868     0.719304     0.627044\n",
       "3  chr1  2506954     0.528243     0.693341\n",
       "4  chr1  2507389     0.088303     0.989680"
      ]
     },
     "execution_count": 2,
     "metadata": {},
     "output_type": "execute_result"
    }
   ],
   "source": [
    "tsv_filename = \"/home/resecmo/vigg/release_Zanthar/release_dump/TF/AGO2_HUMAN.tsv\"\n",
    "ago2 = pd.read_csv(tsv_filename, sep='\\t', usecols=[0, 1, 14, 15])\n",
    "ago2.head(5)"
   ]
  },
  {
   "cell_type": "code",
   "execution_count": 9,
   "id": "c32bd964-2a95-4f1e-89c4-1724d3f830c6",
   "metadata": {},
   "outputs": [],
   "source": [
    "def copy_significant_snvs(src_files, dst_dir, p_thr=0.05, keep_counts=None):\n",
    "    if keep_counts != [] and keep_counts is not None:\n",
    "        raise ValueError(\"keep_counts should be empty list or None\")\n",
    "    print(f\"Copying SNVs from {'/'.join(src_files[0].split('/')[:-1])} to {dst_dir}, p_value threshold = {p_thr}\")\n",
    "    for i, tsv_filename in enumerate(src_files):\n",
    "        if i % 50 == 0:        \n",
    "            print(f\"Doing {i}/{len(src_files)}: {tsv_filename.split('/')[-1]}\")\n",
    "        \n",
    "        gene_name = tsv_filename.split('/')[-1][:-4]\n",
    "        bed_filename = dst_dir + '/tfs/' + gene_name + \".bed\"\n",
    "\n",
    "        df = pd.read_csv(tsv_filename, sep='\\t', usecols=[0, 1, 14, 15])\n",
    "\n",
    "        snps = []\n",
    "        for i in range(df.shape[0]):\n",
    "            if ((df[\"fdrp_bh_ref\"][i] < p_thr) or (df[\"fdrp_bh_alt\"][i] < p_thr)):\n",
    "                snps.append((df[\"#chr\"][i], df[\"pos\"][i]))\n",
    "        tf_name = tsv_filename.split('/')[-1].split('.')[0]\n",
    "        keep_counts.append((tf_name, len(snps)))\n",
    "        bedwriter.write_positions_in_bed(snps, bed_filename)\n",
    "        bedwriter.write_positions_in_bed(snps, dst_dir + \"/all_tfs.bed\", append=True, label=gene_name)\n",
    "    \n",
    "    #print(significant_snv_counts)"
   ]
  },
  {
   "cell_type": "code",
   "execution_count": 10,
   "id": "4805d0c1-710f-4d7c-9902-5b3a647b23ba",
   "metadata": {},
   "outputs": [
    {
     "name": "stdout",
     "output_type": "stream",
     "text": [
      "Copying SNVs from /home/resecmo/vigg/release_Zanthar/release_dump/TF to adastra_snps, p_value threshold = 0.05\n",
      "Doing 0/1140: ZN222_HUMAN.tsv\n",
      "Doing 50/1140: HNRPK_HUMAN.tsv\n",
      "Doing 100/1140: MZF1_HUMAN.tsv\n",
      "Doing 150/1140: ARI3A_HUMAN.tsv\n",
      "Doing 200/1140: ZN674_HUMAN.tsv\n",
      "Doing 250/1140: ZN697_HUMAN.tsv\n",
      "Doing 300/1140: ETS2_HUMAN.tsv\n",
      "Doing 350/1140: ZN423_HUMAN.tsv\n",
      "Doing 400/1140: ZN623_HUMAN.tsv\n",
      "Doing 450/1140: NR1H3_HUMAN.tsv\n",
      "Doing 500/1140: ZN224_HUMAN.tsv\n",
      "Doing 550/1140: ENL_HUMAN.tsv\n",
      "Doing 600/1140: CDK12_HUMAN.tsv\n",
      "Doing 650/1140: IRF5_HUMAN.tsv\n",
      "Doing 700/1140: HNRPL_HUMAN.tsv\n",
      "Doing 750/1140: ZN660_HUMAN.tsv\n",
      "Doing 800/1140: BICRA_HUMAN.tsv\n",
      "Doing 850/1140: PHX2B_HUMAN.tsv\n",
      "Doing 900/1140: GATA1_HUMAN.tsv\n",
      "Doing 950/1140: ZN212_HUMAN.tsv\n",
      "Doing 1000/1140: ANDR_HUMAN.tsv\n",
      "Doing 1050/1140: KLF9_HUMAN.tsv\n",
      "Doing 1100/1140: HLF_HUMAN.tsv\n"
     ]
    }
   ],
   "source": [
    "tsv_files = glob.glob(\"/home/resecmo/vigg/release_Zanthar/release_dump/TF/*\")\n",
    "#print(tsv_files[:3])\n",
    "\n",
    "significant_snv_counts = []\n",
    "copy_significant_snvs(tsv_files, \"adastra_snps\", p_thr=0.05, keep_counts=significant_snv_counts)"
   ]
  },
  {
   "cell_type": "code",
   "execution_count": 5,
   "id": "0b9a78b4-aaa6-41ff-ae6a-0bc8c178eefb",
   "metadata": {},
   "outputs": [
    {
     "data": {
      "text/plain": [
       "[('ZN222_HUMAN', 0),\n",
       " ('ZBT24_HUMAN', 18),\n",
       " ('CATA_HUMAN', 330),\n",
       " ('KLF5_HUMAN', 279),\n",
       " ('RBM22_HUMAN', 118),\n",
       " ('MYRF_HUMAN', 0),\n",
       " ('ZN445_HUMAN', 0),\n",
       " ('NONO_HUMAN', 17),\n",
       " ('LHX2_HUMAN', 0),\n",
       " ('HNF4G_HUMAN', 59)]"
      ]
     },
     "execution_count": 5,
     "metadata": {},
     "output_type": "execute_result"
    }
   ],
   "source": [
    "significant_snv_counts[:10]\n",
    "#tsv_files[1]"
   ]
  },
  {
   "cell_type": "code",
   "execution_count": 6,
   "id": "df16fc07-ee6c-4f6e-b143-1ae8df5ae6fa",
   "metadata": {},
   "outputs": [
    {
     "data": {
      "text/plain": [
       "['adastra_snps/ZN443_HUMAN.bed',\n",
       " 'adastra_snps/SALL3_HUMAN.bed',\n",
       " 'adastra_snps/UBP7_HUMAN.bed']"
      ]
     },
     "execution_count": 6,
     "metadata": {},
     "output_type": "execute_result"
    }
   ],
   "source": [
    "bed_files = glob.glob(\"adastra_snps/*\")\n",
    "bed_files[:3]"
   ]
  },
  {
   "cell_type": "code",
   "execution_count": 7,
   "id": "f320dc10-be47-4fb7-ad3a-2ef62e85996b",
   "metadata": {},
   "outputs": [
    {
     "name": "stdout",
     "output_type": "stream",
     "text": [
      "['chr1\\t93909752\\t93909753\\n', 'chr12\\t95424776\\t95424777\\n', 'chr17\\t65057105\\t65057106\\n', 'chr17\\t78523887\\t78523888\\n', 'chr2\\t36352953\\t36352954\\n', 'chr2\\t171523425\\t171523426\\n', 'chr4\\t10171394\\t10171395\\n', 'chr4\\t74683011\\t74683012\\n', 'chr4\\t188505770\\t188505771\\n', 'chr5\\t54500670\\t54500671\\n', 'chr5\\t66494838\\t66494839\\n', 'chr5\\t127297711\\t127297712\\n', 'chr5\\t151924744\\t151924745\\n', 'chr6\\t32473863\\t32473864\\n', 'chr6\\t47474134\\t47474135\\n', 'chr6\\t155314450\\t155314451\\n', 'chr8\\t80107467\\t80107468\\n', 'chr8\\t81732206\\t81732207\\n']\n"
     ]
    }
   ],
   "source": [
    "with open('adastra_snps/ZBT24_HUMAN.bed') as f:\n",
    "    print(f.readlines())"
   ]
  },
  {
   "cell_type": "code",
   "execution_count": 8,
   "id": "23f8761d-c2e4-4919-8c97-97e3ae3e289d",
   "metadata": {},
   "outputs": [],
   "source": [
    "def find_intersections(bed_files, keep_counts=None):\n",
    "    if keep_counts != [] and keep_counts is not None:\n",
    "        raise ValueError(\"keep_counts should be empty list or None\")\n",
    "    if keep_counts is None:\n",
    "        keep_counts = []\n",
    "\n",
    "    cistrome_bed = \"/home/resecmo/vigg/cistrome_hg38/hg38_cistrome/HNF4A_HUMAN.A.bed\"\n",
    "\n",
    "    intersection_counts = {}\n",
    "    for i, bed_filename in enumerate(bed_files):\n",
    "        if i % 50 == 0:\n",
    "            print(f\"Doing {i}/{len(bed_files)}: {bed_filename}\")\n",
    "        intersection_filename = \"intersections/with_\" + bed_filename.split('/')[-1]\n",
    "        #print(intersection_filename)\n",
    "        with open(intersection_filename, \"bw\") as output_file:\n",
    "            #print([\"bedtools\", \"intersect\", \"-a\", cistrome_bed, \"-b\", bed_filename])\n",
    "            intersection = subprocess.run([\"bedtools\", \"intersect\", \"-a\", cistrome_bed, \"-b\", bed_filename], capture_output=True).stdout\n",
    "            output_file.write(intersection)\n",
    "            #print(intersection, intersection.split(b'\\n'))\n",
    "            \n",
    "            tf_name = bed_filename.split('/')[-1].split('.')[0]\n",
    "            keep_counts.append((tf_name, len(intersection.split(b'\\n')) - 1))\n",
    "\n",
    "    print(f\"{sum(count[1] for count in keep_counts)} intersections found\")"
   ]
  },
  {
   "cell_type": "code",
   "execution_count": 9,
   "id": "75c47635-c1fb-4502-a963-0cdb15e79fd6",
   "metadata": {},
   "outputs": [
    {
     "name": "stdout",
     "output_type": "stream",
     "text": [
      "Doing 0/1140: adastra_snps/ZN443_HUMAN.bed\n",
      "Doing 50/1140: adastra_snps/STA5B_HUMAN.bed\n",
      "Doing 100/1140: adastra_snps/ZN776_HUMAN.bed\n",
      "Doing 150/1140: adastra_snps/HXC5_HUMAN.bed\n",
      "Doing 200/1140: adastra_snps/PRDM2_HUMAN.bed\n",
      "Doing 250/1140: adastra_snps/MITF_HUMAN.bed\n",
      "Doing 300/1140: adastra_snps/FOXO1_HUMAN.bed\n",
      "Doing 350/1140: adastra_snps/PPARG_HUMAN.bed\n",
      "Doing 400/1140: adastra_snps/CBP_HUMAN.bed\n",
      "Doing 450/1140: adastra_snps/RING1_HUMAN.bed\n",
      "Doing 500/1140: adastra_snps/CCAR2_HUMAN.bed\n",
      "Doing 550/1140: adastra_snps/PMEPA_HUMAN.bed\n",
      "Doing 600/1140: adastra_snps/RUNX2_HUMAN.bed\n",
      "Doing 650/1140: adastra_snps/ZN619_HUMAN.bed\n",
      "Doing 700/1140: adastra_snps/MYRF_HUMAN.bed\n",
      "Doing 750/1140: adastra_snps/ZN629_HUMAN.bed\n",
      "Doing 800/1140: adastra_snps/PBX4_HUMAN.bed\n",
      "Doing 850/1140: adastra_snps/ZN513_HUMAN.bed\n",
      "Doing 900/1140: adastra_snps/ZN662_HUMAN.bed\n",
      "Doing 950/1140: adastra_snps/INO80_HUMAN.bed\n",
      "Doing 1000/1140: adastra_snps/ZN770_HUMAN.bed\n",
      "Doing 1050/1140: adastra_snps/THA_HUMAN.bed\n",
      "Doing 1100/1140: adastra_snps/ZBT11_HUMAN.bed\n",
      "33018 intersections found\n"
     ]
    }
   ],
   "source": [
    "bed_files = glob.glob(\"adastra_snps/*\")\n",
    "#print(bed_files[:3])\n",
    "\n",
    "intersection_counts = []\n",
    "find_intersections(bed_files, keep_counts=intersection_counts)"
   ]
  },
  {
   "cell_type": "code",
   "execution_count": 10,
   "id": "992cbf31-3899-443c-85cf-67cf7d18a2c7",
   "metadata": {},
   "outputs": [
    {
     "data": {
      "text/plain": [
       "[('ADNP_HUMAN', 1, 1, 1.0),\n",
       " ('ASH2L_HUMAN', 1, 1, 1.0),\n",
       " ('CBLL2_HUMAN', 1, 1, 1.0),\n",
       " ('DCP1A_HUMAN', 1, 1, 1.0),\n",
       " ('FOXJ2_HUMAN', 1, 1, 1.0),\n",
       " ('HBP1_HUMAN', 1, 1, 1.0),\n",
       " ('HNRL1_HUMAN', 1, 1, 1.0),\n",
       " ('HNRPL_HUMAN', 1, 1, 1.0),\n",
       " ('KDM3A_HUMAN', 1, 1, 1.0),\n",
       " ('KLF6_HUMAN', 1, 1, 1.0),\n",
       " ('MCRS1_HUMAN', 1, 1, 1.0),\n",
       " ('NR0B1_HUMAN', 1, 1, 1.0),\n",
       " ('PRKDC_HUMAN', 1, 1, 1.0),\n",
       " ('RUVB2_HUMAN', 1, 1, 1.0),\n",
       " ('SUMO1_HUMAN', 1, 1, 1.0),\n",
       " ('TBG1_HUMAN', 1, 1, 1.0),\n",
       " ('TET1_HUMAN', 1, 1, 1.0),\n",
       " ('TET2_HUMAN', 1, 1, 1.0),\n",
       " ('THOC4_HUMAN', 1, 1, 1.0),\n",
       " ('WDHD1_HUMAN', 1, 1, 1.0)]"
      ]
     },
     "execution_count": 10,
     "metadata": {},
     "output_type": "execute_result"
    }
   ],
   "source": [
    "significant_snv_counts.sort()\n",
    "intersection_counts.sort()\n",
    "a = []\n",
    "for gene_snv_count, gene_intersection_count in zip(significant_snv_counts, intersection_counts):\n",
    "    gene_name = gene_snv_count[0]\n",
    "    ratio = gene_intersection_count[1] / gene_snv_count[1] if gene_snv_count[1] else None  # rename....\n",
    "    a.append((gene_name, gene_snv_count[1], gene_intersection_count[1], ratio))\n",
    "gene_ratios = list(filter(lambda x: x[1] != 0, a))\n",
    "sorted(gene_ratios, key=lambda x: x[3], reverse=True)[:20]"
   ]
  },
  {
   "cell_type": "code",
   "execution_count": 11,
   "id": "23c97e56-a8ff-4e00-aa08-0bc7f2c2d663",
   "metadata": {},
   "outputs": [],
   "source": [
    "a = np.array(gene_ratios)\n",
    "pd.DataFrame(dict(gene=a[:, 0], ratio=a[:, 3], snv_count=a[:, 1], intersections_count=a[:, 2])).to_csv('intersection_ratios.csv')"
   ]
  },
  {
   "cell_type": "code",
   "execution_count": 12,
   "id": "1e3246a4-a55e-40df-8f35-cf1abe1cd50f",
   "metadata": {},
   "outputs": [
    {
     "data": {
      "text/plain": [
       "[array(['HNF1A_HUMAN', '19', '11', '0.5789473684210527'], dtype='<U32'),\n",
       " array(['HNF1B_HUMAN', '4', '0', '0.0'], dtype='<U32'),\n",
       " array(['HNF4A_HUMAN', '2447', '1008', '0.41193297915815286'], dtype='<U32'),\n",
       " array(['HNF4G_HUMAN', '59', '13', '0.22033898305084745'], dtype='<U32')]"
      ]
     },
     "execution_count": 12,
     "metadata": {},
     "output_type": "execute_result"
    }
   ],
   "source": [
    "list(filter(lambda x: \"HNF\" in x[0], a))"
   ]
  },
  {
   "cell_type": "code",
   "execution_count": 13,
   "id": "46288c63-9e46-4647-a306-13b78f53599d",
   "metadata": {},
   "outputs": [
    {
     "data": {
      "text/plain": [
       "[array(['FOXA1_HUMAN', '11855', '609', '0.05137072964993673'], dtype='<U32'),\n",
       " array(['FOXA2_HUMAN', '3170', '506', '0.15962145110410095'], dtype='<U32'),\n",
       " array(['FOXA3_HUMAN', '300', '107', '0.3566666666666667'], dtype='<U32'),\n",
       " array(['FOXJ2_HUMAN', '1', '1', '1.0'], dtype='<U32'),\n",
       " array(['FOXK2_HUMAN', '9984', '1026', '0.10276442307692307'], dtype='<U32'),\n",
       " array(['FOXM1_HUMAN', '54', '7', '0.12962962962962962'], dtype='<U32'),\n",
       " array(['FOXO1_HUMAN', '65', '3', '0.046153846153846156'], dtype='<U32'),\n",
       " array(['FOXO3_HUMAN', '4', '3', '0.75'], dtype='<U32'),\n",
       " array(['FOXP1_HUMAN', '1357', '168', '0.12380250552689757'], dtype='<U32'),\n",
       " array(['RFOX2_HUMAN', '892', '171', '0.19170403587443946'], dtype='<U32')]"
      ]
     },
     "execution_count": 13,
     "metadata": {},
     "output_type": "execute_result"
    }
   ],
   "source": [
    "list(filter(lambda x: \"FOX\" in x[0], a))"
   ]
  },
  {
   "cell_type": "code",
   "execution_count": 14,
   "id": "1f26c40c-92e7-4e8b-b57b-41b1524318ac",
   "metadata": {},
   "outputs": [
    {
     "data": {
      "text/plain": [
       "[]"
      ]
     },
     "execution_count": 14,
     "metadata": {},
     "output_type": "execute_result"
    }
   ],
   "source": [
    "list(filter(lambda x: \"HEP\" in x[0], a))"
   ]
  },
  {
   "cell_type": "code",
   "execution_count": 15,
   "id": "0e219cc0-2219-40ce-b997-b65a589313b7",
   "metadata": {},
   "outputs": [
    {
     "data": {
      "text/plain": [
       "\"tf_names = [tf_name[0] for tf_name in intersection_counts]  ## TODO\\n#print(tf_names)\\nratio = [(tf_name, \\n          significant_snv_counts[tf_name],\\n          intersection_counts[tf_name] / significant_snv_counts[tf_name] \\n              if significant_snv_counts[tf_name] \\n              else None)\\n         for tf_name in tf_names]\\n#ratio = [snv_count / max(intersection_count, 1e-30) for snv_count, intersection_count in zip(significant_snv_counts, intersection_counts)]\\nratio_nonempty = dict(filter(lambda x: x[1] is not None, ratio.items()))\\nprint(*sorted(ratio_nonempty.items(), key=lambda x: x[1]), sep='\\n')\""
      ]
     },
     "execution_count": 15,
     "metadata": {},
     "output_type": "execute_result"
    }
   ],
   "source": [
    "\"\"\"tf_names = [tf_name[0] for tf_name in intersection_counts]  ## TODO\n",
    "#print(tf_names)\n",
    "ratio = [(tf_name, \n",
    "          significant_snv_counts[tf_name],\n",
    "          intersection_counts[tf_name] / significant_snv_counts[tf_name] \n",
    "              if significant_snv_counts[tf_name] \n",
    "              else None)\n",
    "         for tf_name in tf_names]\n",
    "#ratio = [snv_count / max(intersection_count, 1e-30) for snv_count, intersection_count in zip(significant_snv_counts, intersection_counts)]\n",
    "ratio_nonempty = dict(filter(lambda x: x[1] is not None, ratio.items()))\n",
    "print(*sorted(ratio_nonempty.items(), key=lambda x: x[1]), sep='\\n')\"\"\""
   ]
  },
  {
   "cell_type": "code",
   "execution_count": 16,
   "id": "4c8ee4dc-469a-459a-a48e-ab07df11e53e",
   "metadata": {},
   "outputs": [
    {
     "data": {
      "text/plain": [
       "{0: [3, 6, 4], 2: [3, 5, 3], 3: [1, 7, 4], 5: [4, 4, 6]}"
      ]
     },
     "execution_count": 16,
     "metadata": {},
     "output_type": "execute_result"
    }
   ],
   "source": [
    "dic = { 0: [3,6,4], 1: [1,1,2], 2: [3,5,3], 3: [1,7,4], 4: [1,3,3], 5: [4,4,6] }\n",
    "dict(filter(lambda e: sum(e[1]) > 10, dic.items()))"
   ]
  },
  {
   "cell_type": "code",
   "execution_count": 17,
   "id": "d3afe3c7-5749-43df-b75f-d90679aef232",
   "metadata": {},
   "outputs": [
    {
     "name": "stdout",
     "output_type": "stream",
     "text": [
      "3088269832\n"
     ]
    }
   ],
   "source": [
    "df = pd.read_csv(\"chr_hg38_struct.tsv\", delimiter='\\t')\n",
    "chr_names = df[\"UCSC-style-name\"]\n",
    "chr_len = df[\"Sequence-Length\"]\n",
    "\n",
    "print(sum(chr_len))\n",
    "#dict(zip(chr_names, chr_len))"
   ]
  },
  {
   "cell_type": "code",
   "execution_count": 18,
   "id": "56206226-2d13-4e7d-867f-5c1f2bc3a8a2",
   "metadata": {},
   "outputs": [
    {
     "name": "stdout",
     "output_type": "stream",
     "text": [
      "14082642 0.004560042601873268\n",
      "9936925 0.0032176349673320903\n",
      "7494373 0.0024267222126592987\n",
      "373857 0.00012105710327710768\n"
     ]
    }
   ],
   "source": [
    "for qual in ('A', 'B', 'C', 'D'):\n",
    "    total_cistr_length = 0\n",
    "    with open(f\"/home/resecmo/vigg/cistrome_hg38/hg38_cistrome/HNF4A_HUMAN.{qual}.bed\") as cistr_file:\n",
    "        for line in cistr_file.readlines():\n",
    "            sp = line.strip().split('\\t');\n",
    "            #print(sp)\n",
    "            total_cistr_length += int(sp[2]) - int(sp[1])\n",
    "\n",
    "    print(total_cistr_length, total_cistr_length /  sum(chr_len))"
   ]
  },
  {
   "cell_type": "code",
   "execution_count": 19,
   "id": "9c886b22-9f12-419b-b56a-154ea032c551",
   "metadata": {},
   "outputs": [
    {
     "data": {
      "text/plain": [
       "'630091\\n'"
      ]
     },
     "execution_count": 19,
     "metadata": {},
     "output_type": "execute_result"
    }
   ],
   "source": [
    "'630091\\n'"
   ]
  }
 ],
 "metadata": {
  "kernelspec": {
   "display_name": "Python 3 (ipykernel)",
   "language": "python",
   "name": "python3"
  },
  "language_info": {
   "codemirror_mode": {
    "name": "ipython",
    "version": 3
   },
   "file_extension": ".py",
   "mimetype": "text/x-python",
   "name": "python",
   "nbconvert_exporter": "python",
   "pygments_lexer": "ipython3",
   "version": "3.10.4"
  }
 },
 "nbformat": 4,
 "nbformat_minor": 5
}
